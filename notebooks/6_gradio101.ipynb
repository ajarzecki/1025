{
 "cells": [
  {
   "cell_type": "markdown",
   "id": "7d03c236-f607-4803-9bb5-193301d4be20",
   "metadata": {
    "tags": []
   },
   "source": [
    "# First steps"
   ]
  },
  {
   "cell_type": "markdown",
   "id": "bcc2c3dd-4612-4fdd-b348-6fe2ecbf9fab",
   "metadata": {
    "tags": []
   },
   "source": [
    "## Installation"
   ]
  },
  {
   "cell_type": "code",
   "execution_count": 4,
   "id": "393c7871-784b-4662-b285-c081020ec363",
   "metadata": {
    "collapsed": true,
    "jupyter": {
     "outputs_hidden": true
    },
    "tags": []
   },
   "outputs": [
    {
     "name": "stdout",
     "output_type": "stream",
     "text": [
      "Requirement already satisfied: gradio in /Users/bartoszpampuch/src/blinkin/llm/venv/lib/python3.10/site-packages (3.40.1)\n",
      "Requirement already satisfied: aiofiles<24.0,>=22.0 in /Users/bartoszpampuch/src/blinkin/llm/venv/lib/python3.10/site-packages (from gradio) (23.2.1)\n",
      "Requirement already satisfied: fastapi in /Users/bartoszpampuch/src/blinkin/llm/venv/lib/python3.10/site-packages (from gradio) (0.101.1)\n",
      "Requirement already satisfied: httpx in /Users/bartoszpampuch/src/blinkin/llm/venv/lib/python3.10/site-packages (from gradio) (0.25.0)\n",
      "Requirement already satisfied: pyyaml<7.0,>=5.0 in /Users/bartoszpampuch/src/blinkin/llm/venv/lib/python3.10/site-packages (from gradio) (6.0.1)\n",
      "Requirement already satisfied: typing-extensions~=4.0 in /Users/bartoszpampuch/src/blinkin/llm/venv/lib/python3.10/site-packages (from gradio) (4.7.1)\n",
      "Requirement already satisfied: uvicorn>=0.14.0 in /Users/bartoszpampuch/src/blinkin/llm/venv/lib/python3.10/site-packages (from gradio) (0.23.2)\n",
      "Requirement already satisfied: requests~=2.0 in /Users/bartoszpampuch/src/blinkin/llm/venv/lib/python3.10/site-packages (from gradio) (2.31.0)\n",
      "Requirement already satisfied: aiohttp~=3.0 in /Users/bartoszpampuch/src/blinkin/llm/venv/lib/python3.10/site-packages (from gradio) (3.8.5)\n",
      "Requirement already satisfied: semantic-version~=2.0 in /Users/bartoszpampuch/src/blinkin/llm/venv/lib/python3.10/site-packages (from gradio) (2.10.0)\n",
      "Requirement already satisfied: pydub in /Users/bartoszpampuch/src/blinkin/llm/venv/lib/python3.10/site-packages (from gradio) (0.25.1)\n",
      "Requirement already satisfied: matplotlib~=3.0 in /Users/bartoszpampuch/src/blinkin/llm/venv/lib/python3.10/site-packages (from gradio) (3.7.2)\n",
      "Requirement already satisfied: markdown-it-py[linkify]>=2.0.0 in /Users/bartoszpampuch/src/blinkin/llm/venv/lib/python3.10/site-packages (from gradio) (3.0.0)\n",
      "Requirement already satisfied: pandas<3.0,>=1.0 in /Users/bartoszpampuch/src/blinkin/llm/venv/lib/python3.10/site-packages (from gradio) (2.1.0)\n",
      "Requirement already satisfied: huggingface-hub>=0.14.0 in /Users/bartoszpampuch/src/blinkin/llm/venv/lib/python3.10/site-packages (from gradio) (0.17.1)\n",
      "Requirement already satisfied: orjson~=3.0 in /Users/bartoszpampuch/src/blinkin/llm/venv/lib/python3.10/site-packages (from gradio) (3.9.7)\n",
      "Requirement already satisfied: pillow<11.0,>=8.0 in /Users/bartoszpampuch/src/blinkin/llm/venv/lib/python3.10/site-packages (from gradio) (9.5.0)\n",
      "Requirement already satisfied: pydantic!=1.8,!=1.8.1,!=2.0.0,!=2.0.1,<3.0.0,>=1.7.4 in /Users/bartoszpampuch/src/blinkin/llm/venv/lib/python3.10/site-packages (from gradio) (1.10.12)\n",
      "Requirement already satisfied: websockets<12.0,>=10.0 in /Users/bartoszpampuch/src/blinkin/llm/venv/lib/python3.10/site-packages (from gradio) (11.0.3)\n",
      "Requirement already satisfied: markupsafe~=2.0 in /Users/bartoszpampuch/src/blinkin/llm/venv/lib/python3.10/site-packages (from gradio) (2.1.3)\n",
      "Requirement already satisfied: numpy~=1.0 in /Users/bartoszpampuch/src/blinkin/llm/venv/lib/python3.10/site-packages (from gradio) (1.25.2)\n",
      "Requirement already satisfied: gradio-client>=0.4.0 in /Users/bartoszpampuch/src/blinkin/llm/venv/lib/python3.10/site-packages (from gradio) (0.4.0)\n",
      "Requirement already satisfied: altair<6.0,>=4.2.0 in /Users/bartoszpampuch/src/blinkin/llm/venv/lib/python3.10/site-packages (from gradio) (5.1.1)\n",
      "Requirement already satisfied: importlib-resources<7.0,>=1.3 in /Users/bartoszpampuch/src/blinkin/llm/venv/lib/python3.10/site-packages (from gradio) (6.0.1)\n",
      "Requirement already satisfied: jinja2<4.0 in /Users/bartoszpampuch/src/blinkin/llm/venv/lib/python3.10/site-packages (from gradio) (3.1.2)\n",
      "Requirement already satisfied: python-multipart in /Users/bartoszpampuch/src/blinkin/llm/venv/lib/python3.10/site-packages (from gradio) (0.0.6)\n",
      "Requirement already satisfied: packaging in /Users/bartoszpampuch/src/blinkin/llm/venv/lib/python3.10/site-packages (from gradio) (23.1)\n",
      "Requirement already satisfied: ffmpy in /Users/bartoszpampuch/src/blinkin/llm/venv/lib/python3.10/site-packages (from gradio) (0.3.1)\n",
      "Requirement already satisfied: mdit-py-plugins<=0.3.3 in /Users/bartoszpampuch/src/blinkin/llm/venv/lib/python3.10/site-packages (from gradio) (0.3.3)\n",
      "Requirement already satisfied: frozenlist>=1.1.1 in /Users/bartoszpampuch/src/blinkin/llm/venv/lib/python3.10/site-packages (from aiohttp~=3.0->gradio) (1.4.0)\n",
      "Requirement already satisfied: charset-normalizer<4.0,>=2.0 in /Users/bartoszpampuch/src/blinkin/llm/venv/lib/python3.10/site-packages (from aiohttp~=3.0->gradio) (3.2.0)\n",
      "Requirement already satisfied: yarl<2.0,>=1.0 in /Users/bartoszpampuch/src/blinkin/llm/venv/lib/python3.10/site-packages (from aiohttp~=3.0->gradio) (1.9.2)\n",
      "Requirement already satisfied: aiosignal>=1.1.2 in /Users/bartoszpampuch/src/blinkin/llm/venv/lib/python3.10/site-packages (from aiohttp~=3.0->gradio) (1.3.1)\n",
      "Requirement already satisfied: attrs>=17.3.0 in /Users/bartoszpampuch/src/blinkin/llm/venv/lib/python3.10/site-packages (from aiohttp~=3.0->gradio) (23.1.0)\n",
      "Requirement already satisfied: multidict<7.0,>=4.5 in /Users/bartoszpampuch/src/blinkin/llm/venv/lib/python3.10/site-packages (from aiohttp~=3.0->gradio) (6.0.4)\n",
      "Requirement already satisfied: async-timeout<5.0,>=4.0.0a3 in /Users/bartoszpampuch/src/blinkin/llm/venv/lib/python3.10/site-packages (from aiohttp~=3.0->gradio) (4.0.3)\n",
      "Requirement already satisfied: toolz in /Users/bartoszpampuch/src/blinkin/llm/venv/lib/python3.10/site-packages (from altair<6.0,>=4.2.0->gradio) (0.12.0)\n",
      "Requirement already satisfied: jsonschema>=3.0 in /Users/bartoszpampuch/src/blinkin/llm/venv/lib/python3.10/site-packages (from altair<6.0,>=4.2.0->gradio) (4.19.0)\n",
      "Requirement already satisfied: fsspec in /Users/bartoszpampuch/src/blinkin/llm/venv/lib/python3.10/site-packages (from gradio-client>=0.4.0->gradio) (2023.9.0)\n",
      "Requirement already satisfied: filelock in /Users/bartoszpampuch/src/blinkin/llm/venv/lib/python3.10/site-packages (from huggingface-hub>=0.14.0->gradio) (3.12.4)\n",
      "Requirement already satisfied: tqdm>=4.42.1 in /Users/bartoszpampuch/src/blinkin/llm/venv/lib/python3.10/site-packages (from huggingface-hub>=0.14.0->gradio) (4.66.1)\n",
      "Requirement already satisfied: mdurl~=0.1 in /Users/bartoszpampuch/src/blinkin/llm/venv/lib/python3.10/site-packages (from markdown-it-py[linkify]>=2.0.0->gradio) (0.1.2)\n",
      "Requirement already satisfied: linkify-it-py<3,>=1 in /Users/bartoszpampuch/src/blinkin/llm/venv/lib/python3.10/site-packages (from markdown-it-py[linkify]>=2.0.0->gradio) (2.0.2)\n",
      "Requirement already satisfied: pyparsing<3.1,>=2.3.1 in /Users/bartoszpampuch/src/blinkin/llm/venv/lib/python3.10/site-packages (from matplotlib~=3.0->gradio) (3.0.9)\n",
      "Requirement already satisfied: fonttools>=4.22.0 in /Users/bartoszpampuch/src/blinkin/llm/venv/lib/python3.10/site-packages (from matplotlib~=3.0->gradio) (4.42.1)\n",
      "Requirement already satisfied: cycler>=0.10 in /Users/bartoszpampuch/src/blinkin/llm/venv/lib/python3.10/site-packages (from matplotlib~=3.0->gradio) (0.11.0)\n",
      "Requirement already satisfied: contourpy>=1.0.1 in /Users/bartoszpampuch/src/blinkin/llm/venv/lib/python3.10/site-packages (from matplotlib~=3.0->gradio) (1.1.0)\n",
      "Requirement already satisfied: python-dateutil>=2.7 in /Users/bartoszpampuch/src/blinkin/llm/venv/lib/python3.10/site-packages (from matplotlib~=3.0->gradio) (2.8.2)\n",
      "Requirement already satisfied: kiwisolver>=1.0.1 in /Users/bartoszpampuch/src/blinkin/llm/venv/lib/python3.10/site-packages (from matplotlib~=3.0->gradio) (1.4.4)\n",
      "Collecting mdit-py-plugins<=0.3.3\n",
      "  Using cached mdit_py_plugins-0.3.2-py3-none-any.whl (50 kB)\n",
      "  Using cached mdit_py_plugins-0.3.1-py3-none-any.whl (46 kB)\n",
      "  Using cached mdit_py_plugins-0.3.0-py3-none-any.whl (43 kB)\n",
      "  Using cached mdit_py_plugins-0.2.8-py3-none-any.whl (41 kB)\n",
      "  Using cached mdit_py_plugins-0.2.7-py3-none-any.whl (41 kB)\n",
      "  Using cached mdit_py_plugins-0.2.6-py3-none-any.whl (39 kB)\n",
      "  Using cached mdit_py_plugins-0.2.5-py3-none-any.whl (39 kB)\n",
      "  Using cached mdit_py_plugins-0.2.4-py3-none-any.whl (39 kB)\n",
      "  Using cached mdit_py_plugins-0.2.3-py3-none-any.whl (39 kB)\n",
      "  Using cached mdit_py_plugins-0.2.2-py3-none-any.whl (39 kB)\n",
      "  Using cached mdit_py_plugins-0.2.1-py3-none-any.whl (38 kB)\n",
      "  Using cached mdit_py_plugins-0.2.0-py3-none-any.whl (38 kB)\n",
      "  Using cached mdit_py_plugins-0.1.0-py3-none-any.whl (37 kB)\n",
      "INFO: pip is looking at multiple versions of matplotlib to determine which version is compatible with other requirements. This could take a while.\n",
      "Collecting matplotlib~=3.0\n",
      "  Downloading matplotlib-3.8.0-cp310-cp310-macosx_11_0_arm64.whl (7.5 MB)\n",
      "\u001b[2K     \u001b[38;2;114;156;31m━━━━━━━━━━━━━━━━━━━━━━━━━━━━━━━━━━━━━━━━\u001b[0m \u001b[32m7.5/7.5 MB\u001b[0m \u001b[31m12.9 MB/s\u001b[0m eta \u001b[36m0:00:00\u001b[0mm eta \u001b[36m0:00:01\u001b[0m0:01\u001b[0m:01\u001b[0m\n",
      "\u001b[?25hINFO: pip is looking at multiple versions of markupsafe to determine which version is compatible with other requirements. This could take a while.\n",
      "Collecting markupsafe~=2.0\n",
      "  Using cached MarkupSafe-2.1.3-cp310-cp310-macosx_10_9_universal2.whl (17 kB)\n",
      "INFO: pip is looking at multiple versions of markdown-it-py[linkify] to determine which version is compatible with other requirements. This could take a while.\n",
      "Collecting markdown-it-py[linkify]>=2.0.0\n",
      "  Using cached markdown_it_py-3.0.0-py3-none-any.whl (87 kB)\n",
      "  Using cached markdown_it_py-2.2.0-py3-none-any.whl (84 kB)\n",
      "Requirement already satisfied: pytz>=2020.1 in /Users/bartoszpampuch/src/blinkin/llm/venv/lib/python3.10/site-packages (from pandas<3.0,>=1.0->gradio) (2023.3.post1)\n",
      "Requirement already satisfied: tzdata>=2022.1 in /Users/bartoszpampuch/src/blinkin/llm/venv/lib/python3.10/site-packages (from pandas<3.0,>=1.0->gradio) (2023.3)\n",
      "Requirement already satisfied: idna<4,>=2.5 in /Users/bartoszpampuch/src/blinkin/llm/venv/lib/python3.10/site-packages (from requests~=2.0->gradio) (3.4)\n",
      "Requirement already satisfied: certifi>=2017.4.17 in /Users/bartoszpampuch/src/blinkin/llm/venv/lib/python3.10/site-packages (from requests~=2.0->gradio) (2023.7.22)\n",
      "Requirement already satisfied: urllib3<3,>=1.21.1 in /Users/bartoszpampuch/src/blinkin/llm/venv/lib/python3.10/site-packages (from requests~=2.0->gradio) (2.0.4)\n",
      "Requirement already satisfied: click>=7.0 in /Users/bartoszpampuch/src/blinkin/llm/venv/lib/python3.10/site-packages (from uvicorn>=0.14.0->gradio) (8.1.7)\n",
      "Requirement already satisfied: h11>=0.8 in /Users/bartoszpampuch/src/blinkin/llm/venv/lib/python3.10/site-packages (from uvicorn>=0.14.0->gradio) (0.14.0)\n",
      "Requirement already satisfied: starlette<0.28.0,>=0.27.0 in /Users/bartoszpampuch/src/blinkin/llm/venv/lib/python3.10/site-packages (from fastapi->gradio) (0.27.0)\n",
      "Requirement already satisfied: httpcore<0.19.0,>=0.18.0 in /Users/bartoszpampuch/src/blinkin/llm/venv/lib/python3.10/site-packages (from httpx->gradio) (0.18.0)\n",
      "Requirement already satisfied: sniffio in /Users/bartoszpampuch/src/blinkin/llm/venv/lib/python3.10/site-packages (from httpx->gradio) (1.3.0)\n",
      "Requirement already satisfied: anyio<5.0,>=3.0 in /Users/bartoszpampuch/src/blinkin/llm/venv/lib/python3.10/site-packages (from httpcore<0.19.0,>=0.18.0->httpx->gradio) (4.0.0)\n",
      "Requirement already satisfied: referencing>=0.28.4 in /Users/bartoszpampuch/src/blinkin/llm/venv/lib/python3.10/site-packages (from jsonschema>=3.0->altair<6.0,>=4.2.0->gradio) (0.30.2)\n",
      "Requirement already satisfied: rpds-py>=0.7.1 in /Users/bartoszpampuch/src/blinkin/llm/venv/lib/python3.10/site-packages (from jsonschema>=3.0->altair<6.0,>=4.2.0->gradio) (0.10.3)\n",
      "Requirement already satisfied: jsonschema-specifications>=2023.03.6 in /Users/bartoszpampuch/src/blinkin/llm/venv/lib/python3.10/site-packages (from jsonschema>=3.0->altair<6.0,>=4.2.0->gradio) (2023.7.1)\n",
      "Requirement already satisfied: uc-micro-py in /Users/bartoszpampuch/src/blinkin/llm/venv/lib/python3.10/site-packages (from linkify-it-py<3,>=1->markdown-it-py[linkify]>=2.0.0->gradio) (1.0.2)\n",
      "Requirement already satisfied: six>=1.5 in /Users/bartoszpampuch/src/blinkin/llm/venv/lib/python3.10/site-packages (from python-dateutil>=2.7->matplotlib~=3.0->gradio) (1.16.0)\n",
      "Requirement already satisfied: exceptiongroup>=1.0.2 in /Users/bartoszpampuch/src/blinkin/llm/venv/lib/python3.10/site-packages (from anyio<5.0,>=3.0->httpcore<0.19.0,>=0.18.0->httpx->gradio) (1.1.3)\n",
      "Installing collected packages: markdown-it-py\n",
      "  Attempting uninstall: markdown-it-py\n",
      "    Found existing installation: markdown-it-py 3.0.0\n",
      "    Uninstalling markdown-it-py-3.0.0:\n",
      "      Successfully uninstalled markdown-it-py-3.0.0\n",
      "Successfully installed markdown-it-py-2.2.0\n",
      "\n",
      "\u001b[1m[\u001b[0m\u001b[34;49mnotice\u001b[0m\u001b[1;39;49m]\u001b[0m\u001b[39;49m A new release of pip is available: \u001b[0m\u001b[31;49m23.0.1\u001b[0m\u001b[39;49m -> \u001b[0m\u001b[32;49m23.3\u001b[0m\n",
      "\u001b[1m[\u001b[0m\u001b[34;49mnotice\u001b[0m\u001b[1;39;49m]\u001b[0m\u001b[39;49m To update, run: \u001b[0m\u001b[32;49mpip install --upgrade pip\u001b[0m\n"
     ]
    }
   ],
   "source": [
    "!pip install gradio"
   ]
  },
  {
   "cell_type": "markdown",
   "id": "5e2588d6-1bed-4ddd-a2c7-45030f37c301",
   "metadata": {
    "tags": []
   },
   "source": [
    "## Interface class\n",
    "The core Interface class is initialized with three required parameters:\n",
    "\n",
    "- `fn`: the function to wrap a UI around\n",
    "- `inputs`: which component(s) to use for the input (e.g. \"text\", \"image\" or \"audio\")\n",
    "- `outputs`: which component(s) to use for the output (e.g. \"text\", \"image\" or \"label\")"
   ]
  },
  {
   "cell_type": "markdown",
   "id": "fad38781-57d1-43a2-8297-b73eae650229",
   "metadata": {
    "tags": []
   },
   "source": [
    "## Hello world"
   ]
  },
  {
   "cell_type": "code",
   "execution_count": 134,
   "id": "8f3d64f5-708a-4ac1-92d6-04920360684d",
   "metadata": {
    "tags": []
   },
   "outputs": [
    {
     "name": "stdout",
     "output_type": "stream",
     "text": [
      "Running on local URL:  http://127.0.0.1:7942\n",
      "\n",
      "To create a public link, set `share=True` in `launch()`.\n"
     ]
    },
    {
     "data": {
      "text/html": [
       "<div><iframe src=\"http://127.0.0.1:7942/\" width=\"100%\" height=\"500\" allow=\"autoplay; camera; microphone; clipboard-read; clipboard-write;\" frameborder=\"0\" allowfullscreen></iframe></div>"
      ],
      "text/plain": [
       "<IPython.core.display.HTML object>"
      ]
     },
     "metadata": {},
     "output_type": "display_data"
    },
    {
     "data": {
      "text/plain": []
     },
     "execution_count": 134,
     "metadata": {},
     "output_type": "execute_result"
    }
   ],
   "source": [
    "import gradio as gr\n",
    "\n",
    "def greet(name):\n",
    "    return \"Hello \" + name + \"!\"\n",
    "\n",
    "demo = gr.Interface(fn=greet, inputs=\"text\", outputs=\"text\")\n",
    "\n",
    "demo.launch()"
   ]
  },
  {
   "cell_type": "markdown",
   "id": "b4aefb10-b05c-4e1c-9fd1-99b3d03f2834",
   "metadata": {
    "tags": []
   },
   "source": [
    "## Multiple controls"
   ]
  },
  {
   "cell_type": "code",
   "execution_count": 31,
   "id": "8171cea3-5b22-4f80-ab43-818702836c4f",
   "metadata": {
    "tags": []
   },
   "outputs": [
    {
     "name": "stdout",
     "output_type": "stream",
     "text": [
      "Running on local URL:  http://127.0.0.1:7870\n",
      "\n",
      "To create a public link, set `share=True` in `launch()`.\n"
     ]
    },
    {
     "data": {
      "text/html": [
       "<div><iframe src=\"http://127.0.0.1:7870/\" width=\"100%\" height=\"500\" allow=\"autoplay; camera; microphone; clipboard-read; clipboard-write;\" frameborder=\"0\" allowfullscreen></iframe></div>"
      ],
      "text/plain": [
       "<IPython.core.display.HTML object>"
      ]
     },
     "metadata": {},
     "output_type": "display_data"
    },
    {
     "data": {
      "text/plain": []
     },
     "execution_count": 31,
     "metadata": {},
     "output_type": "execute_result"
    }
   ],
   "source": [
    "import gradio as gr\n",
    "\n",
    "def greet(name, is_morning, temperature):\n",
    "    salutation = \"Good morning\" if is_morning else \"Good evening\"\n",
    "    greeting = f\"{salutation} {name}. It is {temperature} degrees today\"\n",
    "    celsius = (temperature - 32) * 5 / 9\n",
    "    return greeting, round(celsius, 2)\n",
    "\n",
    "demo = gr.Interface(\n",
    "    fn=greet,\n",
    "    inputs=[\"text\", \"checkbox\", \"number\"],\n",
    "    outputs=[\"text\", \"number\"],\n",
    ")\n",
    "demo.launch()\n"
   ]
  },
  {
   "cell_type": "markdown",
   "id": "609bf685-ef57-40c4-888d-ce4ac60d2c60",
   "metadata": {
    "tags": []
   },
   "source": [
    "## Descriptive Content"
   ]
  },
  {
   "cell_type": "markdown",
   "id": "5d75e133-a120-4497-ad5d-57b0b24a120f",
   "metadata": {
    "tags": []
   },
   "source": [
    "There are three arguments in the Interface constructor to specify where this content should go:\n",
    "\n",
    "- `title`: which accepts text and can display it at the very top of interface, and also becomes the page title.\n",
    "- `description`: which accepts text, markdown or HTML and places it right under the title.\n",
    "- `article`: which also accepts text, markdown or HTML and places it below the interface.\n",
    "\n",
    "<img src=\"https://raw.githubusercontent.com/gradio-app/gradio/main/guides/assets/annotated.png\">"
   ]
  },
  {
   "cell_type": "code",
   "execution_count": 44,
   "id": "ddca1dc0-4ff6-420a-9ea1-3b2188973e05",
   "metadata": {
    "tags": []
   },
   "outputs": [
    {
     "name": "stdout",
     "output_type": "stream",
     "text": [
      "Running on local URL:  http://127.0.0.1:7879\n",
      "\n",
      "To create a public link, set `share=True` in `launch()`.\n"
     ]
    },
    {
     "data": {
      "text/html": [
       "<div><iframe src=\"http://127.0.0.1:7879/\" width=\"100%\" height=\"500\" allow=\"autoplay; camera; microphone; clipboard-read; clipboard-write;\" frameborder=\"0\" allowfullscreen></iframe></div>"
      ],
      "text/plain": [
       "<IPython.core.display.HTML object>"
      ]
     },
     "metadata": {},
     "output_type": "display_data"
    },
    {
     "data": {
      "text/plain": []
     },
     "execution_count": 44,
     "metadata": {},
     "output_type": "execute_result"
    }
   ],
   "source": [
    "import gradio as gr\n",
    "\n",
    "def greet(name):\n",
    "    return \"Hello \" + name + \"!\"\n",
    "\n",
    "demo = gr.Interface(\n",
    "    fn=greet, \n",
    "    inputs=\"text\", \n",
    "    outputs=\"text\",\n",
    "    title=\"Sample site\",\n",
    "    description=\"This is an example\",\n",
    "    article=\"Check more at <a href='https://google.com'>Google</a>\"\n",
    ")\n",
    "\n",
    "demo.launch()"
   ]
  },
  {
   "cell_type": "markdown",
   "id": "ba8ae5c7-38d5-4592-86a1-6bb25c97e2c1",
   "metadata": {
    "tags": []
   },
   "source": [
    "## Examples"
   ]
  },
  {
   "cell_type": "markdown",
   "id": "a12b2bac-9ed6-41ad-b04e-56f5986bd145",
   "metadata": {
    "tags": []
   },
   "source": [
    "You can provide example data that a user can easily load into Interface. This can be helpful to demonstrate the types of inputs the model expects, as well as to provide a way to explore your dataset in conjunction with your model. To load example data, you can provide a nested list to the examples= keyword argument of the Interface constructor. Each sublist within the outer list represents a data sample, and each element within the sublist represents an input for each input component."
   ]
  },
  {
   "cell_type": "code",
   "execution_count": 39,
   "id": "90c30955-d84c-4cb6-b0bf-684c955481d2",
   "metadata": {
    "tags": []
   },
   "outputs": [
    {
     "name": "stdout",
     "output_type": "stream",
     "text": [
      "Running on local URL:  http://127.0.0.1:7877\n",
      "\n",
      "To create a public link, set `share=True` in `launch()`.\n"
     ]
    },
    {
     "data": {
      "text/html": [
       "<div><iframe src=\"http://127.0.0.1:7877/\" width=\"100%\" height=\"500\" allow=\"autoplay; camera; microphone; clipboard-read; clipboard-write;\" frameborder=\"0\" allowfullscreen></iframe></div>"
      ],
      "text/plain": [
       "<IPython.core.display.HTML object>"
      ]
     },
     "metadata": {},
     "output_type": "display_data"
    },
    {
     "data": {
      "text/plain": []
     },
     "execution_count": 39,
     "metadata": {},
     "output_type": "execute_result"
    }
   ],
   "source": [
    "import gradio as gr\n",
    "\n",
    "def calculator(num1, operation, num2):\n",
    "    if operation == \"add\":\n",
    "        return num1 + num2\n",
    "    elif operation == \"subtract\":\n",
    "        return num1 - num2\n",
    "    elif operation == \"multiply\":\n",
    "        return num1 * num2\n",
    "    elif operation == \"divide\":\n",
    "        if num2 == 0:\n",
    "            raise gr.Error(\"Cannot divide by zero!\")\n",
    "        return num1 / num2\n",
    "\n",
    "demo = gr.Interface(\n",
    "    calculator,\n",
    "    [\n",
    "        \"number\", \n",
    "        gr.Radio([\"add\", \"subtract\", \"multiply\", \"divide\"]),\n",
    "        \"number\"\n",
    "    ],\n",
    "    \"number\",\n",
    "    examples=[\n",
    "        [5, \"add\", 3],\n",
    "        [4, \"divide\", 2],\n",
    "        [-4, \"multiply\", 2.5],\n",
    "        [0, \"subtract\", 1.2],\n",
    "    ],\n",
    "    title=\"Toy Calculator\",\n",
    "    description=\"Here's a sample toy calculator. Allows you to calculate things like $2+2=4$\",\n",
    ")\n",
    "demo.launch()"
   ]
  },
  {
   "cell_type": "markdown",
   "id": "9ac63fb6-1a25-4a0a-aad5-0c89e30aac13",
   "metadata": {
    "tags": []
   },
   "source": [
    "# Components"
   ]
  },
  {
   "cell_type": "markdown",
   "id": "f93f298d-5399-43c6-8c97-ab0407eb846c",
   "metadata": {
    "tags": []
   },
   "source": [
    "If we use the actual class for Textbox instead of using the string shortcut, you have access to much more customizability through component attributes."
   ]
  },
  {
   "cell_type": "markdown",
   "id": "3f871bc8-467d-4ee2-b061-60eb907a8900",
   "metadata": {
    "tags": []
   },
   "source": [
    "## Textbox\n",
    "https://www.gradio.app/docs/textbox"
   ]
  },
  {
   "cell_type": "code",
   "execution_count": 27,
   "id": "ae7322ea-cd83-44c7-be66-94ff0a6e41a0",
   "metadata": {
    "tags": []
   },
   "outputs": [
    {
     "name": "stdout",
     "output_type": "stream",
     "text": [
      "Running on local URL:  http://127.0.0.1:7868\n",
      "\n",
      "To create a public link, set `share=True` in `launch()`.\n"
     ]
    },
    {
     "data": {
      "text/html": [
       "<div><iframe src=\"http://127.0.0.1:7868/\" width=\"100%\" height=\"500\" allow=\"autoplay; camera; microphone; clipboard-read; clipboard-write;\" frameborder=\"0\" allowfullscreen></iframe></div>"
      ],
      "text/plain": [
       "<IPython.core.display.HTML object>"
      ]
     },
     "metadata": {},
     "output_type": "display_data"
    },
    {
     "data": {
      "text/plain": []
     },
     "execution_count": 27,
     "metadata": {},
     "output_type": "execute_result"
    }
   ],
   "source": [
    "import gradio as gr\n",
    "\n",
    "def greet(name):\n",
    "    return \"Hello \" + name + \"!\"\n",
    "\n",
    "demo = gr.Interface(\n",
    "    fn=greet,\n",
    "    inputs=gr.Textbox(lines=2, placeholder=\"Name Here...\"),\n",
    "    outputs=\"text\",\n",
    ")\n",
    "\n",
    "demo.launch()"
   ]
  },
  {
   "cell_type": "code",
   "execution_count": 131,
   "id": "9f490d75-aa92-42a0-916a-f0c264200363",
   "metadata": {
    "tags": []
   },
   "outputs": [
    {
     "name": "stderr",
     "output_type": "stream",
     "text": [
      "/Users/bartoszpampuch/src/blinkin/llm/venv/lib/python3.10/site-packages/gradio/utils.py:841: UserWarning: Expected 1 arguments for function <function sepia at 0x33ff82050>, received 4.\n",
      "  warnings.warn(\n",
      "/Users/bartoszpampuch/src/blinkin/llm/venv/lib/python3.10/site-packages/gradio/utils.py:849: UserWarning: Expected maximum 1 arguments for function <function sepia at 0x33ff82050>, received 4.\n",
      "  warnings.warn(\n"
     ]
    },
    {
     "name": "stdout",
     "output_type": "stream",
     "text": [
      "Running on local URL:  http://127.0.0.1:7939\n",
      "\n",
      "To create a public link, set `share=True` in `launch()`.\n"
     ]
    },
    {
     "data": {
      "text/html": [
       "<div><iframe src=\"http://127.0.0.1:7939/\" width=\"100%\" height=\"500\" allow=\"autoplay; camera; microphone; clipboard-read; clipboard-write;\" frameborder=\"0\" allowfullscreen></iframe></div>"
      ],
      "text/plain": [
       "<IPython.core.display.HTML object>"
      ]
     },
     "metadata": {},
     "output_type": "display_data"
    },
    {
     "data": {
      "text/plain": []
     },
     "execution_count": 131,
     "metadata": {},
     "output_type": "execute_result"
    }
   ],
   "source": [
    "import numpy as np\n",
    "import gradio as gr\n",
    "\n",
    "demo = gr.Interface(sepia, [\"image\", \"sketchpad\", \"paint\", \"webcam\"], None)\n",
    "demo.launch()"
   ]
  },
  {
   "cell_type": "markdown",
   "id": "5cb1f756-f2f6-4ae5-8ac8-2138e6251f64",
   "metadata": {
    "tags": []
   },
   "source": [
    "## Image\n",
    "https://www.gradio.app/docs/image\n",
    "\n",
    "Creates an image component that can be used to upload/draw images (as an input) or display images (as an output).\n",
    "\n",
    "As input: passes the uploaded image as a numpy.array, PIL.Image or str filepath depending on `type` -- unless `tool` is `sketch` AND source is one of `upload` or `webcam`. In these cases, a dict with keys `image` and `mask` is passed, and the format of the corresponding values depends on `type`.\n",
    "\n",
    "As output: expects a numpy.array, PIL.Image or str or pathlib.Path filepath to an image and displays the image.\n",
    "\n",
    "Useful shortcut types:\n",
    "- \"image\"\n",
    "- \"sketchpad\"\n",
    "- \"paint\"\n",
    "- \"imagepaint\"\n",
    "- \"imagemask\"\n",
    "- \"webcam\"\n",
    "- \"paint\"\n",
    "- \"pil\"\n",
    "\n",
    "Useful properties:\n",
    "- shape: tuple[int, int]\n",
    "- image_mode: \"RGB\", \"L\" (8-bit grayscale) (others https://pillow.readthedocs.io/en/stable/handbook/concepts.html)\n",
    "- invert_colors: bool\n",
    "- source: \"upload\", \"webcam\", \"canvas\"\n",
    "- tool: \"editor\", \"select\", \"sketch\", \"color-sketch\"\n",
    "- type: \"numpy\", \"pil\", \"filepath\"\n",
    "- show_download_button\n",
    "- streaming: boolean (only valid if source is webcam)\n",
    "- brush_radius, brush_color"
   ]
  },
  {
   "cell_type": "markdown",
   "id": "f87055a8-9127-4c44-92df-03d796032567",
   "metadata": {
    "tags": []
   },
   "source": [
    "### Upload"
   ]
  },
  {
   "cell_type": "code",
   "execution_count": 59,
   "id": "c177695c-eeba-4b5c-bc6d-7554cc9617ca",
   "metadata": {
    "tags": []
   },
   "outputs": [
    {
     "name": "stdout",
     "output_type": "stream",
     "text": [
      "Running on local URL:  http://127.0.0.1:7888\n",
      "\n",
      "To create a public link, set `share=True` in `launch()`.\n"
     ]
    },
    {
     "data": {
      "text/html": [
       "<div><iframe src=\"http://127.0.0.1:7888/\" width=\"100%\" height=\"500\" allow=\"autoplay; camera; microphone; clipboard-read; clipboard-write;\" frameborder=\"0\" allowfullscreen></iframe></div>"
      ],
      "text/plain": [
       "<IPython.core.display.HTML object>"
      ]
     },
     "metadata": {},
     "output_type": "display_data"
    },
    {
     "data": {
      "text/plain": []
     },
     "execution_count": 59,
     "metadata": {},
     "output_type": "execute_result"
    }
   ],
   "source": [
    "import numpy as np\n",
    "import gradio as gr\n",
    "\n",
    "def sepia(input_img):\n",
    "    sepia_filter = np.array([\n",
    "        [0.393, 0.769, 0.189], \n",
    "        [0.349, 0.686, 0.168], \n",
    "        [0.272, 0.534, 0.131]\n",
    "    ])\n",
    "    sepia_img = input_img.dot(sepia_filter.T)\n",
    "    sepia_img /= sepia_img.max()\n",
    "    return sepia_img\n",
    "\n",
    "demo = gr.Interface(sepia, gr.Image(shape=(200, 200)), \"image\")\n",
    "demo.launch()"
   ]
  },
  {
   "cell_type": "markdown",
   "id": "ac882152-0f70-43cf-96fd-af0f9d300f4e",
   "metadata": {
    "tags": []
   },
   "source": [
    "### Sketch"
   ]
  },
  {
   "cell_type": "code",
   "execution_count": 66,
   "id": "f8b6a5f0-ba28-4695-ab0b-848e1a710a12",
   "metadata": {
    "tags": []
   },
   "outputs": [
    {
     "name": "stdout",
     "output_type": "stream",
     "text": [
      "Running on local URL:  http://127.0.0.1:7895\n",
      "\n",
      "To create a public link, set `share=True` in `launch()`.\n"
     ]
    },
    {
     "data": {
      "text/html": [
       "<div><iframe src=\"http://127.0.0.1:7895/\" width=\"100%\" height=\"500\" allow=\"autoplay; camera; microphone; clipboard-read; clipboard-write;\" frameborder=\"0\" allowfullscreen></iframe></div>"
      ],
      "text/plain": [
       "<IPython.core.display.HTML object>"
      ]
     },
     "metadata": {},
     "output_type": "display_data"
    },
    {
     "data": {
      "text/plain": []
     },
     "execution_count": 66,
     "metadata": {},
     "output_type": "execute_result"
    }
   ],
   "source": [
    "import numpy as np\n",
    "import gradio as gr\n",
    "\n",
    "demo = gr.Interface(sepia, \"sketchpad\", None)\n",
    "demo.launch()"
   ]
  },
  {
   "cell_type": "markdown",
   "id": "ccb42530-bed1-4f05-be0d-a7cde9c875a8",
   "metadata": {
    "tags": []
   },
   "source": [
    "### Color-sketch with additional settings"
   ]
  },
  {
   "cell_type": "code",
   "execution_count": 129,
   "id": "0fa5347d-89c1-4044-9945-458de46d5971",
   "metadata": {
    "tags": []
   },
   "outputs": [
    {
     "name": "stdout",
     "output_type": "stream",
     "text": [
      "Running on local URL:  http://127.0.0.1:7937\n",
      "\n",
      "To create a public link, set `share=True` in `launch()`.\n"
     ]
    },
    {
     "data": {
      "text/html": [
       "<div><iframe src=\"http://127.0.0.1:7937/\" width=\"100%\" height=\"500\" allow=\"autoplay; camera; microphone; clipboard-read; clipboard-write;\" frameborder=\"0\" allowfullscreen></iframe></div>"
      ],
      "text/plain": [
       "<IPython.core.display.HTML object>"
      ]
     },
     "metadata": {},
     "output_type": "display_data"
    },
    {
     "data": {
      "text/plain": []
     },
     "execution_count": 129,
     "metadata": {},
     "output_type": "execute_result"
    }
   ],
   "source": [
    "import numpy as np\n",
    "import gradio as gr\n",
    "\n",
    "demo = gr.Interface(sepia, \n",
    "                    gr.Image(brush_radius=8, \n",
    "                             brush_color=\"#FF0000\", \n",
    "                             source=\"canvas\", \n",
    "                             tool=\"color-sketch\"), \n",
    "                    None)\n",
    "demo.launch()\n",
    "\n"
   ]
  },
  {
   "cell_type": "markdown",
   "id": "e5b63fc0-63e5-4c56-b0b7-cac04d12afea",
   "metadata": {
    "tags": []
   },
   "source": [
    "## Audio"
   ]
  },
  {
   "cell_type": "markdown",
   "id": "7ce00c4a-e1d3-4c4f-b11a-70dc2d05c412",
   "metadata": {
    "tags": []
   },
   "source": [
    "https://www.gradio.app/docs/audio\n",
    "\n",
    "Creates an audio component that can be used to upload/record audio (as an input) or display audio (as an output).\n",
    "\n",
    "As input: passes the uploaded audio as a Tuple(int, numpy.array) corresponding to (sample rate in Hz, audio data as a 16-bit int array whose values range from -32768 to 32767), or as a str filepath, depending on `type`.\n",
    "\n",
    "Useful shortcuts:\n",
    "- \"audio\"\n",
    "- \"microphone\"\n",
    "\n",
    "Useful properties:\n",
    "- source: \"upload\", \"microphone\"\n",
    "- type: \"numpy\", \"filepath\"\n",
    "\n",
    "\"numpy\" converts the audio to a tuple consisting of: (int sample rate, numpy.array for the data)"
   ]
  },
  {
   "cell_type": "code",
   "execution_count": 133,
   "id": "fea78c18-a89e-445d-a0c6-a97eb3a143a5",
   "metadata": {
    "tags": []
   },
   "outputs": [
    {
     "name": "stdout",
     "output_type": "stream",
     "text": [
      "Running on local URL:  http://127.0.0.1:7941\n",
      "\n",
      "To create a public link, set `share=True` in `launch()`.\n"
     ]
    },
    {
     "data": {
      "text/html": [
       "<div><iframe src=\"http://127.0.0.1:7941/\" width=\"100%\" height=\"500\" allow=\"autoplay; camera; microphone; clipboard-read; clipboard-write;\" frameborder=\"0\" allowfullscreen></iframe></div>"
      ],
      "text/plain": [
       "<IPython.core.display.HTML object>"
      ]
     },
     "metadata": {},
     "output_type": "display_data"
    },
    {
     "data": {
      "text/plain": []
     },
     "execution_count": 133,
     "metadata": {},
     "output_type": "execute_result"
    }
   ],
   "source": [
    "import numpy as np\n",
    "import gradio as gr\n",
    "\n",
    "def transcribe(audio):\n",
    "    return \"Fake transcription\"\n",
    "\n",
    "mic = gr.Audio(source=\"microphone\", type=\"numpy\", label=\"Speak here...\")\n",
    "gr.Interface(transcribe, mic, \"text\").launch()"
   ]
  },
  {
   "cell_type": "code",
   "execution_count": null,
   "id": "2dc24a00-dd6b-48af-8188-c6d8a43e262a",
   "metadata": {},
   "outputs": [],
   "source": []
  },
  {
   "cell_type": "code",
   "execution_count": null,
   "id": "5dc88064-460e-4564-93a2-580c2626330c",
   "metadata": {
    "tags": []
   },
   "outputs": [],
   "source": [
    "# Session State"
   ]
  },
  {
   "cell_type": "code",
   "execution_count": 87,
   "id": "751d3fdd-1bc2-4acf-97eb-67f59831a1cb",
   "metadata": {
    "tags": []
   },
   "outputs": [
    {
     "name": "stdout",
     "output_type": "stream",
     "text": [
      "Running on local URL:  http://127.0.0.1:7908\n",
      "\n",
      "To create a public link, set `share=True` in `launch()`.\n"
     ]
    },
    {
     "data": {
      "text/html": [
       "<div><iframe src=\"http://127.0.0.1:7908/\" width=\"100%\" height=\"500\" allow=\"autoplay; camera; microphone; clipboard-read; clipboard-write;\" frameborder=\"0\" allowfullscreen></iframe></div>"
      ],
      "text/plain": [
       "<IPython.core.display.HTML object>"
      ]
     },
     "metadata": {},
     "output_type": "display_data"
    },
    {
     "data": {
      "text/plain": []
     },
     "execution_count": 87,
     "metadata": {},
     "output_type": "execute_result"
    }
   ],
   "source": [
    "import gradio as gr\n",
    "\n",
    "def greet(name):\n",
    "    return \"Hello \" + name\n",
    "\n",
    "textbox = gr.Textbox(label=\"Type your name here:\", placeholder=\"John Doe\", lines=2)\n",
    "\n",
    "gr.Interface(fn=greet, inputs=textbox, outputs=\"text\").launch()"
   ]
  },
  {
   "cell_type": "markdown",
   "id": "96a502e1-698b-4ac1-a99c-d3602636c54a",
   "metadata": {
    "tags": []
   },
   "source": [
    "## ChatInterface"
   ]
  },
  {
   "cell_type": "markdown",
   "id": "9c80a8f0-e6d4-49cf-9375-f518fa35cd5b",
   "metadata": {
    "tags": []
   },
   "source": [
    "https://www.gradio.app/docs/chatinterface\n",
    "\n",
    "ChatInterface is Gradio's high-level abstraction for creating chatbot UIs, and allows you to create a web-based demo around a chatbot model in a few lines of code. Only one parameter is required: fn, which takes a function that governs the response of the chatbot based on the user input and chat history. Additional parameters can be used to control the appearance and behavior of the demo.\n"
   ]
  },
  {
   "cell_type": "code",
   "execution_count": 122,
   "id": "480e20c6-c614-4576-bbbc-98045592e21f",
   "metadata": {
    "tags": []
   },
   "outputs": [
    {
     "name": "stdout",
     "output_type": "stream",
     "text": [
      "Running on local URL:  http://127.0.0.1:7930\n",
      "\n",
      "To create a public link, set `share=True` in `launch()`.\n"
     ]
    },
    {
     "data": {
      "text/html": [
       "<div><iframe src=\"http://127.0.0.1:7930/\" width=\"100%\" height=\"500\" allow=\"autoplay; camera; microphone; clipboard-read; clipboard-write;\" frameborder=\"0\" allowfullscreen></iframe></div>"
      ],
      "text/plain": [
       "<IPython.core.display.HTML object>"
      ]
     },
     "metadata": {},
     "output_type": "display_data"
    },
    {
     "data": {
      "text/plain": []
     },
     "execution_count": 122,
     "metadata": {},
     "output_type": "execute_result"
    }
   ],
   "source": [
    "import gradio as gr\n",
    "\n",
    "def echo(message, history):\n",
    "    time.sleep(0.5)\n",
    "    return f\"OK, {message}\"\n",
    "\n",
    "demo = gr.ChatInterface(fn=echo)\n",
    "demo.launch()"
   ]
  },
  {
   "cell_type": "code",
   "execution_count": 88,
   "id": "1d321f13-23b2-4c30-a3dc-41735aadddf9",
   "metadata": {
    "tags": []
   },
   "outputs": [
    {
     "name": "stdout",
     "output_type": "stream",
     "text": [
      "Running on local URL:  http://127.0.0.1:7909\n",
      "\n",
      "To create a public link, set `share=True` in `launch()`.\n"
     ]
    },
    {
     "data": {
      "text/html": [
       "<div><iframe src=\"http://127.0.0.1:7909/\" width=\"100%\" height=\"500\" allow=\"autoplay; camera; microphone; clipboard-read; clipboard-write;\" frameborder=\"0\" allowfullscreen></iframe></div>"
      ],
      "text/plain": [
       "<IPython.core.display.HTML object>"
      ]
     },
     "metadata": {},
     "output_type": "display_data"
    },
    {
     "data": {
      "text/plain": []
     },
     "execution_count": 88,
     "metadata": {},
     "output_type": "execute_result"
    }
   ],
   "source": [
    "import numpy as np\n",
    "import gradio as gr\n",
    "\n",
    "notes = [\"C\", \"C#\", \"D\", \"D#\", \"E\", \"F\", \"F#\", \"G\", \"G#\", \"A\", \"A#\", \"B\"]\n",
    "\n",
    "\n",
    "def generate_tone(note, octave, duration):\n",
    "    sr = 48000\n",
    "    a4_freq, tones_from_a4 = 440, 12 * (octave - 4) + (note - 9)\n",
    "    frequency = a4_freq * 2 ** (tones_from_a4 / 12)\n",
    "    duration = int(duration)\n",
    "    audio = np.linspace(0, duration, duration * sr)\n",
    "    audio = (20000 * np.sin(audio * (2 * np.pi * frequency))).astype(np.int16)\n",
    "    return (sr, audio)\n",
    "\n",
    "\n",
    "gr.Interface(\n",
    "    generate_tone,\n",
    "    [\n",
    "        gr.Dropdown(notes, type=\"index\"),\n",
    "        gr.Slider(minimum=4, maximum=6, step=1),\n",
    "        gr.Textbox(type=\"text\", value=1, label=\"Duration in seconds\"),\n",
    "    ],\n",
    "    \"audio\",\n",
    ").launch()"
   ]
  },
  {
   "cell_type": "code",
   "execution_count": null,
   "id": "d537feef-ed3e-4368-bc7e-c9382ed4d9d8",
   "metadata": {},
   "outputs": [],
   "source": []
  },
  {
   "cell_type": "markdown",
   "id": "e5a01d65-6bac-4a27-b8e1-5cb6e6ac8e43",
   "metadata": {
    "tags": []
   },
   "source": [
    "# Layout"
   ]
  },
  {
   "cell_type": "markdown",
   "id": "b0d6e13f-85bb-4615-9000-23e557c7c9ce",
   "metadata": {
    "tags": []
   },
   "source": [
    "## Tabbed Interface\n",
    "\n",
    "https://www.gradio.app/docs/tabbedinterface"
   ]
  },
  {
   "cell_type": "code",
   "execution_count": 95,
   "id": "707b3d2f-b0c7-44f7-8cce-b69304ce2963",
   "metadata": {
    "tags": []
   },
   "outputs": [
    {
     "name": "stderr",
     "output_type": "stream",
     "text": [
      "/Users/bartoszpampuch/src/blinkin/llm/venv/lib/python3.10/site-packages/gradio/blocks.py:954: UserWarning: api_name predict already exists, using predict_1\n",
      "  warnings.warn(\n"
     ]
    },
    {
     "name": "stdout",
     "output_type": "stream",
     "text": [
      "Running on local URL:  http://127.0.0.1:7914\n",
      "\n",
      "To create a public link, set `share=True` in `launch()`.\n"
     ]
    },
    {
     "data": {
      "text/html": [
       "<div><iframe src=\"http://127.0.0.1:7914/\" width=\"100%\" height=\"500\" allow=\"autoplay; camera; microphone; clipboard-read; clipboard-write;\" frameborder=\"0\" allowfullscreen></iframe></div>"
      ],
      "text/plain": [
       "<IPython.core.display.HTML object>"
      ]
     },
     "metadata": {},
     "output_type": "display_data"
    },
    {
     "data": {
      "text/plain": []
     },
     "execution_count": 95,
     "metadata": {},
     "output_type": "execute_result"
    }
   ],
   "source": [
    "import gradio as gr\n",
    "\n",
    "tab1 = gr.Interface(reverse_audio, \"textbox\", \"textbox\")\n",
    "tab2 = gr.Interface(reverse_audio, \"audio\", \"audio\")\n",
    "\n",
    "gr.TabbedInterface([tab1, tab2], tab_names=[\"Texts\", \"Audio\"]).launch()\n"
   ]
  },
  {
   "cell_type": "markdown",
   "id": "0c942f1e-296c-4659-9e24-13509376638d",
   "metadata": {
    "tags": []
   },
   "source": [
    "## Blocks and events"
   ]
  },
  {
   "cell_type": "markdown",
   "id": "7b8f0270-adbd-43f3-9d7e-0917e23dc920",
   "metadata": {},
   "source": [
    "https://www.gradio.app/docs/blocks\n",
    "\n",
    "Blocks is Gradio's low-level API that allows you to create more custom web applications and demos than Interfaces (yet still entirely in Python).\n",
    "\n",
    "Compared to the Interface class, Blocks offers more flexibility and control over: (1) the layout of components (2) the events that trigger the execution of functions (3) data flows (e.g. inputs can trigger outputs, which can trigger the next level of outputs). Blocks also offers ways to group together related demos such as with tabs.\n",
    "\n",
    "The basic usage of Blocks is as follows: create a Blocks object, then use it as a context (with the \"with\" statement), and then define layouts, components, or events within the Blocks context. Finally, call the launch() method to launch the demo."
   ]
  },
  {
   "cell_type": "code",
   "execution_count": 116,
   "id": "8f42c9a2-b7cc-4493-92d3-4f0236a3667c",
   "metadata": {
    "tags": []
   },
   "outputs": [
    {
     "name": "stdout",
     "output_type": "stream",
     "text": [
      "Running on local URL:  http://127.0.0.1:7926\n",
      "\n",
      "To create a public link, set `share=True` in `launch()`.\n"
     ]
    },
    {
     "data": {
      "text/html": [
       "<div><iframe src=\"http://127.0.0.1:7926/\" width=\"100%\" height=\"500\" allow=\"autoplay; camera; microphone; clipboard-read; clipboard-write;\" frameborder=\"0\" allowfullscreen></iframe></div>"
      ],
      "text/plain": [
       "<IPython.core.display.HTML object>"
      ]
     },
     "metadata": {},
     "output_type": "display_data"
    }
   ],
   "source": [
    "import gradio as gr\n",
    "\n",
    "def get_fullname(firstname, lastname):\n",
    "    return f\"{firstname} {lastname}\"\n",
    "\n",
    "with gr.Blocks() as demo:\n",
    "    with gr.Row():\n",
    "        firstname = gr.Textbox(placeholder=\"What is your first name?\")\n",
    "        lastname = gr.Textbox(placeholder=\"What is your last name?\")\n",
    "        gr.Textbox()\n",
    "\n",
    "    with gr.Row():\n",
    "        gr.Textbox()\n",
    "        gr.Textbox()\n",
    "    \n",
    "    button = gr.Button(\"Run\")\n",
    "    results = gr.Textbox(label=\"Result\")\n",
    "\n",
    "    button.click(fn=get_fullname, inputs=[firstname, lastname], outputs=results)\n",
    "\n",
    "    demo.launch()"
   ]
  },
  {
   "cell_type": "markdown",
   "id": "7f2c93f8-f4aa-4692-b424-795adcf2e1a3",
   "metadata": {
    "tags": []
   },
   "source": [
    "By default, the launch() method will launch the demo in a web server that is running locally. If you are running your code in a Jupyter or Colab notebook, then Gradio will embed the demo GUI in the notebook so you can easily use it.\n",
    "\n",
    "You can customize the behavior of launch() through different parameters:\n",
    "\n",
    "inline - whether to display the interface inline on Python notebooks.\n",
    "inbrowser - whether to automatically launch the interface in a new tab on the default browser.\n",
    "share - whether to create a publicly shareable link from your computer for the interface. Kind of like a Google Drive link!"
   ]
  },
  {
   "cell_type": "markdown",
   "id": "0ccbeea7-6b55-4b8c-aff4-4103097a1654",
   "metadata": {
    "tags": []
   },
   "source": [
    "To store data in a session state, you need to do three things:\n",
    "\n",
    "Pass in an extra parameter into your function, which represents the state of the interface.\n",
    "At the end of the function, return the updated value of the state as an extra return value.\n",
    "Add the ‘state’ input and ‘state’ output components when creating your Interface."
   ]
  },
  {
   "cell_type": "code",
   "execution_count": null,
   "id": "447cd1fc-9df6-4b27-9e68-1fc87336e1dc",
   "metadata": {},
   "outputs": [],
   "source": [
    "import numpy as np\n",
    "import gradio as gr\n",
    "\n",
    "demo = gr.Blocks()\n",
    "\n",
    "\n",
    "def flip_text(x):\n",
    "    return x[::-1]\n",
    "\n",
    "\n",
    "def flip_image(x):\n",
    "    return np.fliplr(x)\n",
    "\n",
    "\n",
    "with demo:\n",
    "    gr.Markdown(\"Flip text or image files using this demo.\")\n",
    "    with gr.Tabs():\n",
    "        with gr.TabItem(\"Flip Text\"):\n",
    "            with gr.Row():\n",
    "                text_input = gr.Textbox()\n",
    "                text_output = gr.Textbox()\n",
    "            text_button = gr.Button(\"Flip\")\n",
    "        with gr.TabItem(\"Flip Image\"):\n",
    "            with gr.Row():\n",
    "                image_input = gr.Image()\n",
    "                image_output = gr.Image()\n",
    "            image_button = gr.Button(\"Flip\")\n",
    "\n",
    "    text_button.click(flip_text, inputs=text_input, outputs=text_output)\n",
    "    image_button.click(flip_image, inputs=image_input, outputs=image_output)\n",
    "\n",
    "demo.launch()"
   ]
  },
  {
   "cell_type": "code",
   "execution_count": null,
   "id": "08729e88-a1e7-46bd-97fd-555ab62e71e2",
   "metadata": {},
   "outputs": [],
   "source": [
    "from transformers import pipeline\n",
    "\n",
    "import gradio as gr\n",
    "\n",
    "asr = pipeline(\"automatic-speech-recognition\", \"facebook/wav2vec2-base-960h\")\n",
    "classifier = pipeline(\"text-classification\")\n",
    "\n",
    "\n",
    "def speech_to_text(speech):\n",
    "    text = asr(speech)[\"text\"]\n",
    "    return text\n",
    "\n",
    "\n",
    "def text_to_sentiment(text):\n",
    "    return classifier(text)[0][\"label\"]\n",
    "\n",
    "\n",
    "demo = gr.Blocks()\n",
    "\n",
    "with demo:\n",
    "    audio_file = gr.Audio(type=\"filepath\")\n",
    "    text = gr.Textbox()\n",
    "    label = gr.Label()\n",
    "\n",
    "    b1 = gr.Button(\"Recognize Speech\")\n",
    "    b2 = gr.Button(\"Classify Sentiment\")\n",
    "\n",
    "    b1.click(speech_to_text, inputs=audio_file, outputs=text)\n",
    "    b2.click(text_to_sentiment, inputs=text, outputs=label)\n",
    "\n",
    "demo.launch()"
   ]
  },
  {
   "cell_type": "code",
   "execution_count": null,
   "id": "6f87e2c4-b2c9-44cb-8c64-d38f0c2c47f3",
   "metadata": {},
   "outputs": [],
   "source": [
    "import gradio as gr\n",
    "\n",
    "\n",
    "def change_textbox(choice):\n",
    "    if choice == \"short\":\n",
    "        return gr.Textbox.update(lines=2, visible=True)\n",
    "    elif choice == \"long\":\n",
    "        return gr.Textbox.update(lines=8, visible=True)\n",
    "    else:\n",
    "        return gr.Textbox.update(visible=False)\n",
    "\n",
    "\n",
    "with gr.Blocks() as block:\n",
    "    radio = gr.Radio(\n",
    "        [\"short\", \"long\", \"none\"], label=\"What kind of essay would you like to write?\"\n",
    "    )\n",
    "    text = gr.Textbox(lines=2, interactive=True)\n",
    "\n",
    "    radio.change(fn=change_textbox, inputs=radio, outputs=text)\n",
    "    block.launch()x"
   ]
  },
  {
   "cell_type": "code",
   "execution_count": 45,
   "id": "4f1ff10c-d2dd-44a0-b171-2d2f07fee95c",
   "metadata": {
    "tags": []
   },
   "outputs": [
    {
     "name": "stdout",
     "output_type": "stream",
     "text": [
      "Running on local URL:  http://127.0.0.1:7880\n",
      "\n",
      "To create a public link, set `share=True` in `launch()`.\n"
     ]
    },
    {
     "data": {
      "text/html": [
       "<div><iframe src=\"http://127.0.0.1:7880/\" width=\"100%\" height=\"500\" allow=\"autoplay; camera; microphone; clipboard-read; clipboard-write;\" frameborder=\"0\" allowfullscreen></iframe></div>"
      ],
      "text/plain": [
       "<IPython.core.display.HTML object>"
      ]
     },
     "metadata": {},
     "output_type": "display_data"
    },
    {
     "data": {
      "text/plain": []
     },
     "execution_count": 45,
     "metadata": {},
     "output_type": "execute_result"
    }
   ],
   "source": [
    "import gradio as gr\n",
    "import numpy as np\n",
    "import time\n",
    "\n",
    "# define core fn, which returns a generator {steps} times before returning the image\n",
    "def fake_diffusion(steps):\n",
    "    for _ in range(steps):\n",
    "        time.sleep(1)\n",
    "        image = np.random.random((600, 600, 3))\n",
    "        yield image\n",
    "    image = np.ones((1000,1000,3), np.uint8)\n",
    "    image[:] = [255, 124, 0]\n",
    "    yield image\n",
    "\n",
    "\n",
    "demo = gr.Interface(fake_diffusion, inputs=gr.Slider(1, 10, 3), outputs=\"image\")\n",
    "\n",
    "# define queue - required for generators\n",
    "demo.queue()\n",
    "\n",
    "demo.launch()\n"
   ]
  },
  {
   "cell_type": "markdown",
   "id": "99b20941-1b7e-4e21-b4b0-5d015036f2e9",
   "metadata": {
    "tags": []
   },
   "source": [
    "# State management"
   ]
  },
  {
   "cell_type": "markdown",
   "id": "839ad15a-9771-4438-bbea-ca68e2502858",
   "metadata": {
    "tags": []
   },
   "source": [
    "## Global state"
   ]
  },
  {
   "cell_type": "markdown",
   "id": "3aca3649-ef30-4261-b1c3-9f526954de26",
   "metadata": {},
   "source": [
    "Function may use data that persists beyond a single function call. If the data is something accessible to all function calls and all users, you can create a variable outside the function call and access it inside the function. For example, you may load a large model outside the function and use it inside the function so that every function call does not need to reload the model.\n",
    "\n",
    "Disclaimer! Global state is shared among various users."
   ]
  },
  {
   "cell_type": "code",
   "execution_count": 47,
   "id": "cf9208e9-4135-4ad4-9da2-850dd35bd295",
   "metadata": {
    "tags": []
   },
   "outputs": [
    {
     "name": "stdout",
     "output_type": "stream",
     "text": [
      "Running on local URL:  http://127.0.0.1:7881\n",
      "\n",
      "Thanks for being a Gradio user! If you have questions or feedback, please join our Discord server and chat with us: https://discord.gg/feTf9x3ZSB\n",
      "\n",
      "To create a public link, set `share=True` in `launch()`.\n"
     ]
    },
    {
     "data": {
      "text/html": [
       "<div><iframe src=\"http://127.0.0.1:7881/\" width=\"100%\" height=\"500\" allow=\"autoplay; camera; microphone; clipboard-read; clipboard-write;\" frameborder=\"0\" allowfullscreen></iframe></div>"
      ],
      "text/plain": [
       "<IPython.core.display.HTML object>"
      ]
     },
     "metadata": {},
     "output_type": "display_data"
    },
    {
     "data": {
      "text/plain": []
     },
     "execution_count": 47,
     "metadata": {},
     "output_type": "execute_result"
    }
   ],
   "source": [
    "import gradio as gr\n",
    "\n",
    "scores = []\n",
    "\n",
    "def track_score(score):\n",
    "    scores.append(score)\n",
    "    top_scores = sorted(scores, reverse=True)[:3]\n",
    "    return top_scores\n",
    "\n",
    "demo = gr.Interface(\n",
    "    track_score, \n",
    "    gr.Number(label=\"Score\"), \n",
    "    gr.JSON(label=\"Top Scores\")\n",
    ")\n",
    "demo.launch()"
   ]
  },
  {
   "cell_type": "markdown",
   "id": "c41a6738-3390-448f-ad58-9e6524655393",
   "metadata": {
    "tags": []
   },
   "source": [
    "## Session state"
   ]
  },
  {
   "cell_type": "markdown",
   "id": "a93c4506-5405-40eb-85ab-f15d4564ab1c",
   "metadata": {
    "tags": []
   },
   "source": [
    "Another type of data persistence Gradio supports is session state, where data persists across multiple submits within a page session. \n",
    "\n",
    "To store data in a session state, you need to do three things:\n",
    "\n",
    "1. Pass in an extra parameter into your function, which represents the state of the interface.\n",
    "2. At the end of the function, return the updated value of the state as an extra return value.\n",
    "3. Add the 'state' input and 'state' output components when creating your Interface\n",
    "\n",
    "Session state is not shared among users."
   ]
  },
  {
   "cell_type": "code",
   "execution_count": 128,
   "id": "5130e3c2-9d1b-4215-ba36-01f8a278f375",
   "metadata": {
    "tags": []
   },
   "outputs": [
    {
     "name": "stdout",
     "output_type": "stream",
     "text": [
      "Running on local URL:  http://127.0.0.1:7936\n",
      "\n",
      "To create a public link, set `share=True` in `launch()`.\n"
     ]
    },
    {
     "data": {
      "text/html": [
       "<div><iframe src=\"http://127.0.0.1:7936/\" width=\"100%\" height=\"500\" allow=\"autoplay; camera; microphone; clipboard-read; clipboard-write;\" frameborder=\"0\" allowfullscreen></iframe></div>"
      ],
      "text/plain": [
       "<IPython.core.display.HTML object>"
      ]
     },
     "metadata": {},
     "output_type": "display_data"
    },
    {
     "data": {
      "text/plain": []
     },
     "execution_count": 128,
     "metadata": {},
     "output_type": "execute_result"
    }
   ],
   "source": [
    "import gradio as gr\n",
    "\n",
    "\n",
    "def user(message, history):\n",
    "    return \"\", history + [[message, None]]\n",
    "\n",
    "def bot(history):\n",
    "    user_message = history[-1][1] = \"Fake response\"\n",
    "\n",
    "    return history\n",
    "\n",
    "\n",
    "with gr.Blocks() as demo:\n",
    "    chatbot = gr.Chatbot()\n",
    "    msg = gr.Textbox()\n",
    "    clear = gr.Button(\"Clear\")\n",
    "\n",
    "    msg.submit(user, [msg, chatbot], [msg, chatbot]).then(\n",
    "        bot, chatbot, chatbot\n",
    "    )\n",
    "    clear.click(lambda: None, None, chatbot)\n",
    "\n",
    "demo.launch()\n"
   ]
  },
  {
   "cell_type": "code",
   "execution_count": 56,
   "id": "999fba16-bf53-4447-8dda-61382088d3c7",
   "metadata": {
    "tags": []
   },
   "outputs": [
    {
     "name": "stdout",
     "output_type": "stream",
     "text": [
      "Running on local URL:  http://127.0.0.1:7886\n",
      "\n",
      "To create a public link, set `share=True` in `launch()`.\n"
     ]
    },
    {
     "data": {
      "text/html": [
       "<div><iframe src=\"http://127.0.0.1:7886/\" width=\"100%\" height=\"500\" allow=\"autoplay; camera; microphone; clipboard-read; clipboard-write;\" frameborder=\"0\" allowfullscreen></iframe></div>"
      ],
      "text/plain": [
       "<IPython.core.display.HTML object>"
      ]
     },
     "metadata": {},
     "output_type": "display_data"
    },
    {
     "data": {
      "text/plain": []
     },
     "execution_count": 56,
     "metadata": {},
     "output_type": "execute_result"
    },
    {
     "name": "stderr",
     "output_type": "stream",
     "text": [
      "Traceback (most recent call last):\n",
      "  File \"/Users/bartoszpampuch/src/blinkin/llm/venv/lib/python3.10/site-packages/gradio/routes.py\", line 488, in run_predict\n",
      "    output = await app.get_blocks().process_api(\n",
      "  File \"/Users/bartoszpampuch/src/blinkin/llm/venv/lib/python3.10/site-packages/gradio/blocks.py\", line 1434, in process_api\n",
      "    data = self.postprocess_data(fn_index, result[\"prediction\"], state)\n",
      "  File \"/Users/bartoszpampuch/src/blinkin/llm/venv/lib/python3.10/site-packages/gradio/blocks.py\", line 1341, in postprocess_data\n",
      "    prediction_value = block.postprocess(prediction_value)\n",
      "  File \"/Users/bartoszpampuch/src/blinkin/llm/venv/lib/python3.10/site-packages/gradio/components/chatbot.py\", line 232, in postprocess\n",
      "    assert isinstance(\n",
      "AssertionError: Expected a list of lists or list of tuples. Received: G\n",
      "Traceback (most recent call last):\n",
      "  File \"/Users/bartoszpampuch/src/blinkin/llm/venv/lib/python3.10/site-packages/gradio/routes.py\", line 488, in run_predict\n",
      "    output = await app.get_blocks().process_api(\n",
      "  File \"/Users/bartoszpampuch/src/blinkin/llm/venv/lib/python3.10/site-packages/gradio/blocks.py\", line 1434, in process_api\n",
      "    data = self.postprocess_data(fn_index, result[\"prediction\"], state)\n",
      "  File \"/Users/bartoszpampuch/src/blinkin/llm/venv/lib/python3.10/site-packages/gradio/blocks.py\", line 1341, in postprocess_data\n",
      "    prediction_value = block.postprocess(prediction_value)\n",
      "  File \"/Users/bartoszpampuch/src/blinkin/llm/venv/lib/python3.10/site-packages/gradio/components/chatbot.py\", line 232, in postprocess\n",
      "    assert isinstance(\n",
      "AssertionError: Expected a list of lists or list of tuples. Received: G\n",
      "Traceback (most recent call last):\n",
      "  File \"/Users/bartoszpampuch/src/blinkin/llm/venv/lib/python3.10/site-packages/gradio/routes.py\", line 488, in run_predict\n",
      "    output = await app.get_blocks().process_api(\n",
      "  File \"/Users/bartoszpampuch/src/blinkin/llm/venv/lib/python3.10/site-packages/gradio/blocks.py\", line 1434, in process_api\n",
      "    data = self.postprocess_data(fn_index, result[\"prediction\"], state)\n",
      "  File \"/Users/bartoszpampuch/src/blinkin/llm/venv/lib/python3.10/site-packages/gradio/blocks.py\", line 1341, in postprocess_data\n",
      "    prediction_value = block.postprocess(prediction_value)\n",
      "  File \"/Users/bartoszpampuch/src/blinkin/llm/venv/lib/python3.10/site-packages/gradio/components/chatbot.py\", line 232, in postprocess\n",
      "    assert isinstance(\n",
      "AssertionError: Expected a list of lists or list of tuples. Received: G\n",
      "Traceback (most recent call last):\n",
      "  File \"/Users/bartoszpampuch/src/blinkin/llm/venv/lib/python3.10/site-packages/gradio/routes.py\", line 488, in run_predict\n",
      "    output = await app.get_blocks().process_api(\n",
      "  File \"/Users/bartoszpampuch/src/blinkin/llm/venv/lib/python3.10/site-packages/gradio/blocks.py\", line 1434, in process_api\n",
      "    data = self.postprocess_data(fn_index, result[\"prediction\"], state)\n",
      "  File \"/Users/bartoszpampuch/src/blinkin/llm/venv/lib/python3.10/site-packages/gradio/blocks.py\", line 1341, in postprocess_data\n",
      "    prediction_value = block.postprocess(prediction_value)\n",
      "  File \"/Users/bartoszpampuch/src/blinkin/llm/venv/lib/python3.10/site-packages/gradio/components/chatbot.py\", line 232, in postprocess\n",
      "    assert isinstance(\n",
      "AssertionError: Expected a list of lists or list of tuples. Received: G\n",
      "Traceback (most recent call last):\n",
      "  File \"/Users/bartoszpampuch/src/blinkin/llm/venv/lib/python3.10/site-packages/gradio/routes.py\", line 488, in run_predict\n",
      "    output = await app.get_blocks().process_api(\n",
      "  File \"/Users/bartoszpampuch/src/blinkin/llm/venv/lib/python3.10/site-packages/gradio/blocks.py\", line 1434, in process_api\n",
      "    data = self.postprocess_data(fn_index, result[\"prediction\"], state)\n",
      "  File \"/Users/bartoszpampuch/src/blinkin/llm/venv/lib/python3.10/site-packages/gradio/blocks.py\", line 1341, in postprocess_data\n",
      "    prediction_value = block.postprocess(prediction_value)\n",
      "  File \"/Users/bartoszpampuch/src/blinkin/llm/venv/lib/python3.10/site-packages/gradio/components/chatbot.py\", line 232, in postprocess\n",
      "    assert isinstance(\n",
      "AssertionError: Expected a list of lists or list of tuples. Received: G\n",
      "Traceback (most recent call last):\n",
      "  File \"/Users/bartoszpampuch/src/blinkin/llm/venv/lib/python3.10/site-packages/gradio/routes.py\", line 488, in run_predict\n",
      "    output = await app.get_blocks().process_api(\n",
      "  File \"/Users/bartoszpampuch/src/blinkin/llm/venv/lib/python3.10/site-packages/gradio/blocks.py\", line 1434, in process_api\n",
      "    data = self.postprocess_data(fn_index, result[\"prediction\"], state)\n",
      "  File \"/Users/bartoszpampuch/src/blinkin/llm/venv/lib/python3.10/site-packages/gradio/blocks.py\", line 1341, in postprocess_data\n",
      "    prediction_value = block.postprocess(prediction_value)\n",
      "  File \"/Users/bartoszpampuch/src/blinkin/llm/venv/lib/python3.10/site-packages/gradio/components/chatbot.py\", line 232, in postprocess\n",
      "    assert isinstance(\n",
      "AssertionError: Expected a list of lists or list of tuples. Received: G\n"
     ]
    }
   ],
   "source": [
    "import gradio as gr\n",
    "\n",
    "def echo(message, history):\n",
    "    return message\n",
    "\n",
    "demo = gr.ChatInterface(fn=echo, examples=[\"hello\", \"hola\", \"merhaba\"], title=\"Echo Bot\")\n",
    "demo.launch()"
   ]
  }
 ],
 "metadata": {
  "kernelspec": {
   "display_name": "Python 3 (ipykernel)",
   "language": "python",
   "name": "python3"
  },
  "language_info": {
   "codemirror_mode": {
    "name": "ipython",
    "version": 3
   },
   "file_extension": ".py",
   "mimetype": "text/x-python",
   "name": "python",
   "nbconvert_exporter": "python",
   "pygments_lexer": "ipython3",
   "version": "3.10.11"
  }
 },
 "nbformat": 4,
 "nbformat_minor": 5
}
