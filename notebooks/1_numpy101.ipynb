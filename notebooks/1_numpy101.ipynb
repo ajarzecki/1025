{
 "cells": [
  {
   "cell_type": "markdown",
   "id": "d227d172-9b33-4452-9429-80ad4963ef2d",
   "metadata": {
    "tags": []
   },
   "source": [
    "# Array creation"
   ]
  },
  {
   "cell_type": "markdown",
   "id": "80aa9a8c-9f3d-4f87-af0b-9b1e80d70247",
   "metadata": {
    "tags": []
   },
   "source": [
    "Numpy array from a list"
   ]
  },
  {
   "cell_type": "code",
   "execution_count": 1,
   "id": "4127df3a-0bc4-44ae-85c8-4da21a7b504a",
   "metadata": {
    "tags": []
   },
   "outputs": [
    {
     "data": {
      "text/plain": [
       "array([1, 2, 3, 4, 5])"
      ]
     },
     "execution_count": 1,
     "metadata": {},
     "output_type": "execute_result"
    }
   ],
   "source": [
    "import numpy as np\n",
    "\n",
    "np.array([1, 2, 3, 4, 5])"
   ]
  },
  {
   "cell_type": "markdown",
   "id": "30b6764c-cb04-4fd6-993e-bfec8ea72c4d",
   "metadata": {
    "tags": []
   },
   "source": [
    "2-D numpy arrays can be created from lists or tuples"
   ]
  },
  {
   "cell_type": "code",
   "execution_count": 2,
   "id": "9f477944-40e0-43ca-adf4-3998f958a7b0",
   "metadata": {
    "tags": []
   },
   "outputs": [
    {
     "data": {
      "text/plain": [
       "array([[1, 2, 3],\n",
       "       [4, 5, 6]])"
      ]
     },
     "execution_count": 2,
     "metadata": {},
     "output_type": "execute_result"
    }
   ],
   "source": [
    "np.array([[1, 2, 3], [4, 5, 6]])"
   ]
  },
  {
   "cell_type": "code",
   "execution_count": 3,
   "id": "14fa8173-821d-4944-bf2a-8b7a240a80f8",
   "metadata": {
    "tags": []
   },
   "outputs": [
    {
     "data": {
      "text/plain": [
       "array([[1, 2, 3],\n",
       "       [4, 5, 6]])"
      ]
     },
     "execution_count": 3,
     "metadata": {},
     "output_type": "execute_result"
    }
   ],
   "source": [
    "np.array(((1, 2, 3), (4, 5, 6)))"
   ]
  },
  {
   "cell_type": "markdown",
   "id": "2f2fafe6-bdc7-498d-983d-10c1163c706b",
   "metadata": {},
   "source": [
    "Helper methods let us create arrays filled with zeros, ones or create identity matrix"
   ]
  },
  {
   "cell_type": "code",
   "execution_count": 4,
   "id": "f9382a95-bd5f-4cf7-897d-7ed82eace955",
   "metadata": {
    "tags": []
   },
   "outputs": [
    {
     "data": {
      "text/plain": [
       "array([[0., 0., 0., 0.],\n",
       "       [0., 0., 0., 0.],\n",
       "       [0., 0., 0., 0.]])"
      ]
     },
     "execution_count": 4,
     "metadata": {},
     "output_type": "execute_result"
    }
   ],
   "source": [
    "np.zeros([3, 4])"
   ]
  },
  {
   "cell_type": "code",
   "execution_count": 19,
   "id": "f0708cd0-d8a1-40e2-81b9-940468c2e952",
   "metadata": {
    "tags": []
   },
   "outputs": [
    {
     "data": {
      "text/plain": [
       "array([1., 1., 1.])"
      ]
     },
     "execution_count": 19,
     "metadata": {},
     "output_type": "execute_result"
    }
   ],
   "source": [
    "np.ones(3)"
   ]
  },
  {
   "cell_type": "code",
   "execution_count": 5,
   "id": "2eb482fe-0e58-4a25-a3bb-8de7c25a986e",
   "metadata": {
    "tags": []
   },
   "outputs": [
    {
     "data": {
      "text/plain": [
       "array([[1., 0., 0., 0., 0.],\n",
       "       [0., 1., 0., 0., 0.],\n",
       "       [0., 0., 1., 0., 0.],\n",
       "       [0., 0., 0., 1., 0.],\n",
       "       [0., 0., 0., 0., 1.]])"
      ]
     },
     "execution_count": 5,
     "metadata": {},
     "output_type": "execute_result"
    }
   ],
   "source": [
    "np.eye(5)"
   ]
  },
  {
   "cell_type": "markdown",
   "id": "d708e9d5-1162-46a6-97e8-ab94a5defa76",
   "metadata": {
    "tags": []
   },
   "source": [
    "Create an array with a range of numbers"
   ]
  },
  {
   "cell_type": "code",
   "execution_count": 28,
   "id": "067871b8-7ec6-46f6-b545-ee8c0d9b9f9b",
   "metadata": {
    "tags": []
   },
   "outputs": [
    {
     "data": {
      "text/plain": [
       "array([1, 3, 5, 7, 9])"
      ]
     },
     "execution_count": 28,
     "metadata": {},
     "output_type": "execute_result"
    }
   ],
   "source": [
    "# step\n",
    "np.arange(1, 10, 2)"
   ]
  },
  {
   "cell_type": "markdown",
   "id": "88a2a422-5250-4db5-9130-7a9fb0a4ea21",
   "metadata": {
    "tags": []
   },
   "source": [
    "Create an array of evenly spaced values over a specified range. \n",
    "\n",
    "This function is useful for charts to create X samples"
   ]
  },
  {
   "cell_type": "code",
   "execution_count": 32,
   "id": "b6109ba2-8947-48c1-98cf-91a3a6fd87f7",
   "metadata": {
    "tags": []
   },
   "outputs": [
    {
     "data": {
      "text/plain": [
       "array([ 1.        ,  1.18367347,  1.36734694,  1.55102041,  1.73469388,\n",
       "        1.91836735,  2.10204082,  2.28571429,  2.46938776,  2.65306122,\n",
       "        2.83673469,  3.02040816,  3.20408163,  3.3877551 ,  3.57142857,\n",
       "        3.75510204,  3.93877551,  4.12244898,  4.30612245,  4.48979592,\n",
       "        4.67346939,  4.85714286,  5.04081633,  5.2244898 ,  5.40816327,\n",
       "        5.59183673,  5.7755102 ,  5.95918367,  6.14285714,  6.32653061,\n",
       "        6.51020408,  6.69387755,  6.87755102,  7.06122449,  7.24489796,\n",
       "        7.42857143,  7.6122449 ,  7.79591837,  7.97959184,  8.16326531,\n",
       "        8.34693878,  8.53061224,  8.71428571,  8.89795918,  9.08163265,\n",
       "        9.26530612,  9.44897959,  9.63265306,  9.81632653, 10.        ])"
      ]
     },
     "execution_count": 32,
     "metadata": {},
     "output_type": "execute_result"
    }
   ],
   "source": [
    "# elements\n",
    "np.linspace(1, 10, 50)"
   ]
  },
  {
   "cell_type": "markdown",
   "id": "95c5729a-b409-42df-a737-271ebc7e91e3",
   "metadata": {},
   "source": [
    "# Manipulation"
   ]
  },
  {
   "cell_type": "markdown",
   "id": "6e364b2c-60cf-4156-b4f1-f09420440d71",
   "metadata": {},
   "source": [
    "Changing array shape"
   ]
  },
  {
   "cell_type": "code",
   "execution_count": 55,
   "id": "37847868-73d5-46cc-8864-25587cd31523",
   "metadata": {
    "tags": []
   },
   "outputs": [
    {
     "name": "stdout",
     "output_type": "stream",
     "text": [
      "[[1 2 3]\n",
      " [5 6 7]]\n"
     ]
    },
    {
     "data": {
      "text/plain": [
       "array([[1, 2],\n",
       "       [3, 5],\n",
       "       [6, 7]])"
      ]
     },
     "execution_count": 55,
     "metadata": {},
     "output_type": "execute_result"
    }
   ],
   "source": [
    "a = np.array(((1, 2, 3), (5, 6, 7)))\n",
    "print(a)\n",
    "\n",
    "a.reshape(3, 2)"
   ]
  },
  {
   "cell_type": "markdown",
   "id": "966b1799-86b3-4ce5-9c9b-7f4022e749ef",
   "metadata": {
    "tags": []
   },
   "source": [
    "Numpy provides two methods for flattening arrays - `flatten` and `ravel`, however `flatten` copies elements, while `ravel` tries to reuse them."
   ]
  },
  {
   "cell_type": "code",
   "execution_count": 56,
   "id": "41d0065d-7d04-4963-80c7-36e689eb0fc7",
   "metadata": {
    "tags": []
   },
   "outputs": [
    {
     "data": {
      "text/plain": [
       "array([1, 2, 3, 5, 6, 7])"
      ]
     },
     "execution_count": 56,
     "metadata": {},
     "output_type": "execute_result"
    }
   ],
   "source": [
    "a.flatten()"
   ]
  },
  {
   "cell_type": "code",
   "execution_count": 57,
   "id": "5f5ceb05-ca64-4495-935d-97819d69fc00",
   "metadata": {
    "tags": []
   },
   "outputs": [
    {
     "data": {
      "text/plain": [
       "array([1, 2, 3, 5, 6, 7])"
      ]
     },
     "execution_count": 57,
     "metadata": {},
     "output_type": "execute_result"
    }
   ],
   "source": [
    "a.ravel()"
   ]
  },
  {
   "cell_type": "markdown",
   "id": "faeeb635-bee3-4acd-937a-a89c34cf4bfe",
   "metadata": {
    "tags": []
   },
   "source": [
    "each array can be easily transposed with .T"
   ]
  },
  {
   "cell_type": "code",
   "execution_count": 15,
   "id": "fa2d578f-3060-4855-ac19-89e78c30935a",
   "metadata": {
    "tags": []
   },
   "outputs": [
    {
     "data": {
      "text/plain": [
       "array([[1, 5],\n",
       "       [2, 6],\n",
       "       [3, 7]])"
      ]
     },
     "execution_count": 15,
     "metadata": {},
     "output_type": "execute_result"
    }
   ],
   "source": [
    "a.T"
   ]
  },
  {
   "cell_type": "markdown",
   "id": "9f5bd098-dfea-4644-8e15-a182073f369d",
   "metadata": {
    "tags": []
   },
   "source": [
    "# Math operations"
   ]
  },
  {
   "cell_type": "markdown",
   "id": "d75c3a8c-f4e9-45ef-b842-8ca7b4c3124e",
   "metadata": {
    "tags": []
   },
   "source": [
    "Operator overload facilitates working with arrays, but traditional methods still exist ;)"
   ]
  },
  {
   "cell_type": "code",
   "execution_count": 19,
   "id": "b199e30f-f372-427e-a9de-e3c88b4ae0de",
   "metadata": {
    "tags": []
   },
   "outputs": [
    {
     "data": {
      "text/plain": [
       "array([[1, 2, 3],\n",
       "       [5, 6, 7]])"
      ]
     },
     "execution_count": 19,
     "metadata": {},
     "output_type": "execute_result"
    }
   ],
   "source": [
    "a"
   ]
  },
  {
   "cell_type": "code",
   "execution_count": 43,
   "id": "bfab723a-1a6e-4c47-b6b2-b369ec89f838",
   "metadata": {
    "tags": []
   },
   "outputs": [
    {
     "data": {
      "text/plain": [
       "array([[ 2,  4,  6],\n",
       "       [10, 12, 14]])"
      ]
     },
     "execution_count": 43,
     "metadata": {},
     "output_type": "execute_result"
    }
   ],
   "source": [
    "a + a       # np.add(a, a)"
   ]
  },
  {
   "cell_type": "code",
   "execution_count": 45,
   "id": "dc54419d-d9df-4fb8-aef6-7cbecd37923b",
   "metadata": {
    "tags": []
   },
   "outputs": [
    {
     "data": {
      "text/plain": [
       "array([[0, 0, 0],\n",
       "       [0, 0, 0]])"
      ]
     },
     "execution_count": 45,
     "metadata": {},
     "output_type": "execute_result"
    }
   ],
   "source": [
    "a - a"
   ]
  },
  {
   "cell_type": "code",
   "execution_count": 46,
   "id": "68a11319-a278-415f-9c55-26e01ad2659a",
   "metadata": {
    "tags": []
   },
   "outputs": [
    {
     "data": {
      "text/plain": [
       "array([[ 1,  4,  9],\n",
       "       [25, 36, 49]])"
      ]
     },
     "execution_count": 46,
     "metadata": {},
     "output_type": "execute_result"
    }
   ],
   "source": [
    "a*a"
   ]
  },
  {
   "cell_type": "code",
   "execution_count": 47,
   "id": "7763d24f-a041-43ea-84a2-34249ea03ffe",
   "metadata": {
    "tags": []
   },
   "outputs": [
    {
     "data": {
      "text/plain": [
       "array([[1., 1., 1.],\n",
       "       [1., 1., 1.]])"
      ]
     },
     "execution_count": 47,
     "metadata": {},
     "output_type": "execute_result"
    }
   ],
   "source": [
    "a/a"
   ]
  },
  {
   "cell_type": "markdown",
   "id": "5ba06345-c8a9-4fe5-a22b-a5493cd9d98c",
   "metadata": {
    "tags": []
   },
   "source": [
    "### Dot product \n",
    "\n",
    "Dot product $a⋅b=∥a∥∥b∥cos(θ)$ has several interpretations and uses:\n",
    "\n",
    "1. Projection: One vector's dot product with another indicates how much of the first vector lies along the second vector. It's the length of the projection of one vector onto another. If you take the dot product of a vector with itself, you get the square of its length.\n",
    "\n",
    "2. Similarity: In machine learning, especially in natural language processing, the dot product between two vectors often represents similarity. If the vectors represent the embedding of words or documents, a higher dot product indicates more similarity between the two entities. \n",
    "\n",
    "3. Angles and Orthogonality: The dot product tells us about the angle between two vectors. If the dot product is zero, the vectors are orthogonal "
   ]
  },
  {
   "cell_type": "code",
   "execution_count": 68,
   "id": "9811ef03-ca6c-4c27-87f0-fb74e14926d9",
   "metadata": {
    "tags": []
   },
   "outputs": [
    {
     "name": "stdout",
     "output_type": "stream",
     "text": [
      "[[1 2 3]\n",
      " [5 6 7]]\n"
     ]
    },
    {
     "data": {
      "text/plain": [
       "array([140, 380])"
      ]
     },
     "execution_count": 68,
     "metadata": {},
     "output_type": "execute_result"
    }
   ],
   "source": [
    "print(a)\n",
    "np.dot(a, [10, 20, 30])"
   ]
  },
  {
   "cell_type": "code",
   "execution_count": 52,
   "id": "33120926-559b-4999-ada5-a734137862fd",
   "metadata": {
    "tags": []
   },
   "outputs": [
    {
     "data": {
      "text/plain": [
       "array([[ 0.84147098,  0.90929743,  0.14112001],\n",
       "       [-0.95892427, -0.2794155 ,  0.6569866 ]])"
      ]
     },
     "execution_count": 52,
     "metadata": {},
     "output_type": "execute_result"
    }
   ],
   "source": [
    "np.sin(a)"
   ]
  },
  {
   "cell_type": "markdown",
   "id": "cbe4f2ff-06de-402b-871f-0d6dd04fd4cd",
   "metadata": {
    "tags": []
   },
   "source": [
    "## Broadcasting"
   ]
  },
  {
   "cell_type": "markdown",
   "id": "13601d83-02f9-404e-b248-3f2995c7216b",
   "metadata": {},
   "source": [
    "Broadcasting simplifies performing operations on smaller arrays"
   ]
  },
  {
   "cell_type": "code",
   "execution_count": 23,
   "id": "45f4fa98-84f3-4656-ba95-2dae4d4f6074",
   "metadata": {
    "tags": []
   },
   "outputs": [
    {
     "data": {
      "text/plain": [
       "array([[1, 2, 3],\n",
       "       [5, 6, 7]])"
      ]
     },
     "execution_count": 23,
     "metadata": {},
     "output_type": "execute_result"
    }
   ],
   "source": [
    "a"
   ]
  },
  {
   "cell_type": "code",
   "execution_count": 26,
   "id": "faa5c980-cf0f-4d6e-8ea9-b00727383151",
   "metadata": {
    "tags": []
   },
   "outputs": [
    {
     "data": {
      "text/plain": [
       "array([[2, 3, 4],\n",
       "       [6, 7, 8]])"
      ]
     },
     "execution_count": 26,
     "metadata": {},
     "output_type": "execute_result"
    }
   ],
   "source": [
    "a + [1]  # 1 will be added to all elements"
   ]
  },
  {
   "cell_type": "code",
   "execution_count": 28,
   "id": "ccf81fd2-9f4b-4df9-bb70-f5f22973aad5",
   "metadata": {
    "tags": []
   },
   "outputs": [
    {
     "data": {
      "text/plain": [
       "array([[ 3,  4,  6],\n",
       "       [ 7,  8, 10]])"
      ]
     },
     "execution_count": 28,
     "metadata": {},
     "output_type": "execute_result"
    }
   ],
   "source": [
    "a + [2, 2, 3]  # [2, 2, 3] vector will be added to all elements"
   ]
  },
  {
   "cell_type": "markdown",
   "id": "eb15589f-f6bc-4e0c-b39e-87f576431ecc",
   "metadata": {
    "tags": []
   },
   "source": [
    "# Statistical methods"
   ]
  },
  {
   "cell_type": "code",
   "execution_count": 64,
   "id": "5a93a523-cbe8-4228-97fc-a902db51736e",
   "metadata": {
    "tags": []
   },
   "outputs": [
    {
     "data": {
      "text/plain": [
       "4.0"
      ]
     },
     "execution_count": 64,
     "metadata": {},
     "output_type": "execute_result"
    }
   ],
   "source": [
    "np.mean(a)"
   ]
  },
  {
   "cell_type": "code",
   "execution_count": 65,
   "id": "b198ed1a-11fe-439f-b554-286b8dbc824b",
   "metadata": {
    "tags": []
   },
   "outputs": [
    {
     "data": {
      "text/plain": [
       "4.0"
      ]
     },
     "execution_count": 65,
     "metadata": {},
     "output_type": "execute_result"
    }
   ],
   "source": [
    "np.median(a)"
   ]
  },
  {
   "cell_type": "code",
   "execution_count": 66,
   "id": "5632bfd2-e1e1-4640-b516-80f8c670adb9",
   "metadata": {
    "tags": []
   },
   "outputs": [
    {
     "data": {
      "text/plain": [
       "2.160246899469287"
      ]
     },
     "execution_count": 66,
     "metadata": {},
     "output_type": "execute_result"
    }
   ],
   "source": [
    "np.std(a)"
   ]
  },
  {
   "cell_type": "code",
   "execution_count": 67,
   "id": "2f3367c9-b083-459a-b127-7296ed4fa7e8",
   "metadata": {
    "tags": []
   },
   "outputs": [
    {
     "data": {
      "text/plain": [
       "4.666666666666667"
      ]
     },
     "execution_count": 67,
     "metadata": {},
     "output_type": "execute_result"
    }
   ],
   "source": [
    "np.var(a)"
   ]
  },
  {
   "cell_type": "code",
   "execution_count": 70,
   "id": "76a81738-3718-413e-b751-e814f60558a8",
   "metadata": {
    "tags": []
   },
   "outputs": [
    {
     "data": {
      "text/plain": [
       "2.160246899469287"
      ]
     },
     "execution_count": 70,
     "metadata": {},
     "output_type": "execute_result"
    }
   ],
   "source": [
    "np.std(a)"
   ]
  },
  {
   "cell_type": "code",
   "execution_count": 71,
   "id": "c43d091a-b3d8-4282-8065-377a503e1393",
   "metadata": {
    "tags": []
   },
   "outputs": [
    {
     "data": {
      "text/plain": [
       "1"
      ]
     },
     "execution_count": 71,
     "metadata": {},
     "output_type": "execute_result"
    }
   ],
   "source": [
    "np.min(a)"
   ]
  },
  {
   "cell_type": "code",
   "execution_count": 72,
   "id": "ad44d6aa-fa14-4bcb-bcfe-5e3f8c39e54d",
   "metadata": {
    "tags": []
   },
   "outputs": [
    {
     "data": {
      "text/plain": [
       "7"
      ]
     },
     "execution_count": 72,
     "metadata": {},
     "output_type": "execute_result"
    }
   ],
   "source": [
    "np.max(a)"
   ]
  },
  {
   "cell_type": "markdown",
   "id": "356d3b74-a580-4f1a-9813-9fc83b8f22e3",
   "metadata": {
    "tags": []
   },
   "source": [
    "## Axis\n",
    "\n",
    "Some operations behave differently, depending on the selected axis\n",
    "\n",
    "![](https://numpy.org/doc/stable/_images/np_matrix_aggregation_row.png)"
   ]
  },
  {
   "cell_type": "code",
   "execution_count": 30,
   "id": "18f68016-2790-4999-b3ad-6c52803c0d2a",
   "metadata": {
    "tags": []
   },
   "outputs": [
    {
     "data": {
      "text/plain": [
       "array([[1, 2, 3],\n",
       "       [5, 6, 7]])"
      ]
     },
     "execution_count": 30,
     "metadata": {},
     "output_type": "execute_result"
    }
   ],
   "source": [
    "a"
   ]
  },
  {
   "cell_type": "code",
   "execution_count": 93,
   "id": "8ab4330a-09c0-4cae-b26f-ca339630c137",
   "metadata": {
    "tags": []
   },
   "outputs": [
    {
     "data": {
      "text/plain": [
       "array([5, 6, 7])"
      ]
     },
     "execution_count": 93,
     "metadata": {},
     "output_type": "execute_result"
    }
   ],
   "source": [
    "np.max(a, axis=0)"
   ]
  },
  {
   "cell_type": "code",
   "execution_count": 95,
   "id": "8d5e7350-862c-4036-8a31-c7b2273fba0e",
   "metadata": {
    "tags": []
   },
   "outputs": [
    {
     "data": {
      "text/plain": [
       "array([3, 7])"
      ]
     },
     "execution_count": 95,
     "metadata": {},
     "output_type": "execute_result"
    }
   ],
   "source": [
    "np.max(a, axis=1)"
   ]
  },
  {
   "cell_type": "markdown",
   "id": "d5be6327-d871-4000-ba43-d23b86b689c0",
   "metadata": {
    "tags": []
   },
   "source": [
    "argmax/argmin return indexes of elements with max/min values"
   ]
  },
  {
   "cell_type": "code",
   "execution_count": 37,
   "id": "d082de58-53e6-46f1-9f23-54896b2943e0",
   "metadata": {
    "tags": []
   },
   "outputs": [
    {
     "data": {
      "text/plain": [
       "array([[10,  5, 20],\n",
       "       [60,  9, 13]])"
      ]
     },
     "execution_count": 37,
     "metadata": {},
     "output_type": "execute_result"
    }
   ],
   "source": [
    "b = np.array([[10, 5, 20], [60, 9, 13]])\n",
    "b"
   ]
  },
  {
   "cell_type": "code",
   "execution_count": 38,
   "id": "6cabf81a-5e7b-4cee-b59d-d9f0500dc1bc",
   "metadata": {
    "tags": []
   },
   "outputs": [
    {
     "data": {
      "text/plain": [
       "3"
      ]
     },
     "execution_count": 38,
     "metadata": {},
     "output_type": "execute_result"
    }
   ],
   "source": [
    "np.argmax(b)"
   ]
  },
  {
   "cell_type": "markdown",
   "id": "07549677-dbe4-456c-8b8f-1188f3c77f2e",
   "metadata": {},
   "source": [
    "# Conditions"
   ]
  },
  {
   "cell_type": "markdown",
   "id": "a7978697-4c9f-48bf-89bb-26db8f65a6e3",
   "metadata": {
    "tags": []
   },
   "source": [
    "Conditional operators returns an array of the same size with boolean values"
   ]
  },
  {
   "cell_type": "code",
   "execution_count": 46,
   "id": "b8e43311-2438-4890-b04e-adb1de9c297d",
   "metadata": {
    "tags": []
   },
   "outputs": [
    {
     "data": {
      "text/plain": [
       "array([[ True,  True,  True],\n",
       "       [False, False, False]])"
      ]
     },
     "execution_count": 46,
     "metadata": {},
     "output_type": "execute_result"
    }
   ],
   "source": [
    "a < 5"
   ]
  },
  {
   "cell_type": "markdown",
   "id": "aeea909c-400e-43d4-94c7-606cf2e8a99c",
   "metadata": {
    "tags": []
   },
   "source": [
    "Conditionals can be also used as indexes to retrieve data"
   ]
  },
  {
   "cell_type": "code",
   "execution_count": 47,
   "id": "de6c09b1-9cca-40f4-81ed-530b8311bd11",
   "metadata": {
    "tags": []
   },
   "outputs": [
    {
     "data": {
      "text/plain": [
       "array([1, 2, 3])"
      ]
     },
     "execution_count": 47,
     "metadata": {},
     "output_type": "execute_result"
    }
   ],
   "source": [
    "a[a < 5]"
   ]
  },
  {
   "cell_type": "markdown",
   "id": "cdcfa7f6-62d5-4913-a698-0a20e26714df",
   "metadata": {
    "tags": []
   },
   "source": [
    "Conditionals can be formed into larger expressions with:\n",
    "- `&` AND\n",
    "- `|` OR\n",
    "but keep in mind, you have to put them into parentheses, as `&` and `|` have lower precedence"
   ]
  },
  {
   "cell_type": "code",
   "execution_count": 48,
   "id": "349caec9-c07e-4fd1-8062-a06d16d82070",
   "metadata": {
    "tags": []
   },
   "outputs": [
    {
     "data": {
      "text/plain": [
       "array([3])"
      ]
     },
     "execution_count": 48,
     "metadata": {},
     "output_type": "execute_result"
    }
   ],
   "source": [
    "a[(a > 2) & (a < 5)]"
   ]
  },
  {
   "cell_type": "markdown",
   "id": "535fef54-5791-44ed-9e77-d34e9734e15b",
   "metadata": {},
   "source": [
    "## if/then/else \n",
    "where(condition, then, else)"
   ]
  },
  {
   "cell_type": "code",
   "execution_count": 49,
   "id": "6a5d990b-9cf6-41c0-9c22-e1a442327cca",
   "metadata": {
    "tags": []
   },
   "outputs": [
    {
     "data": {
      "text/plain": [
       "array([[1, 2, 3],\n",
       "       [5, 6, 7]])"
      ]
     },
     "execution_count": 49,
     "metadata": {},
     "output_type": "execute_result"
    }
   ],
   "source": [
    "a"
   ]
  },
  {
   "cell_type": "markdown",
   "id": "dc958118-5ed9-4d1d-a507-a50fea280091",
   "metadata": {
    "tags": []
   },
   "source": [
    "`where` can replace elements if condition is met/unmet"
   ]
  },
  {
   "cell_type": "code",
   "execution_count": 52,
   "id": "cda5dcc8-4856-4a95-84c0-05f30875e8a5",
   "metadata": {
    "tags": []
   },
   "outputs": [
    {
     "data": {
      "text/plain": [
       "array([[1, 2, 3],\n",
       "       [0, 0, 0]])"
      ]
     },
     "execution_count": 52,
     "metadata": {},
     "output_type": "execute_result"
    }
   ],
   "source": [
    "np.where(a < 5, a, 0)"
   ]
  }
 ],
 "metadata": {
  "kernelspec": {
   "display_name": "Python 3 (ipykernel)",
   "language": "python",
   "name": "python3"
  },
  "language_info": {
   "codemirror_mode": {
    "name": "ipython",
    "version": 3
   },
   "file_extension": ".py",
   "mimetype": "text/x-python",
   "name": "python",
   "nbconvert_exporter": "python",
   "pygments_lexer": "ipython3",
   "version": "3.10.11"
  }
 },
 "nbformat": 4,
 "nbformat_minor": 5
}
