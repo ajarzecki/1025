{
 "cells": [
  {
   "cell_type": "markdown",
   "id": "db7f7c93-8c33-445e-bb0b-fdccf2d937cf",
   "metadata": {},
   "source": [
    "# Python 101\n"
   ]
  },
  {
   "cell_type": "markdown",
   "id": "dcde46b7-16de-44d4-94b0-3ee17ce75256",
   "metadata": {
    "tags": []
   },
   "source": [
    "# Basics"
   ]
  },
  {
   "cell_type": "markdown",
   "id": "4567d7bb-36ae-417e-b4d5-020f475570b9",
   "metadata": {
    "tags": []
   },
   "source": [
    "## Variables"
   ]
  },
  {
   "cell_type": "markdown",
   "id": "a4d65f1d-f688-4314-b482-86342a272054",
   "metadata": {
    "tags": []
   },
   "source": [
    "## Built-in data types\n",
    "<table style=\"float: left; text-align: left; vertical-align:top\">\n",
    "    <tr style=\"border-bottom: 1px solid;\">\n",
    "        <th style=\"border-right: 1px solid; \">Group</th>\n",
    "        <th style=\"border-right: 1px solid; \">Type</th>\n",
    "        <th>Usage</th>\n",
    "        <th>Result</th>\n",
    "    </tr>\n",
    "    <tr style=\"border-bottom: 1px solid;\">\n",
    "        <td style=\"border-right: 1px solid; \">Text</td>\n",
    "        <td style=\"border-right: 1px solid; \">str</td>\n",
    "        <td>\"Pragmatic AI\"</td>\n",
    "        <td></td>\n",
    "    </tr>    \n",
    "    <tr>\n",
    "        <td rowspan=3 style=\"vertical-align: top; border-right: 1px solid;\">Numeric</td>\n",
    "        <td style=\"border-right: 1px solid; \">int</td>\n",
    "        <td>123</td>\n",
    "        <td></td>\n",
    "    </tr>\n",
    "    <tr>\n",
    "        <td style=\"border-right: 1px solid; \">float</td>\n",
    "        <td>123.0</td>\n",
    "        <td></td>\n",
    "    </tr>\n",
    "    <tr style=\"border-bottom: 1px solid;\">\n",
    "        <td style=\"border-right: 1px solid; \">complex</td>\n",
    "        <td>1+2j</td>\n",
    "        <td></td>\n",
    "    </tr>\n",
    "    <tr>\n",
    "        <td rowspan=6 style=\"vertical-align: top; border-right: 1px solid; border-bottom: 1px solid\">Sequence</td>\n",
    "        <td style=\"border-right: 1px solid; \">list</td>\n",
    "        <td>[\"apple\", \"banana\", \"cherry\"]</td>\n",
    "        <td></td>\n",
    "    </tr>    \n",
    "    <tr>\n",
    "        <td rowspan=2 style=\"border-right: 1px solid; vertical-align: top\">tuple</td>\n",
    "        <td>(\"apple\", 120.5, \"fruit\")</td>\n",
    "        <td></td>\n",
    "    </tr>\n",
    "    <tr>\n",
    "        <td>(1,)</td>\n",
    "        <td></td>\n",
    "    </tr>\n",
    "    <tr>\n",
    "        <td rowspan=3 style=\"border-right: 1px solid; vertical-align: top;border-bottom: 1px solid;\">range</td>\n",
    "        <td>range(5)</td>\n",
    "        <td>0, 1, 2, 3, 4</td>\n",
    "    </tr>\n",
    "    <tr>\n",
    "        <td>range(5,8)</td>\n",
    "        <td>5, 6, 7</td>\n",
    "    </tr>\n",
    "    <tr>\n",
    "        <td style=\"border-bottom: 1px solid; \">range(0,20, 5)</td>\n",
    "        <td style=\"border-bottom: 1px solid; \">0, 5, 10, 15</td>\n",
    "    </tr>\n",
    "    <tr style=\"border-bottom: 1px solid;\">\n",
    "        <td style=\"border-right: 1px solid; \">Mapping</td>\n",
    "        <td style=\"border-right: 1px solid; \">dict</td>\n",
    "        <td>{ \"vendor\": \"Apple\", \"model\": \"Mac Book Pro\", \"year_of_production\": 2022 }</td>\n",
    "        <td></td>\n",
    "    </tr>\n",
    "    <tr>\n",
    "        <td rowspan=2 style=\"vertical-align: top; border-right: 1px solid; \">Set</td>\n",
    "        <td style=\"border-right: 1px solid; \">set</td>\n",
    "        <td>set([1, 2, 3])</td>\n",
    "        <td></td>\n",
    "    </tr>    \n",
    "    <tr style=\"border-bottom: 1px solid;\">\n",
    "        <td style=\"border-right: 1px solid; \">frozenset</td>\n",
    "        <td>frozenset([1, 2, 3])</td>\n",
    "        <td></td>\n",
    "    </tr>\n",
    "    <tr>\n",
    "        <td rowspan=2 style=\"border-right: 1px solid; vertical-align: top;border-bottom: 1px solid;\">Boolean</td>\n",
    "        <td rowspan=2 style=\"border-right: 1px solid; vertical-align: top;border-bottom: 1px solid;\">bool</td>\n",
    "        <td>True</td>\n",
    "        <td></td>\n",
    "    </tr>\n",
    "    <tr style=\"border-bottom: 1px solid;\">\n",
    "        <td>False</td>\n",
    "        <td></td>\n",
    "    </tr>\n",
    "    <tr style=\"border-bottom: 1px solid;\">\n",
    "        <td style=\"border-right: 1px solid; \">None</td>\n",
    "        <td style=\"border-right: 1px solid; \">NoneType</td>\n",
    "        <td>None</td>\n",
    "        <td></td>\n",
    "    </tr>\n",
    "\n",
    "</table>"
   ]
  },
  {
   "cell_type": "markdown",
   "id": "7bef3f1d-0964-49ec-bad0-f370857025bb",
   "metadata": {
    "tags": []
   },
   "source": [
    "Although tuples may seem similar to lists, they differ:\n",
    "* tuples are immutable\n",
    "* single-element tuples require a trailing comma, e.g.: (1,)\n",
    "* tuples are lighter and slightly faster\n",
    "* usually lists are used for homogeneous data types, while tuples often have heterogeneous data"
   ]
  },
  {
   "cell_type": "markdown",
   "id": "667fbc7d-5f00-48a2-81cb-b532b0db435b",
   "metadata": {
    "tags": []
   },
   "source": [
    "## Assignment"
   ]
  },
  {
   "cell_type": "code",
   "execution_count": 29,
   "id": "89ba8796-bda4-4844-aafa-86e78e490fb5",
   "metadata": {
    "tags": []
   },
   "outputs": [
    {
     "name": "stdout",
     "output_type": "stream",
     "text": [
      "First 10 40\n",
      "Second 40 10\n"
     ]
    }
   ],
   "source": [
    "name = \"Bartek\"     # str\n",
    "age = 43            # \n",
    "height = 1.82       # float\n",
    "is_admin = False    # bool\n",
    "\n",
    "complex_number = 2 + 3j\n",
    "\n",
    "a, b = 10, 40\n",
    "print('First', a, b)\n",
    "\n",
    "b, a = a, b\n",
    "print('Second', a, b)"
   ]
  },
  {
   "cell_type": "code",
   "execution_count": 25,
   "id": "7d685cd3-9b1e-4f52-bf03-00e6303259bd",
   "metadata": {
    "tags": []
   },
   "outputs": [],
   "source": [
    "# TRY BY YOURSELF - WRITE CODE HERE\n"
   ]
  },
  {
   "cell_type": "markdown",
   "id": "e9582310-35bc-475c-ad3f-6b73757ff45d",
   "metadata": {
    "tags": []
   },
   "source": [
    "## Type conversions"
   ]
  },
  {
   "cell_type": "code",
   "execution_count": 376,
   "id": "3d874a1c-30e1-40e9-aa5b-d394a5e327cb",
   "metadata": {
    "tags": []
   },
   "outputs": [
    {
     "name": "stdout",
     "output_type": "stream",
     "text": [
      "3\n",
      "7\n",
      "7.0\n",
      "3.7\n",
      "3\n",
      "3.7\n"
     ]
    }
   ],
   "source": [
    "print(int(3.7))  # Output: 3\n",
    "print(int('7'))  # Output: 7\n",
    "\n",
    "print(float(7))   # Output: 7.0\n",
    "print(float('3.7'))  # Output: 3.7\n",
    "\n",
    "print(str(3))  # Output: '3'\n",
    "print(str(3.7))  # Output: '3.7'"
   ]
  },
  {
   "cell_type": "code",
   "execution_count": 35,
   "id": "48882330-672f-45ef-9f0c-80558cd2b168",
   "metadata": {
    "tags": []
   },
   "outputs": [
    {
     "data": {
      "text/plain": [
       "5"
      ]
     },
     "execution_count": 35,
     "metadata": {},
     "output_type": "execute_result"
    }
   ],
   "source": [
    "# TRY BY YOURSELF - WRITE CODE HERE\n",
    "# \"Bartek\" + \"asijdoajdso\"\n",
    "#2 + 3\n",
    "\n",
    "x = \"2\"\n",
    "y = \"3\"\n",
    "\n",
    "int(x)+int(y)"
   ]
  },
  {
   "cell_type": "markdown",
   "id": "b99a708b-5dfe-4c8b-a134-f48760faf6f1",
   "metadata": {
    "tags": []
   },
   "source": [
    "## Strings"
   ]
  },
  {
   "cell_type": "code",
   "execution_count": 1,
   "id": "6e72d177-303f-4e29-8738-bfd54f05ccb1",
   "metadata": {
    "tags": []
   },
   "outputs": [
    {
     "name": "stdout",
     "output_type": "stream",
     "text": [
      "Single-quoted txt\n",
      "Double quoted txt\n",
      "Multi line\n",
      "textd\n",
      "using three double-quotes\n"
     ]
    }
   ],
   "source": [
    "txt1 = 'Single-quoted txt'\n",
    "print(txt1)\n",
    "\n",
    "txt2 = \"Double quoted txt\"\n",
    "print(txt2)\n",
    "\n",
    "txt3 = \"\"\"Multi line\n",
    "textd\n",
    "using three double-quotes\"\"\"\n",
    "print(txt3)\n"
   ]
  },
  {
   "cell_type": "code",
   "execution_count": 164,
   "id": "960a98d8-091a-4b8a-8a29-1dabd0b51b79",
   "metadata": {
    "tags": []
   },
   "outputs": [],
   "source": [
    "# TRY BY YOURSELF - WRITE CODE HERE\n"
   ]
  },
  {
   "cell_type": "markdown",
   "id": "c209005b-e487-43b2-8815-fcff7ac8eece",
   "metadata": {},
   "source": [
    "#### Interpolation"
   ]
  },
  {
   "cell_type": "code",
   "execution_count": 57,
   "id": "b75be039-1b93-4b1a-a897-4bbeebe8298b",
   "metadata": {
    "tags": []
   },
   "outputs": [
    {
     "data": {
      "text/plain": [
       "'Hello, Bartek, how are you doing today 34? '"
      ]
     },
     "execution_count": 57,
     "metadata": {},
     "output_type": "execute_result"
    }
   ],
   "source": [
    "name = \"Bartek\"\n",
    "\n",
    "message = f\"Hello, {name}, how are you doing today {23 + 11}? \"\n",
    "message\n",
    "# print(message)\n",
    "\n",
    "# \"Hello, \" + name + \", how are you?\""
   ]
  },
  {
   "cell_type": "code",
   "execution_count": 331,
   "id": "1a6c2886-2bbc-481d-a489-caf39e5a6b60",
   "metadata": {
    "tags": []
   },
   "outputs": [],
   "source": [
    "# TRY BY YOURSELF - WRITE CODE HERE\n"
   ]
  },
  {
   "cell_type": "markdown",
   "id": "a4f7dbc2-bfba-461d-9401-cbf0d6903b6d",
   "metadata": {
    "tags": []
   },
   "source": [
    "#### Interpolation with padding, justification and filler character"
   ]
  },
  {
   "cell_type": "code",
   "execution_count": 343,
   "id": "86d4da0a-0a08-4ea1-8c41-c74597fd81c2",
   "metadata": {
    "tags": []
   },
   "outputs": [
    {
     "name": "stdout",
     "output_type": "stream",
     "text": [
      "---------------\n",
      "Bartek         \n",
      "    Bartek     \n",
      "         Bartek\n",
      "....Bartek.....\n"
     ]
    }
   ],
   "source": [
    "name = \"Bartek\"\n",
    "\n",
    "print(\"-\"*15)\n",
    "print(f\"{name:<15}\")\n",
    "print(f\"{name:^15}\")\n",
    "print(f\"{name:>15}\")\n",
    "\n",
    "# filler\n",
    "print(f\"{name:.^15}\")"
   ]
  },
  {
   "cell_type": "code",
   "execution_count": 164,
   "id": "9f984812-124d-4b9e-a951-37ecea7163d2",
   "metadata": {
    "tags": []
   },
   "outputs": [],
   "source": [
    "# TRY BY YOURSELF - WRITE CODE HERE\n"
   ]
  },
  {
   "cell_type": "markdown",
   "id": "af9cc609-c8f7-4d63-9c50-27985a843d5a",
   "metadata": {
    "tags": []
   },
   "source": [
    "#### Raw strings"
   ]
  },
  {
   "cell_type": "code",
   "execution_count": 58,
   "id": "53bf9ad1-a54a-4fdf-bc6d-4d190b3bf5c3",
   "metadata": {
    "tags": []
   },
   "outputs": [
    {
     "data": {
      "text/plain": [
       "'x\\\\nqqq{qq}'"
      ]
     },
     "execution_count": 58,
     "metadata": {},
     "output_type": "execute_result"
    }
   ],
   "source": [
    "r\"x\\nqqq{qq}\""
   ]
  },
  {
   "cell_type": "code",
   "execution_count": 164,
   "id": "55ae4daa-9625-4a51-9a1d-06237dddfced",
   "metadata": {
    "tags": []
   },
   "outputs": [],
   "source": [
    "# TRY BY YOURSELF - WRITE CODE HERE\n"
   ]
  },
  {
   "cell_type": "markdown",
   "id": "bb5effe8-6b8d-41c2-8c5e-53016e9cb1fe",
   "metadata": {
    "tags": []
   },
   "source": [
    "#### Slicing"
   ]
  },
  {
   "cell_type": "code",
   "execution_count": 2,
   "id": "039a3565-0897-4a6a-bb17-e5734e0d1682",
   "metadata": {
    "tags": []
   },
   "outputs": [
    {
     "name": "stdout",
     "output_type": "stream",
     "text": [
      "T\n",
      "his is\n",
      "is a test\n",
      "test\n",
      "his is a t\n"
     ]
    }
   ],
   "source": [
    "course = \"This is a test\"\n",
    "print(course[0])\n",
    "print(course[1:7])\n",
    "print(course[5:])\n",
    "print(course[-4:])\n",
    "print(course[1:-3])"
   ]
  },
  {
   "cell_type": "code",
   "execution_count": 164,
   "id": "d72b4c0c-803c-4fa3-a580-de62400f2ebb",
   "metadata": {
    "tags": []
   },
   "outputs": [],
   "source": [
    "# TRY BY YOURSELF - WRITE CODE HERE\n"
   ]
  },
  {
   "cell_type": "markdown",
   "id": "ccb2324d-c85d-40f3-b9f1-54cd6543879d",
   "metadata": {
    "tags": []
   },
   "source": [
    "#### Common operations on strings"
   ]
  },
  {
   "cell_type": "code",
   "execution_count": 76,
   "id": "5e422c00-aed8-45ee-a1a1-2c5f572db6fa",
   "metadata": {
    "tags": []
   },
   "outputs": [
    {
     "data": {
      "text/plain": [
       "True"
      ]
     },
     "execution_count": 76,
     "metadata": {},
     "output_type": "execute_result"
    }
   ],
   "source": [
    "qqq = \"qwehrijhqweir\"\n",
    "qqq.startswith(\"qw\")\n"
   ]
  },
  {
   "cell_type": "code",
   "execution_count": 607,
   "id": "954a4a88-78e4-4454-85a4-8d65f0b3b870",
   "metadata": {},
   "outputs": [
    {
     "name": "stdout",
     "output_type": "stream",
     "text": [
      "False\n",
      "True\n",
      "True\n",
      "2\n",
      "['Bartek', 'Pampuch']\n"
     ]
    }
   ],
   "source": [
    "name = \"Bartek Pampuch\"\n",
    "\n",
    "print(name.startswith(\"b\")) # False\n",
    "print(name.startswith(\"B\")) # True\n",
    "\n",
    "print(name.lower().startswith(\"ba\")) # True\n",
    "print(name.count(\"a\"))      # 2\n",
    "print(name.split(\" \"))      # [ 'Bartek', 'Pampuch' ]"
   ]
  },
  {
   "cell_type": "code",
   "execution_count": 608,
   "id": "d6443cf5-b8f2-4418-b1c0-5c734bb4c84a",
   "metadata": {},
   "outputs": [
    {
     "name": "stdout",
     "output_type": "stream",
     "text": [
      "Bartek, Ann, John\n"
     ]
    }
   ],
   "source": [
    "print(\", \".join([\"Bartek\", \"Ann\", \"John\"]))  # Bartek, Ann, John"
   ]
  },
  {
   "cell_type": "markdown",
   "id": "0c066a8c-8237-4e34-a095-6a48016be526",
   "metadata": {
    "tags": []
   },
   "source": [
    "#### Finding substrings"
   ]
  },
  {
   "cell_type": "code",
   "execution_count": 621,
   "id": "af191480-95cf-462a-a378-7f2f5e1c6abf",
   "metadata": {
    "tags": []
   },
   "outputs": [
    {
     "name": "stdout",
     "output_type": "stream",
     "text": [
      "1\n",
      "-1\n",
      "1\n"
     ]
    }
   ],
   "source": [
    "print(name.find(\"art\"))    # 1\n",
    "print(name.find(\"qqq\"))    # -1\n",
    "\n",
    "print(name.index(\"art\"))   # 1\n",
    "\n",
    "try:\n",
    "    print(name.index(\"qqq\"))  # throws an exception\n",
    "except ValueError:\n",
    "    pass\n"
   ]
  },
  {
   "cell_type": "code",
   "execution_count": 164,
   "id": "e6d3cf61-41f4-4e70-8a98-1e586e70d24d",
   "metadata": {
    "tags": []
   },
   "outputs": [],
   "source": [
    "# TRY BY YOURSELF - WRITE CODE HERE\n"
   ]
  },
  {
   "cell_type": "markdown",
   "id": "7773cb4d-8726-45c3-80f2-775b9279cf47",
   "metadata": {
    "tags": []
   },
   "source": [
    "## Lists"
   ]
  },
  {
   "cell_type": "markdown",
   "id": "022a23e0-fc43-4440-a481-1685aba7f291",
   "metadata": {
    "tags": []
   },
   "source": [
    "### Methods"
   ]
  },
  {
   "cell_type": "code",
   "execution_count": null,
   "id": "75412ce6-f2e9-49bc-bc4a-81125d40537f",
   "metadata": {
    "tags": []
   },
   "outputs": [],
   "source": [
    "# Creating a list\n",
    "fruits = ['apple', 'banana', 'cherry']\n",
    "\n",
    "# Accessing elements by index\n",
    "print(fruits[0])  # Output: apple\n",
    "print(fruits[-1])  # Output: cherry\n",
    "\n",
    "# Modifying elements\n",
    "fruits[1] = 'orange'\n",
    "print(fruits)  # Output: ['apple', 'orange', 'cherry']\n",
    "\n",
    "# Adding elements to the end\n",
    "fruits.append('mango')\n",
    "print(fruits)  # Output: ['apple', 'orange', 'cherry', 'mango']\n",
    "\n",
    "# Extending with another list\n",
    "fruits.extend(['pineapple', 'watermelon'])\n",
    "print(fruits)  # Output: ['apple', 'orange', 'cherry', 'mango', 'pineapple', 'watermelon']\n",
    "\n",
    "# Inserting elements at a specific position\n",
    "fruits.insert(1, 'kiwi')\n",
    "print(fruits)  # Output: ['apple', 'kiwi', 'orange', 'cherry', 'mango', 'pineapple', 'watermelon']\n",
    "\n",
    "# Removing elements by value\n",
    "fruits.remove('cherry')\n",
    "print(fruits)  # Output: ['apple', 'kiwi', 'orange', 'mango', 'pineapple', 'watermelon']\n",
    "\n",
    "# Removing elements by index\n",
    "removed_fruit = fruits.pop(3)\n",
    "print(removed_fruit)  # Output: mango\n",
    "print(fruits)  # Output: ['apple', 'kiwi', 'orange', 'pineapple', 'watermelon']\n",
    "\n",
    "# Sorting the list\n",
    "fruits.sort()\n",
    "print(fruits)  # Output: ['apple', 'kiwi', 'orange', 'pineapple', 'watermelon']\n",
    "\n",
    "# Reversing the order\n",
    "fruits.reverse()\n",
    "print(fruits)  # Output: ['watermelon', 'pineapple', 'orange', 'kiwi', 'apple']\n",
    "\n",
    "# Getting the index of an element\n",
    "index = fruits.index('orange')\n",
    "print(index)  # Output: 2\n",
    "\n",
    "# Getting the count of an element\n",
    "count = fruits.count('kiwi')\n",
    "print(count)  # Output: 1\n",
    "\n",
    "# Getting the length of the list\n",
    "length = len(fruits)\n",
    "print(length)  # Output: 5\n",
    "\n",
    "# Clearing the list\n",
    "fruits.clear()\n",
    "print(fruits)  # Output: []"
   ]
  },
  {
   "cell_type": "code",
   "execution_count": null,
   "id": "194d35cb-6ebf-4009-9bfb-10dc886b205d",
   "metadata": {
    "tags": []
   },
   "outputs": [],
   "source": [
    "# TRY BY YOURSELF - WRITE CODE HERE\n"
   ]
  },
  {
   "cell_type": "markdown",
   "id": "dc12bb29-c400-459d-a9ba-ffbea136270d",
   "metadata": {
    "tags": []
   },
   "source": [
    "### Concatenation methods"
   ]
  },
  {
   "cell_type": "code",
   "execution_count": null,
   "id": "304ffb1e-7395-4647-b793-a75182c613a2",
   "metadata": {
    "tags": []
   },
   "outputs": [],
   "source": [
    "# Method 1: Using the + operator\n",
    "fruits1 = ['apple', 'banana']\n",
    "fruits2 = ['cherry', 'orange']\n",
    "concatenated_list = fruits1 + fruits2\n",
    "print(concatenated_list)  # Output: ['apple', 'banana', 'cherry', 'orange']\n",
    "\n",
    "# Method 2: Using the extend() method\n",
    "fruits1 = ['apple', 'banana']\n",
    "fruits2 = ['cherry', 'orange']\n",
    "fruits1.extend(fruits2)\n",
    "print(fruits1)  # Output: ['apple', 'banana', 'cherry', 'orange']\n",
    "\n",
    "# Method 3: Using the unpacking operator *\n",
    "fruits1 = ['apple', 'banana']\n",
    "fruits2 = ['cherry', 'orange']\n",
    "concatenated_list = [*fruits1, *fruits2]\n",
    "print(concatenated_list)  # Output: ['apple', 'banana', 'cherry', 'orange']"
   ]
  },
  {
   "cell_type": "code",
   "execution_count": null,
   "id": "2487543e-efbf-43ea-8654-ecb58844ec7f",
   "metadata": {
    "tags": []
   },
   "outputs": [],
   "source": [
    "# TRY BY YOURSELF - WRITE CODE HERE\n"
   ]
  },
  {
   "cell_type": "markdown",
   "id": "53c95c8e-5c53-456a-b1c0-53d02689876f",
   "metadata": {},
   "source": [
    "### Slicing"
   ]
  },
  {
   "cell_type": "code",
   "execution_count": null,
   "id": "6ce76543-71d6-4c4f-993c-8abe6a279475",
   "metadata": {
    "tags": []
   },
   "outputs": [],
   "source": [
    "base_list = [0, 1, 2, 3, 4, 5, 6, 7, 8, 9, 10]\n",
    "first_index = 3\n",
    "first_out_index = 6\n",
    "step = 2\n",
    "\n",
    "list1 = base_list[2:first_out_index]\n",
    "list2 = base_list[first_in_index:]\n",
    "list3 = base_list[:first_out_index]\n",
    "list4 = base_list[first_index:first_out_index:step]\n",
    "\n",
    "print(\"baselist:\", base_list)\n",
    "print(\"list1:\", list1)\n",
    "print(\"list2:\", list2)\n",
    "print(\"list3:\", list3)\n",
    "print(\"list4:\", list4)\n"
   ]
  },
  {
   "cell_type": "code",
   "execution_count": null,
   "id": "57b2c2c9-2d0b-4954-94df-5318162a07ed",
   "metadata": {
    "tags": []
   },
   "outputs": [],
   "source": [
    "# TRY BY YOURSELF - WRITE CODE HERE\n"
   ]
  },
  {
   "cell_type": "markdown",
   "id": "cc6ac4bf-9a1e-4bc2-86ac-d611c8a757f7",
   "metadata": {
    "tags": []
   },
   "source": [
    "### Unpacking lists"
   ]
  },
  {
   "cell_type": "code",
   "execution_count": 294,
   "id": "58aefdb9-5e1d-4352-9e3a-d2d0418ecc2d",
   "metadata": {
    "tags": []
   },
   "outputs": [
    {
     "data": {
      "text/plain": [
       "6"
      ]
     },
     "execution_count": 294,
     "metadata": {},
     "output_type": "execute_result"
    }
   ],
   "source": [
    "def add(x, y, z):\n",
    "    return x + y + z\n",
    "\n",
    "numbers = [1, 2, 3]\n",
    "\n",
    "add(*numbers) # results: 6"
   ]
  },
  {
   "cell_type": "code",
   "execution_count": 164,
   "id": "1b89e345-7ce5-4872-b184-d7283f3e9172",
   "metadata": {
    "tags": []
   },
   "outputs": [],
   "source": [
    "# TRY BY YOURSELF - WRITE CODE HERE\n"
   ]
  },
  {
   "cell_type": "markdown",
   "id": "f8e8dddc-cdeb-4167-9300-d0e57794014c",
   "metadata": {
    "tags": []
   },
   "source": [
    "### Destructuring"
   ]
  },
  {
   "cell_type": "code",
   "execution_count": 589,
   "id": "4c16c45d-defd-4ddd-8a28-58fa985389d9",
   "metadata": {
    "tags": []
   },
   "outputs": [
    {
     "name": "stdout",
     "output_type": "stream",
     "text": [
      "1\n",
      "2\n"
     ]
    }
   ],
   "source": [
    "first, second = [1, 2]\n",
    "print(first)\n",
    "print(second)\n",
    "\n",
    "# first, second = [1, 2, 3, 4]     # <<< this won't work"
   ]
  },
  {
   "cell_type": "markdown",
   "id": "d5216f54-97fb-4a3b-8fcb-2cab36500626",
   "metadata": {
    "tags": []
   },
   "source": [
    "### Unpacking with destructuring"
   ]
  },
  {
   "cell_type": "code",
   "execution_count": 582,
   "id": "cd53c464-d1c9-4e74-a70b-181b8b6eee2c",
   "metadata": {
    "tags": []
   },
   "outputs": [
    {
     "name": "stdout",
     "output_type": "stream",
     "text": [
      "1\n",
      "2\n",
      "[3, 4, 5, 6, 7, 8]\n",
      "9\n"
     ]
    }
   ],
   "source": [
    "numbers = [1, 2, 3, 4, 5, 6, 7, 8, 9]\n",
    "first, second, *rest, last = numbers\n",
    "print(first)  # Output: 1\n",
    "print(second) # Output: 2\n",
    "print(rest)   # Output: [3, 4, 5, 6, 7, 8]\n",
    "print(last)   # Output: 9"
   ]
  },
  {
   "cell_type": "code",
   "execution_count": 164,
   "id": "2c258225-fb51-4d64-b9b5-717aa863f6a2",
   "metadata": {
    "tags": []
   },
   "outputs": [],
   "source": [
    "# TRY BY YOURSELF - WRITE CODE HERE\n"
   ]
  },
  {
   "cell_type": "markdown",
   "id": "5041a9b3-5c41-4e80-b7cb-d1e7c2840122",
   "metadata": {
    "tags": []
   },
   "source": [
    "## Before we dig deeper (exploring Python tips & tricks)\n",
    "\n",
    "You can access the built-in documentation (docstrings) of objectrs, modules, functions, classes etc, by passing the object or function name as an argument to `help()`.\n",
    "```python\n",
    "help(list)\n",
    "help(list.append)\n",
    "```"
   ]
  },
  {
   "cell_type": "code",
   "execution_count": 7,
   "id": "c0f8d6f6-ea80-4234-a25f-88143bdb7de2",
   "metadata": {
    "tags": []
   },
   "outputs": [],
   "source": [
    "# TRY BY YOURSELF - WRITE CODE HERE\n"
   ]
  },
  {
   "cell_type": "markdown",
   "id": "3e89cb3c-f32b-4943-9309-f3eb26c65422",
   "metadata": {
    "tags": []
   },
   "source": [
    "Jupyter (IPython) also allows adding a `?` suffix to get help, and it provides better coloring.\n",
    "However it doesn't work on deep chains, so it's better to assign the object you're exploring to a variable first"
   ]
  },
  {
   "cell_type": "code",
   "execution_count": 8,
   "id": "680afa12-b6ef-4e3f-9742-807e140da5f0",
   "metadata": {
    "tags": []
   },
   "outputs": [
    {
     "data": {
      "text/plain": [
       "\u001b[0;31mSignature:\u001b[0m   \u001b[0mhelp\u001b[0m\u001b[0;34m(\u001b[0m\u001b[0;34m*\u001b[0m\u001b[0margs\u001b[0m\u001b[0;34m,\u001b[0m \u001b[0;34m**\u001b[0m\u001b[0mkwds\u001b[0m\u001b[0;34m)\u001b[0m\u001b[0;34m\u001b[0m\u001b[0;34m\u001b[0m\u001b[0m\n",
       "\u001b[0;31mType:\u001b[0m        _Helper\n",
       "\u001b[0;31mString form:\u001b[0m Type help() for interactive help, or help(object) for help about object.\n",
       "\u001b[0;31mNamespace:\u001b[0m   Python builtin\n",
       "\u001b[0;31mFile:\u001b[0m        /opt/homebrew/Cellar/python@3.10/3.10.11/Frameworks/Python.framework/Versions/3.10/lib/python3.10/_sitebuiltins.py\n",
       "\u001b[0;31mDocstring:\u001b[0m  \n",
       "Define the builtin 'help'.\n",
       "\n",
       "This is a wrapper around pydoc.help that provides a helpful message\n",
       "when 'help' is typed at the Python interactive prompt.\n",
       "\n",
       "Calling help() at the Python prompt starts an interactive help session.\n",
       "Calling help(thing) prints help for the python object 'thing'."
      ]
     },
     "metadata": {},
     "output_type": "display_data"
    }
   ],
   "source": [
    "help?"
   ]
  },
  {
   "cell_type": "markdown",
   "id": "d3057c71-2562-4cde-b601-7d37ce9606fb",
   "metadata": {
    "tags": []
   },
   "source": [
    "Another useful function is `dir()`. It returns a list of valid attributes and methods available in current context.\n",
    "\n",
    "```python\n",
    "dir(list)\n",
    "dir()\n",
    "```"
   ]
  },
  {
   "cell_type": "code",
   "execution_count": 12,
   "id": "dbcc1c46-c888-4783-b8ee-75529b16a601",
   "metadata": {
    "tags": []
   },
   "outputs": [],
   "source": [
    "# TRY BY YOURSELF - WRITE CODE HERE"
   ]
  },
  {
   "cell_type": "markdown",
   "id": "deec39c9-ce29-49a4-8334-b5f6e117db07",
   "metadata": {},
   "source": [
    "To get more information, `??` can be used to show source code"
   ]
  },
  {
   "cell_type": "code",
   "execution_count": 3,
   "id": "a01a0cd9-b3b1-43f6-b4eb-bfae5934fb6a",
   "metadata": {
    "tags": []
   },
   "outputs": [
    {
     "data": {
      "text/plain": [
       "\u001b[0;31mSignature:\u001b[0m \u001b[0mnp\u001b[0m\u001b[0;34m.\u001b[0m\u001b[0mones\u001b[0m\u001b[0;34m(\u001b[0m\u001b[0mshape\u001b[0m\u001b[0;34m,\u001b[0m \u001b[0mdtype\u001b[0m\u001b[0;34m=\u001b[0m\u001b[0;32mNone\u001b[0m\u001b[0;34m,\u001b[0m \u001b[0morder\u001b[0m\u001b[0;34m=\u001b[0m\u001b[0;34m'C'\u001b[0m\u001b[0;34m,\u001b[0m \u001b[0;34m*\u001b[0m\u001b[0;34m,\u001b[0m \u001b[0mlike\u001b[0m\u001b[0;34m=\u001b[0m\u001b[0;32mNone\u001b[0m\u001b[0;34m)\u001b[0m\u001b[0;34m\u001b[0m\u001b[0;34m\u001b[0m\u001b[0m\n",
       "\u001b[0;31mDocstring:\u001b[0m\n",
       "Return a new array of given shape and type, filled with ones.\n",
       "\n",
       "Parameters\n",
       "----------\n",
       "shape : int or sequence of ints\n",
       "    Shape of the new array, e.g., ``(2, 3)`` or ``2``.\n",
       "dtype : data-type, optional\n",
       "    The desired data-type for the array, e.g., `numpy.int8`.  Default is\n",
       "    `numpy.float64`.\n",
       "order : {'C', 'F'}, optional, default: C\n",
       "    Whether to store multi-dimensional data in row-major\n",
       "    (C-style) or column-major (Fortran-style) order in\n",
       "    memory.\n",
       "like : array_like, optional\n",
       "    Reference object to allow the creation of arrays which are not\n",
       "    NumPy arrays. If an array-like passed in as ``like`` supports\n",
       "    the ``__array_function__`` protocol, the result will be defined\n",
       "    by it. In this case, it ensures the creation of an array object\n",
       "    compatible with that passed in via this argument.\n",
       "\n",
       "    .. versionadded:: 1.20.0\n",
       "\n",
       "Returns\n",
       "-------\n",
       "out : ndarray\n",
       "    Array of ones with the given shape, dtype, and order.\n",
       "\n",
       "See Also\n",
       "--------\n",
       "ones_like : Return an array of ones with shape and type of input.\n",
       "empty : Return a new uninitialized array.\n",
       "zeros : Return a new array setting values to zero.\n",
       "full : Return a new array of given shape filled with value.\n",
       "\n",
       "\n",
       "Examples\n",
       "--------\n",
       ">>> np.ones(5)\n",
       "array([1., 1., 1., 1., 1.])\n",
       "\n",
       ">>> np.ones((5,), dtype=int)\n",
       "array([1, 1, 1, 1, 1])\n",
       "\n",
       ">>> np.ones((2, 1))\n",
       "array([[1.],\n",
       "       [1.]])\n",
       "\n",
       ">>> s = (2,2)\n",
       ">>> np.ones(s)\n",
       "array([[1.,  1.],\n",
       "       [1.,  1.]])\n",
       "\u001b[0;31mSource:\u001b[0m   \n",
       "\u001b[0;34m@\u001b[0m\u001b[0mset_array_function_like_doc\u001b[0m\u001b[0;34m\u001b[0m\n",
       "\u001b[0;34m\u001b[0m\u001b[0;34m@\u001b[0m\u001b[0mset_module\u001b[0m\u001b[0;34m(\u001b[0m\u001b[0;34m'numpy'\u001b[0m\u001b[0;34m)\u001b[0m\u001b[0;34m\u001b[0m\n",
       "\u001b[0;34m\u001b[0m\u001b[0;32mdef\u001b[0m \u001b[0mones\u001b[0m\u001b[0;34m(\u001b[0m\u001b[0mshape\u001b[0m\u001b[0;34m,\u001b[0m \u001b[0mdtype\u001b[0m\u001b[0;34m=\u001b[0m\u001b[0;32mNone\u001b[0m\u001b[0;34m,\u001b[0m \u001b[0morder\u001b[0m\u001b[0;34m=\u001b[0m\u001b[0;34m'C'\u001b[0m\u001b[0;34m,\u001b[0m \u001b[0;34m*\u001b[0m\u001b[0;34m,\u001b[0m \u001b[0mlike\u001b[0m\u001b[0;34m=\u001b[0m\u001b[0;32mNone\u001b[0m\u001b[0;34m)\u001b[0m\u001b[0;34m:\u001b[0m\u001b[0;34m\u001b[0m\n",
       "\u001b[0;34m\u001b[0m    \u001b[0;34m\"\"\"\u001b[0m\n",
       "\u001b[0;34m    Return a new array of given shape and type, filled with ones.\u001b[0m\n",
       "\u001b[0;34m\u001b[0m\n",
       "\u001b[0;34m    Parameters\u001b[0m\n",
       "\u001b[0;34m    ----------\u001b[0m\n",
       "\u001b[0;34m    shape : int or sequence of ints\u001b[0m\n",
       "\u001b[0;34m        Shape of the new array, e.g., ``(2, 3)`` or ``2``.\u001b[0m\n",
       "\u001b[0;34m    dtype : data-type, optional\u001b[0m\n",
       "\u001b[0;34m        The desired data-type for the array, e.g., `numpy.int8`.  Default is\u001b[0m\n",
       "\u001b[0;34m        `numpy.float64`.\u001b[0m\n",
       "\u001b[0;34m    order : {'C', 'F'}, optional, default: C\u001b[0m\n",
       "\u001b[0;34m        Whether to store multi-dimensional data in row-major\u001b[0m\n",
       "\u001b[0;34m        (C-style) or column-major (Fortran-style) order in\u001b[0m\n",
       "\u001b[0;34m        memory.\u001b[0m\n",
       "\u001b[0;34m    ${ARRAY_FUNCTION_LIKE}\u001b[0m\n",
       "\u001b[0;34m\u001b[0m\n",
       "\u001b[0;34m        .. versionadded:: 1.20.0\u001b[0m\n",
       "\u001b[0;34m\u001b[0m\n",
       "\u001b[0;34m    Returns\u001b[0m\n",
       "\u001b[0;34m    -------\u001b[0m\n",
       "\u001b[0;34m    out : ndarray\u001b[0m\n",
       "\u001b[0;34m        Array of ones with the given shape, dtype, and order.\u001b[0m\n",
       "\u001b[0;34m\u001b[0m\n",
       "\u001b[0;34m    See Also\u001b[0m\n",
       "\u001b[0;34m    --------\u001b[0m\n",
       "\u001b[0;34m    ones_like : Return an array of ones with shape and type of input.\u001b[0m\n",
       "\u001b[0;34m    empty : Return a new uninitialized array.\u001b[0m\n",
       "\u001b[0;34m    zeros : Return a new array setting values to zero.\u001b[0m\n",
       "\u001b[0;34m    full : Return a new array of given shape filled with value.\u001b[0m\n",
       "\u001b[0;34m\u001b[0m\n",
       "\u001b[0;34m\u001b[0m\n",
       "\u001b[0;34m    Examples\u001b[0m\n",
       "\u001b[0;34m    --------\u001b[0m\n",
       "\u001b[0;34m    >>> np.ones(5)\u001b[0m\n",
       "\u001b[0;34m    array([1., 1., 1., 1., 1.])\u001b[0m\n",
       "\u001b[0;34m\u001b[0m\n",
       "\u001b[0;34m    >>> np.ones((5,), dtype=int)\u001b[0m\n",
       "\u001b[0;34m    array([1, 1, 1, 1, 1])\u001b[0m\n",
       "\u001b[0;34m\u001b[0m\n",
       "\u001b[0;34m    >>> np.ones((2, 1))\u001b[0m\n",
       "\u001b[0;34m    array([[1.],\u001b[0m\n",
       "\u001b[0;34m           [1.]])\u001b[0m\n",
       "\u001b[0;34m\u001b[0m\n",
       "\u001b[0;34m    >>> s = (2,2)\u001b[0m\n",
       "\u001b[0;34m    >>> np.ones(s)\u001b[0m\n",
       "\u001b[0;34m    array([[1.,  1.],\u001b[0m\n",
       "\u001b[0;34m           [1.,  1.]])\u001b[0m\n",
       "\u001b[0;34m\u001b[0m\n",
       "\u001b[0;34m    \"\"\"\u001b[0m\u001b[0;34m\u001b[0m\n",
       "\u001b[0;34m\u001b[0m    \u001b[0;32mif\u001b[0m \u001b[0mlike\u001b[0m \u001b[0;32mis\u001b[0m \u001b[0;32mnot\u001b[0m \u001b[0;32mNone\u001b[0m\u001b[0;34m:\u001b[0m\u001b[0;34m\u001b[0m\n",
       "\u001b[0;34m\u001b[0m        \u001b[0;32mreturn\u001b[0m \u001b[0m_ones_with_like\u001b[0m\u001b[0;34m(\u001b[0m\u001b[0mshape\u001b[0m\u001b[0;34m,\u001b[0m \u001b[0mdtype\u001b[0m\u001b[0;34m=\u001b[0m\u001b[0mdtype\u001b[0m\u001b[0;34m,\u001b[0m \u001b[0morder\u001b[0m\u001b[0;34m=\u001b[0m\u001b[0morder\u001b[0m\u001b[0;34m,\u001b[0m \u001b[0mlike\u001b[0m\u001b[0;34m=\u001b[0m\u001b[0mlike\u001b[0m\u001b[0;34m)\u001b[0m\u001b[0;34m\u001b[0m\n",
       "\u001b[0;34m\u001b[0m\u001b[0;34m\u001b[0m\n",
       "\u001b[0;34m\u001b[0m    \u001b[0ma\u001b[0m \u001b[0;34m=\u001b[0m \u001b[0mempty\u001b[0m\u001b[0;34m(\u001b[0m\u001b[0mshape\u001b[0m\u001b[0;34m,\u001b[0m \u001b[0mdtype\u001b[0m\u001b[0;34m,\u001b[0m \u001b[0morder\u001b[0m\u001b[0;34m)\u001b[0m\u001b[0;34m\u001b[0m\n",
       "\u001b[0;34m\u001b[0m    \u001b[0mmultiarray\u001b[0m\u001b[0;34m.\u001b[0m\u001b[0mcopyto\u001b[0m\u001b[0;34m(\u001b[0m\u001b[0ma\u001b[0m\u001b[0;34m,\u001b[0m \u001b[0;36m1\u001b[0m\u001b[0;34m,\u001b[0m \u001b[0mcasting\u001b[0m\u001b[0;34m=\u001b[0m\u001b[0;34m'unsafe'\u001b[0m\u001b[0;34m)\u001b[0m\u001b[0;34m\u001b[0m\n",
       "\u001b[0;34m\u001b[0m    \u001b[0;32mreturn\u001b[0m \u001b[0ma\u001b[0m\u001b[0;34m\u001b[0m\u001b[0;34m\u001b[0m\u001b[0m\n",
       "\u001b[0;31mFile:\u001b[0m      ~/src/blinkin/llm/venv/lib/python3.10/site-packages/numpy/core/numeric.py\n",
       "\u001b[0;31mType:\u001b[0m      function"
      ]
     },
     "metadata": {},
     "output_type": "display_data"
    }
   ],
   "source": [
    "import numpy as np\n",
    "np.ones??"
   ]
  },
  {
   "cell_type": "markdown",
   "id": "5e78b5f6-2d48-48c6-8ee1-9ea82496288e",
   "metadata": {},
   "source": [
    "## Dictionaries"
   ]
  },
  {
   "cell_type": "code",
   "execution_count": null,
   "id": "cb3ce48b-071c-43e6-931c-97bcb5a753d9",
   "metadata": {
    "tags": []
   },
   "outputs": [],
   "source": [
    "# Creating a dictionary\n",
    "student = {\n",
    "    'name': 'John',\n",
    "    'age': 20,\n",
    "    'major': 'Computer Science'\n",
    "}\n",
    "\n",
    "# Accessing values using keys\n",
    "print(student['name'])  # Output: John\n",
    "print(student.get('age'))  # Output: 20\n",
    "\n",
    "# Modifying values\n",
    "student['age'] = 21\n",
    "print(student)  # Output: {'name': 'John', 'age': 21, 'major': 'Computer Science'}\n",
    "\n",
    "# Adding a new key-value pair\n",
    "student['university'] = 'ABC University'\n",
    "print(student)  # Output: {'name': 'John', 'age': 21, 'major': 'Computer Science', 'university': 'ABC University'}\n",
    "\n",
    "# Removing a key-value pair\n",
    "del student['major']\n",
    "print(student)  # Output: {'name': 'John', 'age': 21, 'university': 'ABC University'}\n",
    "\n",
    "# Checking if a key exists\n",
    "if 'name' in student:\n",
    "    print('Name is present in the dictionary.')\n",
    "\n",
    "# Getting the number of key-value pairs\n",
    "num_pairs = len(student)\n",
    "print(num_pairs)  # Output: 3\n",
    "\n",
    "# Getting a list of keys and values\n",
    "print(student.keys())  # Output: dict_keys(['name', 'age', 'university'])\n",
    "print(student.values())  # Output: dict_values(['John', 21, 'ABC University'])\n",
    "\n",
    "# Getting a list of key-value pairs (as tuples)\n",
    "items = student.items()\n",
    "print(items)  # Output: dict_items([('name', 'John'), ('age', 21), ('university', 'ABC University')])\n",
    "\n",
    "# Clearing the dictionary\n",
    "student.clear()\n",
    "print(student)  # Output: {}"
   ]
  },
  {
   "cell_type": "code",
   "execution_count": 102,
   "id": "b10de0a0-0a64-44ed-9fd0-57da746244da",
   "metadata": {
    "tags": []
   },
   "outputs": [
    {
     "data": {
      "text/plain": [
       "{'name': 'John', 'age': 125, 'qqqq': 123}"
      ]
     },
     "execution_count": 102,
     "metadata": {},
     "output_type": "execute_result"
    }
   ],
   "source": [
    "# TRY BY YOURSELF - WRITE CODE HERE\n",
    "q = { \"name\": \"John\", \"age\": 88 }\n",
    "q[\"age\"] = 125\n",
    "q[\"qqqq\"] = 123\n",
    "q"
   ]
  },
  {
   "cell_type": "code",
   "execution_count": null,
   "id": "a9b6d315-7619-4ebb-879f-208150a557ed",
   "metadata": {},
   "outputs": [],
   "source": []
  },
  {
   "cell_type": "markdown",
   "id": "96b71980-bc2c-4bc1-9e09-9ccdfd21e09c",
   "metadata": {},
   "source": [
    "## Set"
   ]
  },
  {
   "cell_type": "code",
   "execution_count": null,
   "id": "c8a39bc7-e399-4dbb-a3b5-63dfd8bb3af7",
   "metadata": {
    "tags": []
   },
   "outputs": [],
   "source": [
    "# Creating a set\n",
    "fruits = {'apple', 'banana', 'cherry'}\n",
    "print(fruits)  # Output: {'cherry', 'banana', 'apple'}\n",
    "\n",
    "# Adding elements to a set\n",
    "fruits.add('orange')\n",
    "print(fruits)  # Output: {'cherry', 'banana', 'orange', 'apple'}\n",
    "\n",
    "# Removing an element from a set\n",
    "fruits.remove('banana')\n",
    "print(fruits)  # Output: {'cherry', 'orange', 'apple'}\n",
    "\n",
    "# Checking if an element is in a set\n",
    "print('apple' in fruits)  # Output: True\n",
    "print('watermelon' in fruits)  # Output: False\n",
    "\n",
    "# Iterating over a set\n",
    "for fruit in fruits:\n",
    "    print(fruit)\n",
    "\n",
    "# Getting the number of elements in a set\n",
    "print(len(fruits))  # Output: 3\n",
    "\n",
    "# Creating a set using set() function\n",
    "numbers = set([1, 2, 3, 4, 5])\n",
    "print(numbers)  # Output: {1, 2, 3, 4, 5}\n",
    "\n",
    "# Performing set operations\n",
    "set1 = {1, 2, 3, 4, 5}\n",
    "set2 = {4, 5, 6, 7, 8}\n",
    "\n",
    "# Union of sets\n",
    "union_set = set1.union(set2)\n",
    "print(union_set)  # Output: {1, 2, 3, 4, 5, 6, 7, 8}\n",
    "\n",
    "# Intersection of sets\n",
    "intersection_set = set1.intersection(set2)\n",
    "print(intersection_set)  # Output: {4, 5}\n",
    "\n",
    "# Difference between sets\n",
    "difference_set = set1.difference(set2)\n",
    "print(difference_set)  # Output: {1, 2, 3}\n",
    "\n",
    "# Clearing a set\n",
    "fruits.clear()\n",
    "print(fruits)  # Output: set()\n"
   ]
  },
  {
   "cell_type": "code",
   "execution_count": null,
   "id": "8cb51dbe-3604-4fc6-8ea0-c29563f55e2a",
   "metadata": {
    "tags": []
   },
   "outputs": [],
   "source": [
    "# TRY BY YOURSELF - WRITE CODE HERE\n"
   ]
  },
  {
   "cell_type": "markdown",
   "id": "170cbb26-e48d-4e16-8667-3798c2643977",
   "metadata": {
    "tags": []
   },
   "source": [
    "## Tuple"
   ]
  },
  {
   "cell_type": "code",
   "execution_count": null,
   "id": "da3ec828-b86f-41e3-a87d-8b1d9dd335b0",
   "metadata": {
    "tags": []
   },
   "outputs": [],
   "source": [
    "# Creating a tuple\n",
    "fruits = ('apple', 'banana', 'cherry')\n",
    "print(fruits)  # Output: ('apple', 'banana', 'cherry')\n",
    "\n",
    "# Accessing elements of a tuple\n",
    "print(fruits[0])  # Output: apple\n",
    "print(fruits[1])  # Output: banana\n",
    "\n",
    "# Tuple with a single element\n",
    "single_element_tuple = ('apple',)\n",
    "print(single_element_tuple)  # Output: ('apple',)\n",
    "\n",
    "# Modifying elements of a tuple (not possible)\n",
    "# fruits[0] = 'orange'  # This will result in an error\n",
    "\n",
    "# Iterating over a tuple\n",
    "for fruit in fruits:\n",
    "    print(fruit)\n",
    "\n",
    "# Getting the length of a tuple\n",
    "length = len(fruits)\n",
    "print(length)  # Output: 3\n",
    "\n",
    "# Concatenating tuples\n",
    "fruits2 = ('orange', 'mango')\n",
    "concatenated_tuple = fruits + fruits2\n",
    "print(concatenated_tuple)  # Output: ('apple', 'banana', 'cherry', 'orange', 'mango')\n",
    "\n",
    "# Counting occurrences of an element in a tuple\n",
    "count = fruits.count('apple')\n",
    "print(count)  # Output: 1\n",
    "\n",
    "# Finding the index of an element in a tuple\n",
    "index = fruits.index('cherry')\n",
    "print(index)  # Output: 2\n"
   ]
  },
  {
   "cell_type": "code",
   "execution_count": 164,
   "id": "3c81b721-5457-476c-8c29-7a2641577b8d",
   "metadata": {
    "tags": []
   },
   "outputs": [],
   "source": [
    "# TRY BY YOURSELF - WRITE CODE HERE\n"
   ]
  },
  {
   "cell_type": "markdown",
   "id": "4eb50ac2-956c-4558-8daa-a167cca041ce",
   "metadata": {
    "tags": []
   },
   "source": [
    "### Unpacking tuples"
   ]
  },
  {
   "cell_type": "code",
   "execution_count": 280,
   "id": "ca255b7b-48dd-4ac7-9164-673b65c3f9a5",
   "metadata": {
    "tags": []
   },
   "outputs": [
    {
     "name": "stdout",
     "output_type": "stream",
     "text": [
      "Name: Bartek\n",
      "Age: 43\n"
     ]
    }
   ],
   "source": [
    "person = (\"Bartek\", 43)\n",
    "\n",
    "name, age = person\n",
    "print('Name:', name)\n",
    "print('Age:', age)"
   ]
  },
  {
   "cell_type": "code",
   "execution_count": 164,
   "id": "cb9a6c8c-51cc-435d-9d2e-5fb47fc20da6",
   "metadata": {
    "tags": []
   },
   "outputs": [],
   "source": [
    "# TRY BY YOURSELF - WRITE CODE HERE\n"
   ]
  },
  {
   "cell_type": "code",
   "execution_count": 279,
   "id": "4ef6d7d2-8669-479d-be30-f574c1d4a2c6",
   "metadata": {
    "tags": []
   },
   "outputs": [
    {
     "name": "stdout",
     "output_type": "stream",
     "text": [
      "Name: Bartek\n",
      "Age: 43\n",
      "Person Bartek is 43\n",
      "Person John is 88\n",
      "Person Ann is 38\n"
     ]
    }
   ],
   "source": [
    "list_of_tuples = [(\"Bartek\", 43), (\"John\", 88), (\"Ann\", 38)]\n",
    "\n",
    "for name, age in list_of_tuples:\n",
    "    print(f\"Person {name} is {age}\")"
   ]
  },
  {
   "cell_type": "code",
   "execution_count": 164,
   "id": "1b032caf-e92a-4f79-ba0e-84f7be859508",
   "metadata": {
    "tags": []
   },
   "outputs": [],
   "source": [
    "# TRY BY YOURSELF - WRITE CODE HERE\n"
   ]
  },
  {
   "cell_type": "markdown",
   "id": "3d3cf566-ad1a-4c1a-8955-69ea34928d46",
   "metadata": {
    "tags": []
   },
   "source": [
    "## Operators"
   ]
  },
  {
   "cell_type": "markdown",
   "id": "78c343a7-82cb-4d14-bf19-3402926b4666",
   "metadata": {
    "tags": []
   },
   "source": [
    "### Arithmetic operators"
   ]
  },
  {
   "cell_type": "code",
   "execution_count": 252,
   "id": "f3994838-c5f4-439c-b529-486de9e6919a",
   "metadata": {
    "tags": []
   },
   "outputs": [
    {
     "name": "stdout",
     "output_type": "stream",
     "text": [
      "13\n",
      "7\n",
      "30\n",
      "3.3333333333333335\n",
      "3\n",
      "1\n",
      "1000\n"
     ]
    }
   ],
   "source": [
    "x = 10\n",
    "y = 3\n",
    "\n",
    "print(x + y)  # Output: 13\n",
    "print(x - y)  # Output: 7\n",
    "print(x * y)  # Output: 30\n",
    "print(x / y)  # Output: 3.3333333333333335\n",
    "print(x // y)  # Output: 3\n",
    "print(x % y)  # Output: 1\n",
    "print(x ** y)  # Output: 1000"
   ]
  },
  {
   "cell_type": "code",
   "execution_count": null,
   "id": "b4c6390e-7102-4aa5-aed2-7f304c2f6e1d",
   "metadata": {
    "tags": []
   },
   "outputs": [],
   "source": [
    "# TRY BY YOURSELF - WRITE CODE HERE\n"
   ]
  },
  {
   "cell_type": "markdown",
   "id": "1590a31d-02eb-4aac-888f-dc0eff40d300",
   "metadata": {
    "tags": []
   },
   "source": [
    "### Comparison operators"
   ]
  },
  {
   "cell_type": "code",
   "execution_count": 253,
   "id": "f93374b9-8dc9-4d0d-82b9-4c58449dfc5b",
   "metadata": {
    "tags": []
   },
   "outputs": [
    {
     "name": "stdout",
     "output_type": "stream",
     "text": [
      "False\n",
      "True\n",
      "False\n",
      "True\n",
      "False\n",
      "True\n",
      "True\n",
      "True\n"
     ]
    }
   ],
   "source": [
    "x = 5\n",
    "y = 10\n",
    "\n",
    "print(x == y)  # Output: False\n",
    "print(x != y)  # Output: True\n",
    "print(x > y)  # Output: False\n",
    "print(x < y)  # Output: True\n",
    "print(x >= y)  # Output: False\n",
    "print(x <= y)  # Output: True\n",
    "print(2 < x <= 8) # Output: True\n",
    "print(5 <= x < 8) # Output: True"
   ]
  },
  {
   "cell_type": "code",
   "execution_count": null,
   "id": "e943bc69-3cd6-4d5d-9e95-7592518e15a6",
   "metadata": {
    "tags": []
   },
   "outputs": [],
   "source": [
    "# TRY BY YOURSELF - WRITE CODE HERE\n"
   ]
  },
  {
   "cell_type": "markdown",
   "id": "8abd2fac-ebab-442e-ad0a-30dd8790e842",
   "metadata": {
    "tags": []
   },
   "source": [
    "### Logical operators"
   ]
  },
  {
   "cell_type": "code",
   "execution_count": 254,
   "id": "5c64ea7b-27d3-4b6b-9704-5e2113952aa6",
   "metadata": {
    "tags": []
   },
   "outputs": [
    {
     "name": "stdout",
     "output_type": "stream",
     "text": [
      "False\n",
      "True\n",
      "False\n"
     ]
    }
   ],
   "source": [
    "p = True\n",
    "q = False\n",
    "\n",
    "print(p and q)  # Output: False\n",
    "print(p or q)  # Output: True\n",
    "print(not p)  # Output: False"
   ]
  },
  {
   "cell_type": "code",
   "execution_count": null,
   "id": "d754b8bb-22f1-4d8b-9f7d-51d459be7dec",
   "metadata": {
    "tags": []
   },
   "outputs": [],
   "source": [
    "# TRY BY YOURSELF - WRITE CODE HERE\n"
   ]
  },
  {
   "cell_type": "markdown",
   "id": "01e868a0-3d46-421a-9311-8ba6e6902b2f",
   "metadata": {
    "tags": []
   },
   "source": [
    "### or/and in assignment\n",
    "or/and can be used in assignment, however you must be careful, as various values are falsy (`0`, `''`, `[]`, `{}`, `None`, `False`)."
   ]
  },
  {
   "cell_type": "code",
   "execution_count": 256,
   "id": "27a8dfd9-4546-4ed7-a3e0-54d08bd37832",
   "metadata": {
    "tags": []
   },
   "outputs": [
    {
     "name": "stdout",
     "output_type": "stream",
     "text": [
      "default\n",
      "Condition is True\n",
      "17\n"
     ]
    }
   ],
   "source": [
    "# Using 'or' for assignment\n",
    "y = None\n",
    "y = y or \"default\"\n",
    "print(y)  # Outputs: \"default\"\n",
    "\n",
    "# Using 'and' for assignment\n",
    "condition = True\n",
    "result = condition and \"Condition is True\"\n",
    "print(result)  # Outputs: \"Condition is True\"\n",
    "\n",
    "# be careful about false values\n",
    "x = 0\n",
    "x = x or 17\n",
    "print(x)"
   ]
  },
  {
   "cell_type": "code",
   "execution_count": 164,
   "id": "314f44a0-b7ed-43fe-bf42-af016776cce1",
   "metadata": {
    "tags": []
   },
   "outputs": [],
   "source": [
    "# TRY BY YOURSELF - WRITE CODE HERE\n"
   ]
  },
  {
   "cell_type": "markdown",
   "id": "19414802-0ef6-43e0-9448-e0851bc278c3",
   "metadata": {
    "tags": []
   },
   "source": [
    "### Assignment operators"
   ]
  },
  {
   "cell_type": "code",
   "execution_count": 114,
   "id": "e82691a4-2622-489d-bd9a-c864e9083a15",
   "metadata": {
    "tags": []
   },
   "outputs": [],
   "source": [
    "x = 5\n",
    "x += 2\n",
    "print(x)  # Output: 7\n",
    "\n",
    "x -= 3\n",
    "print(x)  # Output: 4\n",
    "\n",
    "x *= 2\n",
    "print(x)  # Output: 8\n",
    "\n",
    "x /= 4\n",
    "print(x)  # Output: 2.0\n",
    "\n",
    "x %= 3\n",
    "print(x)  # Output: 2.0\n",
    "\n",
    "x **= 2\n",
    "print(x)  # Output: 4.0"
   ]
  },
  {
   "cell_type": "code",
   "execution_count": null,
   "id": "1ac1dd8a-9b25-401b-98a8-c19a33bb17a1",
   "metadata": {
    "tags": []
   },
   "outputs": [],
   "source": [
    "# TRY BY YOURSELF - WRITE CODE HERE\n"
   ]
  },
  {
   "cell_type": "markdown",
   "id": "aa7a94b8-0daa-4a3f-83ef-2f90d780b4dc",
   "metadata": {
    "tags": []
   },
   "source": [
    "### Membership operators"
   ]
  },
  {
   "cell_type": "code",
   "execution_count": 114,
   "id": "42644257-34e5-4975-90e8-9cb2406b7e9f",
   "metadata": {
    "tags": []
   },
   "outputs": [],
   "source": [
    "fruits = ['apple', 'banana', 'cherry']\n",
    "\n",
    "is_in_list = 'apple' in fruits\n",
    "print(is_in_list)  # Output: True\n",
    "\n",
    "is_not_in_list = 'orange' not in fruits\n",
    "print(is_not_in_list)  # Output: True"
   ]
  },
  {
   "cell_type": "code",
   "execution_count": null,
   "id": "dd7de7be-70db-4111-8a8b-6e4dcf8bdf2b",
   "metadata": {
    "tags": []
   },
   "outputs": [],
   "source": [
    "# TRY BY YOURSELF - WRITE CODE HERE\n"
   ]
  },
  {
   "cell_type": "markdown",
   "id": "afdc37a7-b10a-4ec5-a4e0-eaa48d904b7c",
   "metadata": {
    "tags": []
   },
   "source": [
    "### Identity operators"
   ]
  },
  {
   "cell_type": "code",
   "execution_count": 115,
   "id": "0c06ceac-17d6-4a8b-9490-0d8ff1f72490",
   "metadata": {
    "tags": []
   },
   "outputs": [
    {
     "name": "stdout",
     "output_type": "stream",
     "text": [
      "True\n",
      "False\n"
     ]
    }
   ],
   "source": [
    "x = 5\n",
    "y = 5\n",
    "z = x\n",
    "\n",
    "is_same_object = x is y\n",
    "print(is_same_object)  # Output: True\n",
    "\n",
    "is_different_object = x is not z\n",
    "print(is_different_object)  # Output: False"
   ]
  },
  {
   "cell_type": "code",
   "execution_count": null,
   "id": "f964c7b2-0216-431b-96fc-e5cb9c6ef5c4",
   "metadata": {
    "tags": []
   },
   "outputs": [],
   "source": [
    "# TRY BY YOURSELF - WRITE CODE HERE\n"
   ]
  },
  {
   "cell_type": "markdown",
   "id": "711aa415-68a5-4d57-9aff-7f1816cf5216",
   "metadata": {
    "tags": []
   },
   "source": [
    "## Conditionals"
   ]
  },
  {
   "cell_type": "markdown",
   "id": "2121e2c1-8fe7-4367-9e62-eefacdc5c210",
   "metadata": {
    "tags": []
   },
   "source": [
    "### if elif else"
   ]
  },
  {
   "cell_type": "code",
   "execution_count": 233,
   "id": "16c3c42e-312a-4550-a85d-f43bc673afa7",
   "metadata": {
    "tags": []
   },
   "outputs": [
    {
     "name": "stdout",
     "output_type": "stream",
     "text": [
      "It's a bit cold or rainy, wear a jacket.\n"
     ]
    }
   ],
   "source": [
    "# Define the conditions\n",
    "temperature = 15  # the current temperature in degrees\n",
    "is_raining = True  # is it raining?\n",
    "\n",
    "# Check conditions and decide what to wear\n",
    "if temperature > 30:\n",
    "    print(\"It's hot, wear shorts and a t-shirt.\")\n",
    "elif 20 <= temperature <= 30 and not is_raining:\n",
    "    print(\"It's mild, wear jeans and a t-shirt.\")\n",
    "elif 10 <= temperature < 20 or is_raining:\n",
    "    print(\"It's a bit cold or rainy, wear a jacket.\")\n",
    "else:\n",
    "    print(\"It's cold, wear a winter coat.\")"
   ]
  },
  {
   "cell_type": "code",
   "execution_count": null,
   "id": "b6605715-c385-47b4-9035-8d5fc8d701fe",
   "metadata": {
    "tags": []
   },
   "outputs": [],
   "source": [
    "# TRY BY YOURSELF - WRITE CODE HERE\n"
   ]
  },
  {
   "cell_type": "markdown",
   "id": "134d2a63-5e7d-4e8b-8bbc-c194f12a76e9",
   "metadata": {
    "tags": []
   },
   "source": [
    "### Conditional assignment"
   ]
  },
  {
   "cell_type": "code",
   "execution_count": 259,
   "id": "9df6f22f-f8fa-40d5-ab57-4064a8494fcc",
   "metadata": {
    "tags": []
   },
   "outputs": [
    {
     "name": "stdout",
     "output_type": "stream",
     "text": [
      "Default Value\n"
     ]
    }
   ],
   "source": [
    "value = None\n",
    "default_value = \"Default Value\"\n",
    "\n",
    "result = default_value if value is None else value\n",
    "print(result)  # Output: \"Default Value\""
   ]
  },
  {
   "cell_type": "code",
   "execution_count": 164,
   "id": "842b695f-18e2-4501-a5a2-92fe55ac15f2",
   "metadata": {
    "tags": []
   },
   "outputs": [],
   "source": [
    "# TRY BY YOURSELF - WRITE CODE HERE\n"
   ]
  },
  {
   "cell_type": "markdown",
   "id": "2e9f154c-f52d-434f-b55c-b35f203a37eb",
   "metadata": {
    "tags": []
   },
   "source": [
    "# Iterating over data"
   ]
  },
  {
   "cell_type": "markdown",
   "id": "18d7d2af-66a6-4989-aaeb-775d1bbb3ddb",
   "metadata": {
    "tags": []
   },
   "source": [
    "## Iterating over elements"
   ]
  },
  {
   "cell_type": "markdown",
   "id": "6c9f792f-e9f5-43fc-9115-ead678bf9212",
   "metadata": {
    "tags": []
   },
   "source": [
    "### for loop"
   ]
  },
  {
   "cell_type": "code",
   "execution_count": 127,
   "id": "02361222-9b8e-4407-8365-c9de5002c474",
   "metadata": {
    "collapsed": true,
    "jupyter": {
     "outputs_hidden": true
    },
    "tags": []
   },
   "outputs": [
    {
     "name": "stdout",
     "output_type": "stream",
     "text": [
      "apple\n",
      "banana\n",
      "cherry\n",
      "0 apple\n",
      "1 banana\n",
      "2 cherry\n",
      "H\n",
      "e\n",
      "l\n",
      "l\n",
      "o\n",
      ",\n",
      " \n",
      "W\n",
      "o\n",
      "r\n",
      "l\n",
      "d\n",
      "!\n",
      "1\n",
      "2\n",
      "3\n",
      "4\n",
      "5\n",
      "name John\n",
      "age 20\n",
      "major Computer Science\n",
      "1\n",
      "2\n",
      "3\n",
      "4\n",
      "5\n",
      "6\n",
      "7\n",
      "8\n",
      "9\n",
      "5\n",
      "4\n",
      "3\n",
      "2\n",
      "1\n",
      "apple red\n",
      "banana yellow\n",
      "cherry blue\n"
     ]
    }
   ],
   "source": [
    "# Iterate over a list\n",
    "fruits = ['apple', 'banana', 'cherry']\n",
    "for fruit in fruits:\n",
    "    print(fruit)\n",
    "\n",
    "# Iterate over a list with index\n",
    "fruits = ['apple', 'banana', 'cherry']\n",
    "for index, fruit in enumerate(fruits):\n",
    "    print(index, fruit)\n",
    "\n",
    "# Iterate over a string\n",
    "message = 'Hello, World!'\n",
    "for char in message:\n",
    "    print(char)\n",
    "\n",
    "# Iterate over a range of numbers\n",
    "for num in range(1, 6):\n",
    "    print(num)\n",
    "\n",
    "# Iterate over a dictionary\n",
    "student = {\n",
    "    'name': 'John',\n",
    "    'age': 20,\n",
    "    'major': 'Computer Science'\n",
    "}\n",
    "for key, value in student.items():\n",
    "    print(key, value)\n",
    "\n",
    "# Iterate over a tuple of tuples\n",
    "matrix = ((1, 2, 3), (4, 5, 6), (7, 8, 9))\n",
    "for row in matrix:\n",
    "    for element in row:\n",
    "        print(element)\n",
    "\n",
    "# Iterate over a list in reverse\n",
    "numbers = [1, 2, 3, 4, 5]\n",
    "for num in reversed(numbers):\n",
    "    print(num)\n",
    "\n",
    "# Iterate over multiple lists simultaneously\n",
    "fruits = ['apple', 'banana', 'cherry']\n",
    "colors = ['red', 'yellow', 'blue']\n",
    "for fruit, color in zip(fruits, colors):\n",
    "    print(fruit, color)"
   ]
  },
  {
   "cell_type": "code",
   "execution_count": 164,
   "id": "3d895200-5441-4cf6-89bf-79d26496993e",
   "metadata": {
    "tags": []
   },
   "outputs": [],
   "source": [
    "# TRY BY YOURSELF - WRITE CODE HERE\n"
   ]
  },
  {
   "cell_type": "markdown",
   "id": "7d719c81-096d-43f2-b717-8c4832637cd0",
   "metadata": {
    "tags": []
   },
   "source": [
    "### for ... else"
   ]
  },
  {
   "cell_type": "code",
   "execution_count": 129,
   "id": "95bcabad-ff44-4511-a8aa-5f7046f51706",
   "metadata": {
    "tags": []
   },
   "outputs": [
    {
     "name": "stdout",
     "output_type": "stream",
     "text": [
      "First even number found: 2\n"
     ]
    }
   ],
   "source": [
    "numbers = [1, 2, 3, 4, 5]\n",
    "\n",
    "# Find the first even number in the list\n",
    "for num in numbers:\n",
    "    if num % 2 == 0:\n",
    "        print(\"First even number found:\", num)\n",
    "        break\n",
    "else:\n",
    "    print(\"No even number found in the list.\")\n"
   ]
  },
  {
   "cell_type": "code",
   "execution_count": 164,
   "id": "3400a611-9f0b-47ba-be5d-1b7e5e2f7767",
   "metadata": {
    "tags": []
   },
   "outputs": [],
   "source": [
    "# TRY BY YOURSELF - WRITE CODE HERE\n"
   ]
  },
  {
   "cell_type": "markdown",
   "id": "a8e55955-a17c-44be-b5d0-cca78879fd71",
   "metadata": {},
   "source": [
    "### while"
   ]
  },
  {
   "cell_type": "code",
   "execution_count": 262,
   "id": "90ce9420-808a-4b70-9468-acf00fc86467",
   "metadata": {
    "tags": []
   },
   "outputs": [
    {
     "name": "stdout",
     "output_type": "stream",
     "text": [
      "1\n",
      "2\n",
      "3\n",
      "4\n"
     ]
    }
   ],
   "source": [
    "i = 1\n",
    "while i < 5:\n",
    "    print(i)\n",
    "    i += 1"
   ]
  },
  {
   "cell_type": "code",
   "execution_count": 164,
   "id": "c229b95f-9c78-4185-817a-0d7749055494",
   "metadata": {
    "tags": []
   },
   "outputs": [],
   "source": [
    "# TRY BY YOURSELF - WRITE CODE HERE\n"
   ]
  },
  {
   "cell_type": "markdown",
   "id": "2419bf74-3a10-457a-9278-5382d93ca0fa",
   "metadata": {
    "tags": []
   },
   "source": [
    "## Iterators"
   ]
  },
  {
   "cell_type": "markdown",
   "id": "1540980f-166f-435f-a654-b4aa54ad6719",
   "metadata": {
    "tags": []
   },
   "source": [
    "### map"
   ]
  },
  {
   "cell_type": "code",
   "execution_count": 283,
   "id": "48431ff8-d624-4ffe-afd0-4c37208f736b",
   "metadata": {
    "tags": []
   },
   "outputs": [
    {
     "name": "stdout",
     "output_type": "stream",
     "text": [
      "[1, 4, 9, 16, 25]\n"
     ]
    }
   ],
   "source": [
    "numbers = [1, 2, 3, 4, 5]\n",
    "squared = map(lambda x: x**2, numbers)\n",
    "\n",
    "print(list(squared))  # Output: [1, 4, 9, 16, 25]"
   ]
  },
  {
   "cell_type": "code",
   "execution_count": 164,
   "id": "0b8ee656-6e66-4c8e-9579-a1013335a186",
   "metadata": {
    "tags": []
   },
   "outputs": [],
   "source": [
    "# TRY BY YOURSELF - WRITE CODE HERE\n"
   ]
  },
  {
   "cell_type": "markdown",
   "id": "96e4f33a-0c2d-4010-949d-f52015f5ea20",
   "metadata": {
    "tags": []
   },
   "source": [
    "### filter"
   ]
  },
  {
   "cell_type": "code",
   "execution_count": 302,
   "id": "9b370e67-2278-4b71-b7a3-976aeb8bf4bb",
   "metadata": {
    "tags": []
   },
   "outputs": [
    {
     "data": {
      "text/plain": [
       "[2, 4, 6]"
      ]
     },
     "execution_count": 302,
     "metadata": {},
     "output_type": "execute_result"
    }
   ],
   "source": [
    "numbers = [1, 2, 3, 4, 5, 6]\n",
    "even_numbers = filter(lambda x: x % 2 == 0, numbers)\n",
    "\n",
    "list(even_numbers)  # [2, 4, 6]"
   ]
  },
  {
   "cell_type": "code",
   "execution_count": 164,
   "id": "3dc7a3ec-2bb9-4cb7-9eae-ee91f859ee6c",
   "metadata": {
    "tags": []
   },
   "outputs": [],
   "source": [
    "# TRY BY YOURSELF - WRITE CODE HERE\n"
   ]
  },
  {
   "cell_type": "markdown",
   "id": "dc674e06-c6f7-4479-96db-ff8b5f721d11",
   "metadata": {
    "tags": []
   },
   "source": [
    "### zip"
   ]
  },
  {
   "cell_type": "code",
   "execution_count": 299,
   "id": "86bd4449-acc6-4a1e-834a-5e4f791ae5e2",
   "metadata": {
    "tags": []
   },
   "outputs": [
    {
     "data": {
      "text/plain": [
       "[('Alice', 25), ('Bob', 30), ('Charlie', 35)]"
      ]
     },
     "execution_count": 299,
     "metadata": {},
     "output_type": "execute_result"
    }
   ],
   "source": [
    "names = [\"Alice\", \"Bob\", \"Charlie\"]\n",
    "ages = [25, 30, 35]\n",
    "combined = zip(names, ages)\n",
    "\n",
    "list(combined)  # [('Alice', 25), ('Bob', 30), ('Charlie', 35)]"
   ]
  },
  {
   "cell_type": "code",
   "execution_count": 164,
   "id": "3e402e5d-546e-45e8-a4e8-24d2869bc12e",
   "metadata": {
    "tags": []
   },
   "outputs": [],
   "source": [
    "# TRY BY YOURSELF - WRITE CODE HERE\n"
   ]
  },
  {
   "cell_type": "code",
   "execution_count": 301,
   "id": "483cde84-e724-46b2-ba3e-7708427fdb8b",
   "metadata": {
    "tags": []
   },
   "outputs": [
    {
     "data": {
      "text/plain": [
       "{'name': 'Alice', 'age': 25, 'job': 'Engineer'}"
      ]
     },
     "execution_count": 301,
     "metadata": {},
     "output_type": "execute_result"
    }
   ],
   "source": [
    "keys = [\"name\", \"age\", \"job\"]\n",
    "values = [\"Alice\", 25, \"Engineer\"]\n",
    "\n",
    "dict(zip(keys, values))   # {'name': 'Alice', 'age': 25, 'job': 'Engineer'}"
   ]
  },
  {
   "cell_type": "code",
   "execution_count": 164,
   "id": "147a8672-9bf2-4315-b640-18ca20c87dc2",
   "metadata": {
    "tags": []
   },
   "outputs": [],
   "source": [
    "# TRY BY YOURSELF - WRITE CODE HERE\n"
   ]
  },
  {
   "cell_type": "markdown",
   "id": "2c5a264e-535a-42de-bc83-e28f481484b2",
   "metadata": {
    "tags": []
   },
   "source": [
    "## Generators"
   ]
  },
  {
   "cell_type": "code",
   "execution_count": 265,
   "id": "8ecd91fa-9ebc-4e2e-b8e5-e23e584bca13",
   "metadata": {
    "tags": []
   },
   "outputs": [
    {
     "name": "stdout",
     "output_type": "stream",
     "text": [
      "1\n",
      "2\n",
      "3\n"
     ]
    }
   ],
   "source": [
    "def get_numbers():\n",
    "    yield 1\n",
    "    yield 2\n",
    "    yield 3\n",
    "\n",
    "# Create a generator\n",
    "numbers = get_numbers()\n",
    "\n",
    "# Use the generator\n",
    "for number in numbers:\n",
    "    print(number)\n"
   ]
  },
  {
   "cell_type": "code",
   "execution_count": 164,
   "id": "3dfab71c-cce1-4860-b324-1865107f2b48",
   "metadata": {
    "tags": []
   },
   "outputs": [],
   "source": [
    "# TRY BY YOURSELF - WRITE CODE HERE\n"
   ]
  },
  {
   "cell_type": "markdown",
   "id": "2bece1c3-1108-4167-b275-715928c40fcd",
   "metadata": {
    "tags": []
   },
   "source": [
    "## Comprehensions"
   ]
  },
  {
   "cell_type": "markdown",
   "id": "5688ed58-f5f0-4992-98d6-ce31328ddddb",
   "metadata": {
    "tags": []
   },
   "source": [
    "### List comprehension\n",
    "`[<expression> for <var> in <iterable>]` \n",
    "\n",
    "or\n",
    "\n",
    "`[<expression> for <var> in <iterable> if <condition>]` "
   ]
  },
  {
   "cell_type": "code",
   "execution_count": 268,
   "id": "6a99f746-869c-4063-8630-efddf12797f3",
   "metadata": {
    "tags": []
   },
   "outputs": [
    {
     "name": "stdout",
     "output_type": "stream",
     "text": [
      "['Alice', 'Bob', 'Charlie', 'Diana']\n",
      "['Alice', 'Charlie']\n"
     ]
    }
   ],
   "source": [
    "people = [\n",
    "    {\"name\": \"Alice\", \"age\": 25},\n",
    "    {\"name\": \"Bob\", \"age\": 19},\n",
    "    {\"name\": \"Charlie\", \"age\": 30},\n",
    "    {\"name\": \"Diana\", \"age\": 15},\n",
    "]\n",
    "\n",
    "# Use a list comprehension to get a list of all names\n",
    "names = [person[\"name\"] for person in people]\n",
    "print(names)\n",
    "# Output: ['Alice', 'Bob', 'Charlie', 'Diana']\n",
    "\n",
    "# Use a list comprehension to get a list of names for people older than 20\n",
    "names_over_20 = [person[\"name\"] for person in people if person[\"age\"] > 20]\n",
    "print(names_over_20)\n",
    "# Output: ['Alice', 'Charlie']"
   ]
  },
  {
   "cell_type": "code",
   "execution_count": 164,
   "id": "ed0d9ea9-7d07-4099-94d6-dd6dfadcd161",
   "metadata": {
    "tags": []
   },
   "outputs": [],
   "source": [
    "# TRY BY YOURSELF - WRITE CODE HERE\n"
   ]
  },
  {
   "cell_type": "markdown",
   "id": "b1a70c51-284f-459d-86c5-ccc1f33b73b7",
   "metadata": {},
   "source": [
    "it's also possible to make a conditional expression, although the code isn't that readable then"
   ]
  },
  {
   "cell_type": "code",
   "execution_count": 2,
   "id": "452525cd-cfae-4a22-afee-1ed32b96a734",
   "metadata": {
    "tags": []
   },
   "outputs": [
    {
     "name": "stdout",
     "output_type": "stream",
     "text": [
      "['Alice', 'Bob', 'Charlie', 'Diana', 'Unknown']\n"
     ]
    }
   ],
   "source": [
    "people = [\n",
    "    {\"name\": \"Alice\", \"age\": 25},\n",
    "    {\"name\": \"Bob\", \"age\": 19},\n",
    "    {\"name\": \"Charlie\", \"age\": 30},\n",
    "    {\"name\": \"Diana\", \"age\": 15},\n",
    "    {\"name\": \"\", \"age\": 22},  # person with empty name\n",
    "]\n",
    "\n",
    "# Use a list comprehension with an if-else expression to replace empty names\n",
    "names = [person[\"name\"] if person[\"name\"] != \"\" else \"Unknown\" for person in people]\n",
    "print(names)\n",
    "# Output: ['Alice', 'Bob', 'Charlie', 'Diana', 'Unknown']\n"
   ]
  },
  {
   "cell_type": "code",
   "execution_count": 164,
   "id": "9cc5493e-0c83-49d2-bc55-ce4bca38d633",
   "metadata": {
    "tags": []
   },
   "outputs": [],
   "source": [
    "# TRY BY YOURSELF - WRITE CODE HERE\n"
   ]
  },
  {
   "cell_type": "markdown",
   "id": "677f4f21-e2dc-4022-8cc1-45483af075d7",
   "metadata": {
    "tags": []
   },
   "source": [
    "### Tuple comprehension"
   ]
  },
  {
   "cell_type": "code",
   "execution_count": 272,
   "id": "1fd7afc4-3c9d-4e68-b315-6e94f1ab91fd",
   "metadata": {
    "tags": []
   },
   "outputs": [
    {
     "name": "stdout",
     "output_type": "stream",
     "text": [
      "<generator object <genexpr> at 0x108c04970>\n",
      "(0, 1, 2, 3, 4, 5, 6, 7, 8, 9)\n"
     ]
    }
   ],
   "source": [
    "# this IS NOT how you create a tuple comprehension\n",
    "nums = (x for x in range(10))\n",
    "print(nums)\n",
    "# Output: <generator object <genexpr> at 0x7f8d596564a0>\n",
    "\n",
    "# this IS how you do it\n",
    "nums = tuple(x for x in range(10))\n",
    "print(nums)\n",
    "# Output: (0, 1, 2, 3, 4, 5, 6, 7, 8, 9)\n"
   ]
  },
  {
   "cell_type": "code",
   "execution_count": 164,
   "id": "a8b95aa0-0f25-43a6-8e81-a4b2fb9bc838",
   "metadata": {
    "tags": []
   },
   "outputs": [],
   "source": [
    "# TRY BY YOURSELF - WRITE CODE HERE\n"
   ]
  },
  {
   "cell_type": "markdown",
   "id": "6f64b273-fddc-46c0-bfd7-4eb74bd3d819",
   "metadata": {
    "tags": []
   },
   "source": [
    "### Dictionary comprehension\n",
    "`{ key:value for (key) in ... }`\n",
    "\n",
    "or\n",
    "\n",
    "`{ key:value for (key, value) in ... }`"
   ]
  },
  {
   "cell_type": "code",
   "execution_count": 274,
   "id": "ce16736a-cd0b-4fde-9ae1-7dd1e54ef82c",
   "metadata": {
    "tags": []
   },
   "outputs": [
    {
     "name": "stdout",
     "output_type": "stream",
     "text": [
      "{'Alice': 25, 'Bob': 19, 'Charlie': 30, 'Diana': 15}\n"
     ]
    }
   ],
   "source": [
    "# List of people, where each person is represented as a dictionary\n",
    "people = [\n",
    "    {\"name\": \"Alice\", \"age\": 25},\n",
    "    {\"name\": \"Bob\", \"age\": 19},\n",
    "    {\"name\": \"Charlie\", \"age\": 30},\n",
    "    {\"name\": \"Diana\", \"age\": 15},\n",
    "]\n",
    "\n",
    "# Create a dictionary with name as the key and age as the value\n",
    "name_to_age = {person[\"name\"]: person[\"age\"] for person in people}\n",
    "\n",
    "print(name_to_age)\n",
    "# Output: {'Alice': 25, 'Bob': 19, 'Charlie': 30, 'Diana': 15}\n"
   ]
  },
  {
   "cell_type": "code",
   "execution_count": 164,
   "id": "b196d60a-ce99-4603-aa3a-e3e634fe5aba",
   "metadata": {
    "tags": []
   },
   "outputs": [],
   "source": [
    "# TRY BY YOURSELF - WRITE CODE HERE\n"
   ]
  },
  {
   "cell_type": "markdown",
   "id": "44b406af-4992-489b-bbaa-86309155e66f",
   "metadata": {
    "tags": []
   },
   "source": [
    "# Functions"
   ]
  },
  {
   "cell_type": "markdown",
   "id": "d2f28a66-ea30-4e45-82f0-ec3959842c49",
   "metadata": {
    "tags": []
   },
   "source": [
    "### Basic function"
   ]
  },
  {
   "cell_type": "code",
   "execution_count": 107,
   "id": "30b3d412-d5d6-4604-a903-c4ce7a17ecf0",
   "metadata": {
    "tags": []
   },
   "outputs": [
    {
     "data": {
      "text/plain": [
       "700"
      ]
     },
     "execution_count": 107,
     "metadata": {},
     "output_type": "execute_result"
    }
   ],
   "source": [
    "def add(a, b):\n",
    "    return a + b\n",
    "\n",
    "# add(200, 500)\n",
    "\n",
    "# print(add(5, 3))  # Output: 8"
   ]
  },
  {
   "cell_type": "code",
   "execution_count": 111,
   "id": "9bc8edb4-8992-43e7-a6e6-ba576b29a8c0",
   "metadata": {
    "tags": []
   },
   "outputs": [
    {
     "data": {
      "text/plain": [
       "32"
      ]
     },
     "execution_count": 111,
     "metadata": {},
     "output_type": "execute_result"
    }
   ],
   "source": [
    "# TRY BY YOURSELF - WRITE CODE HERE\n",
    "2**5"
   ]
  },
  {
   "cell_type": "markdown",
   "id": "30bfe001-91a3-4655-8586-b4d48b872bf4",
   "metadata": {
    "tags": []
   },
   "source": [
    "### Default arguments"
   ]
  },
  {
   "cell_type": "code",
   "execution_count": 115,
   "id": "13ad4968-3f95-4c38-84ba-96ae8d8fb99f",
   "metadata": {
    "tags": []
   },
   "outputs": [
    {
     "data": {
      "text/plain": [
       "16"
      ]
     },
     "execution_count": 115,
     "metadata": {},
     "output_type": "execute_result"
    }
   ],
   "source": [
    "def power(base, exponent=2):\n",
    "    return base ** exponent\n",
    "\n",
    "# power(4)\n",
    "# print(power(2))       # Output: 4 (exponent takes its default value 2)\n",
    "# print(power(2, 3))    # Output: 8"
   ]
  },
  {
   "cell_type": "code",
   "execution_count": 119,
   "id": "7fffc2b6-6c43-46ec-93dd-9db4af34a624",
   "metadata": {
    "tags": []
   },
   "outputs": [
    {
     "name": "stdout",
     "output_type": "stream",
     "text": [
      "I'm making coffee\n",
      "The size you've selected is 10\n",
      "The grain size is 3\n",
      "With milk: True\n"
     ]
    }
   ],
   "source": [
    "# TRY BY YOURSELF - WRITE CODE HERE\n",
    "def make_coffee(size, grain_size, water_temp = 10, amount_of_something = 4, with_milk = False):\n",
    "    print(\"I'm making coffee\")\n",
    "    print(f\"The size you've selected is {size}\")\n",
    "    print(f\"The grain size is {grain_size}\")\n",
    "    print(f\"With milk: {with_milk}\")\n",
    "\n",
    "make_coffee(10, 3, with_milk=True)"
   ]
  },
  {
   "cell_type": "markdown",
   "id": "7dda9b62-4ae9-48e4-b685-80484b15208a",
   "metadata": {
    "tags": []
   },
   "source": [
    "### Keywords"
   ]
  },
  {
   "cell_type": "code",
   "execution_count": 310,
   "id": "18ddde8a-e402-4c84-b114-9b559ca7e5a4",
   "metadata": {
    "tags": []
   },
   "outputs": [
    {
     "data": {
      "text/plain": [
       "5"
      ]
     },
     "execution_count": 310,
     "metadata": {},
     "output_type": "execute_result"
    }
   ],
   "source": [
    "def subtract(a, b):\n",
    "    return a - b\n",
    "\n",
    "subtract(b=5, a=10)  # Output: 5"
   ]
  },
  {
   "cell_type": "code",
   "execution_count": 164,
   "id": "dbec66ad-bc7b-4229-bfec-ba6c1acb986d",
   "metadata": {
    "tags": []
   },
   "outputs": [],
   "source": [
    "# TRY BY YOURSELF - WRITE CODE HERE\n"
   ]
  },
  {
   "cell_type": "markdown",
   "id": "6d8c1edc-073a-4216-807c-fe866f468a63",
   "metadata": {
    "tags": []
   },
   "source": [
    "### Returning multiple values"
   ]
  },
  {
   "cell_type": "code",
   "execution_count": 312,
   "id": "e0355a1d-071a-4505-b4f6-c4b660f6d4e5",
   "metadata": {
    "tags": []
   },
   "outputs": [
    {
     "name": "stdout",
     "output_type": "stream",
     "text": [
      "1\n",
      "5\n"
     ]
    }
   ],
   "source": [
    "def min_max(nums):\n",
    "    return min(nums), max(nums)\n",
    "\n",
    "numbers = [1, 2, 3, 4, 5]\n",
    "min_num, max_num = min_max(numbers)\n",
    "print(min_num)  # Output: 1\n",
    "print(max_num)  # Output: 5"
   ]
  },
  {
   "cell_type": "code",
   "execution_count": 164,
   "id": "73cc9a8d-b302-4bfe-9e4a-a18f5e701949",
   "metadata": {
    "tags": []
   },
   "outputs": [],
   "source": [
    "# TRY BY YOURSELF - WRITE CODE HERE\n"
   ]
  },
  {
   "cell_type": "markdown",
   "id": "c2651095-bca1-4027-b49a-3d7eb51345b0",
   "metadata": {
    "tags": []
   },
   "source": [
    "### Positional arguments and keyword arguments"
   ]
  },
  {
   "cell_type": "code",
   "execution_count": 328,
   "id": "cb1e53c4-2874-437e-a629-b0aae5bdb1c3",
   "metadata": {
    "tags": []
   },
   "outputs": [
    {
     "name": "stdout",
     "output_type": "stream",
     "text": [
      "args: (1, 2, 3)\n",
      "kwargs: {'a': 4, 'b': 5, 'c': 6}\n"
     ]
    }
   ],
   "source": [
    "def flexible_function(*args, **kwargs):\n",
    "    print(\"args:\", args)\n",
    "    print(\"kwargs:\", kwargs)\n",
    "\n",
    "flexible_function(1, 2, 3, a=4, b=5, c=6, )\n",
    "# Output: \n",
    "# args: (1, 2, 3)\n",
    "# kwargs: {'a': 4, 'b': 5, 'c': 6}\n"
   ]
  },
  {
   "cell_type": "code",
   "execution_count": 164,
   "id": "ab316edc-f0c8-471c-987f-d4e7b9d85d6e",
   "metadata": {
    "tags": []
   },
   "outputs": [],
   "source": [
    "# TRY BY YOURSELF - WRITE CODE HERE\n"
   ]
  },
  {
   "cell_type": "markdown",
   "id": "730cd6b9-ea83-4e4e-b496-688272534bc0",
   "metadata": {
    "tags": []
   },
   "source": [
    "### Lambda"
   ]
  },
  {
   "cell_type": "code",
   "execution_count": 330,
   "id": "26a13f57-1b10-4005-88ba-3077bba63b6a",
   "metadata": {
    "tags": []
   },
   "outputs": [
    {
     "name": "stdout",
     "output_type": "stream",
     "text": [
      "15\n"
     ]
    }
   ],
   "source": [
    "multiply = lambda a, b: a * b\n",
    "\n",
    "print(multiply(5, 3))  # Output: 15"
   ]
  },
  {
   "cell_type": "code",
   "execution_count": 164,
   "id": "04f55bd9-c933-414e-8d94-ade223cf4105",
   "metadata": {
    "tags": []
   },
   "outputs": [],
   "source": [
    "# TRY BY YOURSELF - WRITE CODE HERE\n"
   ]
  },
  {
   "cell_type": "markdown",
   "id": "f521e89c-780e-4b2f-864c-1d19fcb8d99f",
   "metadata": {
    "tags": []
   },
   "source": [
    "# Classes"
   ]
  },
  {
   "cell_type": "markdown",
   "id": "5449d050-3183-4613-96ba-451d6fe79923",
   "metadata": {
    "tags": []
   },
   "source": [
    "## Simple class"
   ]
  },
  {
   "cell_type": "code",
   "execution_count": 424,
   "id": "60f56a7e-2623-41aa-8a7c-6d7c0aa2fdbf",
   "metadata": {
    "tags": []
   },
   "outputs": [
    {
     "name": "stdout",
     "output_type": "stream",
     "text": [
      "Hello from Bartek! I am sick\n",
      "Hello from Ann! I am healthy\n",
      "Static variable is: 100\n",
      "Static variable is: 100\n",
      "10\n",
      "100\n"
     ]
    }
   ],
   "source": [
    "class Person:\n",
    "    \"\"\"A simple example class\"\"\"\n",
    "    \n",
    "    static_variable = 10\n",
    "\n",
    "    def __init__(self, name, age, is_sick=True):\n",
    "        self.name = name\n",
    "        self.age = age\n",
    "        self.is_sick = is_sick\n",
    "\n",
    "    def say_hello(self):\n",
    "        print(f'Hello from {self.name}! I am {\"sick\" if self.is_sick else \"healthy\"}')\n",
    "        \n",
    "\n",
    "    @staticmethod\n",
    "    def static_method():\n",
    "        print(f'Static variable is: {Person.static_variable}')\n",
    "\n",
    "# Instantiating an object\n",
    "person1 = Person(\"Bartek\", 43)\n",
    "person1.say_hello()\n",
    "\n",
    "person2 = Person(\"Ann\", 37, False)\n",
    "person2.say_hello()\n",
    "\n",
    "Person.static_variable = 100\n",
    "Person.static_method()\n",
    "person1.static_method()\n",
    "\n",
    "person1.static_variable = 10     # <<< beware\n",
    "print(person1.static_variable)   # <<< beware\n",
    "print(Person.static_variable)"
   ]
  },
  {
   "cell_type": "code",
   "execution_count": 164,
   "id": "acefe44e-b11f-4019-a352-d288b63f97a2",
   "metadata": {
    "tags": []
   },
   "outputs": [],
   "source": [
    "# TRY BY YOURSELF - WRITE CODE HERE\n"
   ]
  },
  {
   "cell_type": "markdown",
   "id": "07f0b8d7-64cf-471d-b0fc-6f56503409f4",
   "metadata": {
    "tags": []
   },
   "source": [
    "## Inheritance"
   ]
  },
  {
   "cell_type": "code",
   "execution_count": 426,
   "id": "65c75699-56bc-429b-9777-97c81465df5a",
   "metadata": {
    "tags": []
   },
   "outputs": [
    {
     "name": "stdout",
     "output_type": "stream",
     "text": [
      "Hello from Ann! I am healthy\n"
     ]
    }
   ],
   "source": [
    "class HealthyPerson(Person):\n",
    "    def __init__(self, name, age):\n",
    "        super().__init__(name, age, False)\n",
    "        \n",
    "person = HealthyPerson(\"Ann\", 37)\n",
    "person.say_hello()"
   ]
  },
  {
   "cell_type": "code",
   "execution_count": 164,
   "id": "8adcb5f2-0691-4bbf-bbfd-7af25e72d200",
   "metadata": {
    "tags": []
   },
   "outputs": [],
   "source": [
    "# TRY BY YOURSELF - WRITE CODE HERE\n"
   ]
  },
  {
   "cell_type": "markdown",
   "id": "c3bdef6b-7e65-4392-a5b2-a9ac8fa1d3f3",
   "metadata": {
    "tags": []
   },
   "source": [
    "## Operator overload\n",
    "Python allows a number of special methods to overload certain operators in classes. Here are some of them:\n",
    "\n",
    "1. Arithmetic Operators:\n",
    "    - `__add__(self, other)`: for `+`.\n",
    "    - `__sub__(self, other)`: for `-`.\n",
    "    - `__mul__(self, other)`: for  `*`.\n",
    "    - `__truediv__(self, other)`: for `/`.\n",
    "    - `__floordiv__(self, other)`: for `//`.\n",
    "    - `__mod__(self, other)`: for `%`.\n",
    "    - `__pow__(self, other[, modulo])`: for `**`.\n",
    "\n",
    "2. Assignment Operators:\n",
    "    - `__iadd__(self, other)`: for `+=`.\n",
    "    - `__isub__(self, other)`: for `-=`.\n",
    "    - `__imul__(self, other)`: for `*=`.\n",
    "    - And similar methods for other assignment operators.\n",
    "\n",
    "3. Unary Operators:\n",
    "    - `__neg__(self)`: for the negation (`-`).\n",
    "    - `__pos__(self)`: for unary positive (`+`).\n",
    "    - `__abs__(self)`: for the built-in `abs()` function.\n",
    "\n",
    "4. Comparison Operators:\n",
    "    - `__lt__(self, other)`: for `<`.\n",
    "    - `__le__(self, other)`: for `<=`.\n",
    "    - `__eq__(self, other)`: for `==`.\n",
    "    - `__ne__(self, other)`: for `!=`.\n",
    "    - `__gt__(self, other)`: for `>`.\n",
    "    - `__ge__(self, other)`: for `>=`.\n",
    "\n",
    "5. Type Conversion:\n",
    "    - `__int__(self)`: used when `int()` is called on an instance of your class.\n",
    "    - `__float__(self)`: used when `float()` is called on an instance of your class.\n",
    "    - `__bool__(self)`: used when `bool()` is called on an instance of your class.\n",
    "\n",
    "6. Object Representation:\n",
    "    - `__str__(self)`: for when `str()` is called on an instance of your class.\n",
    "\n",
    "7. Others, e.g. `__getitem__`, `__setitem__`, `__delitem__`, `__iter__`, `__contains__`, `__len__` etc\n"
   ]
  },
  {
   "cell_type": "code",
   "execution_count": 374,
   "id": "a6e6ac25-3a24-4760-b445-a99396776c22",
   "metadata": {
    "tags": []
   },
   "outputs": [
    {
     "name": "stdout",
     "output_type": "stream",
     "text": [
      "Vector(5, 5)\n",
      "Vector(-1, 3)\n"
     ]
    }
   ],
   "source": [
    "class Vector:\n",
    "    def __init__(self, x=0, y=0):\n",
    "        self.x = x\n",
    "        self.y = y\n",
    "\n",
    "    def __str__(self):\n",
    "        return f\"Vector({self.x}, {self.y})\"\n",
    "\n",
    "    def __add__(self, other):\n",
    "        if isinstance(other, Vector):\n",
    "            return Vector(self.x + other.x, self.y + other.y)\n",
    "        else:\n",
    "            raise TypeError(\"Both operands must be Vectors\")\n",
    "\n",
    "    def __sub__(self, other):\n",
    "        if isinstance(other, Vector):\n",
    "            return Vector(self.x - other.x, self.y - other.y)\n",
    "        else:\n",
    "            raise TypeError(\"Both operands must be Vectors\")\n",
    "\n",
    "\n",
    "# Create two vectors\n",
    "v1 = Vector(2, 4)\n",
    "v2 = Vector(3, 1)\n",
    "\n",
    "# Add the vectors\n",
    "v3 = v1 + v2\n",
    "print(v3)  # Output: Vector(5, 5)\n",
    "\n",
    "# Subtract the vectors\n",
    "v4 = v1 - v2\n",
    "print(v4)  # Output: Vector(-1, 3)"
   ]
  },
  {
   "cell_type": "code",
   "execution_count": 164,
   "id": "d4cdf3f8-d9c5-426b-bbb7-a180499d4e2f",
   "metadata": {
    "tags": []
   },
   "outputs": [],
   "source": [
    "# TRY BY YOURSELF - WRITE CODE HERE\n"
   ]
  },
  {
   "cell_type": "markdown",
   "id": "3f48ed26-587e-43c5-9022-b4b2e954e923",
   "metadata": {
    "tags": []
   },
   "source": [
    "# Modules\n",
    "Python modules are .py files that consist of Python code. A module can define functions, classes, and variables.\n",
    "\n",
    "To use a module in your code, you need to import it."
   ]
  },
  {
   "cell_type": "markdown",
   "id": "f549fa1b-8008-421b-b668-1024ea1c616b",
   "metadata": {
    "tags": []
   },
   "source": [
    "## import ..."
   ]
  },
  {
   "cell_type": "code",
   "execution_count": 382,
   "id": "871d0833-b607-45f9-8e62-583151ad7818",
   "metadata": {
    "tags": []
   },
   "outputs": [
    {
     "name": "stdout",
     "output_type": "stream",
     "text": [
      "4.0\n",
      "3.141592653589793\n",
      "1.0\n"
     ]
    }
   ],
   "source": [
    "import math\n",
    "\n",
    "# Use the `sqrt` function from the `math` module to compute the square root of 16\n",
    "print(math.sqrt(16))  # Output: 4.0\n",
    "\n",
    "# Use the `pi` constant from the `math` module\n",
    "print(math.pi)  # Output: 3.141592653589793\n",
    "\n",
    "# Use the `sin` function from the `math` module\n",
    "print(math.sin(math.pi/2))  # Output: 1.0"
   ]
  },
  {
   "cell_type": "markdown",
   "id": "b94143e5-4a7a-4e9d-846d-07f280f436cf",
   "metadata": {
    "tags": []
   },
   "source": [
    "## import ... as alias"
   ]
  },
  {
   "cell_type": "code",
   "execution_count": 387,
   "id": "47006a60-9dc9-4838-94dd-58cbf35ecf72",
   "metadata": {
    "tags": []
   },
   "outputs": [
    {
     "name": "stdout",
     "output_type": "stream",
     "text": [
      "4.0\n",
      "3.141592653589793\n",
      "1.0\n"
     ]
    }
   ],
   "source": [
    "import math as m\n",
    "\n",
    "# Use the `sqrt` function from the `math` module to compute the square root of 16\n",
    "print(m.sqrt(16))  # Output: 4.0\n",
    "\n",
    "# Use the `pi` constant from the `math` module\n",
    "print(m.pi)  # Output: 3.141592653589793\n",
    "\n",
    "# Use the `sin` function from the `math` module\n",
    "print(math.sin(m.pi/2))  # Output: 1.0"
   ]
  },
  {
   "cell_type": "markdown",
   "id": "f5265ae3-9506-4c81-a759-207cc440e5fe",
   "metadata": {
    "tags": []
   },
   "source": [
    "## from ... import ..."
   ]
  },
  {
   "cell_type": "code",
   "execution_count": 385,
   "id": "aabbb8f3-d878-4785-9d6b-039347f72735",
   "metadata": {
    "tags": []
   },
   "outputs": [
    {
     "name": "stdout",
     "output_type": "stream",
     "text": [
      "4.0\n",
      "3.141592653589793\n"
     ]
    }
   ],
   "source": [
    "from math import sqrt, pi\n",
    "\n",
    "# Now we can use `sqrt` and `pi` directly, without prefixing them with `math.`\n",
    "print(sqrt(16))  # Output: 4.0\n",
    "print(pi)  # Output: 3.141592653589793"
   ]
  },
  {
   "cell_type": "markdown",
   "id": "f8b1d64a-79c9-439f-bbcb-63907366d048",
   "metadata": {
    "tags": []
   },
   "source": [
    "## from ... import *"
   ]
  },
  {
   "cell_type": "code",
   "execution_count": 396,
   "id": "0e88bc7c-96fd-4caf-bc81-61d63d7c2f18",
   "metadata": {
    "tags": []
   },
   "outputs": [
    {
     "name": "stdout",
     "output_type": "stream",
     "text": [
      "4.0\n"
     ]
    }
   ],
   "source": [
    "from math import *\n",
    "\n",
    "print(sqrt(16))\n",
    "\n",
    "# You can use dir() to see what's available in current scope"
   ]
  },
  {
   "cell_type": "markdown",
   "id": "b20c5e9c-5f7b-486a-8e24-ba7818267ea7",
   "metadata": {
    "tags": []
   },
   "source": [
    "## Packages"
   ]
  },
  {
   "cell_type": "markdown",
   "id": "2bea5040-996e-41ff-97c6-9dac564a7eef",
   "metadata": {
    "tags": []
   },
   "source": [
    "Modules can be grouped into packages (directories containing them).\n",
    "Package has a special file called `__init__.py`. It can be empty, or contain initialization logic.\n",
    "To use a module from a package, you we use a dot notation\n",
    "```python\n",
    "import super_package.super_module\n",
    "from  another_package.another_module import super_function\n",
    "```"
   ]
  },
  {
   "cell_type": "markdown",
   "id": "1d3bc238-b82c-48b7-bedc-e5f52d9b519d",
   "metadata": {
    "tags": []
   },
   "source": [
    "# Random generator"
   ]
  },
  {
   "cell_type": "markdown",
   "id": "6a603aa2-376e-4259-b7de-a8c675b9e393",
   "metadata": {
    "tags": []
   },
   "source": [
    "## random, randint, shuffle, choice, sample"
   ]
  },
  {
   "cell_type": "code",
   "execution_count": 549,
   "id": "8688c97e-3801-4d24-817e-d59e330644c1",
   "metadata": {
    "tags": []
   },
   "outputs": [
    {
     "name": "stdout",
     "output_type": "stream",
     "text": [
      "0.09369523986159245\n",
      "4\n",
      "[2, 4, 3, 1, 5]\n",
      "date\n",
      "['banana', 'date', 'cherry']\n"
     ]
    }
   ],
   "source": [
    "import random\n",
    "\n",
    "print(random.random())  # <0, 1)\n",
    "\n",
    "# integer from a range (inclusive on both sides)\n",
    "print(random.randint(1, 10))\n",
    "\n",
    "# shuffling lists\n",
    "my_list = [1, 2, 3, 4, 5]\n",
    "random.shuffle(my_list)\n",
    "print(my_list)\n",
    "\n",
    "# selecting random element from a list\n",
    "my_list = [\"apple\", \"banana\", \"cherry\", \"date\"]\n",
    "print(random.choice(my_list))\n",
    "\n",
    "# selecting multiple elements from a list\n",
    "my_list = [\"apple\", \"banana\", \"cherry\", \"date\"]\n",
    "print(random.sample(my_list, 3))\n"
   ]
  },
  {
   "cell_type": "markdown",
   "id": "8f158d2a-8071-43e2-9fe7-21ce44fc912a",
   "metadata": {
    "tags": []
   },
   "source": [
    "## seed"
   ]
  },
  {
   "cell_type": "code",
   "execution_count": 550,
   "id": "eb612a71-6406-41a8-8d3b-170b304972ad",
   "metadata": {
    "tags": []
   },
   "outputs": [
    {
     "name": "stdout",
     "output_type": "stream",
     "text": [
      "0.6394267984578837\n",
      "0.6394267984578837\n"
     ]
    }
   ],
   "source": [
    "random.seed(42)\n",
    "print(random.random())\n",
    "\n",
    "random.seed(42)\n",
    "print(random.random())"
   ]
  },
  {
   "cell_type": "markdown",
   "id": "bd49aed0-262c-481d-a73b-48885d7ad48f",
   "metadata": {
    "tags": []
   },
   "source": [
    "# Exceptions"
   ]
  },
  {
   "cell_type": "markdown",
   "id": "45974ac4-9620-4869-bdcc-86ed54113f3b",
   "metadata": {
    "tags": []
   },
   "source": [
    "## Handling specific exception"
   ]
  },
  {
   "cell_type": "code",
   "execution_count": 397,
   "id": "5c420385-8b28-419a-a9f9-f8523bc12035",
   "metadata": {
    "tags": []
   },
   "outputs": [
    {
     "name": "stdout",
     "output_type": "stream",
     "text": [
      "Cannot divide by zero.\n"
     ]
    }
   ],
   "source": [
    "try:\n",
    "    x = 10 / 0\n",
    "except ZeroDivisionError:\n",
    "    print(\"Cannot divide by zero.\")"
   ]
  },
  {
   "cell_type": "code",
   "execution_count": 164,
   "id": "1cbba8eb-5a5f-447b-9b99-3ef80f0c5dc6",
   "metadata": {
    "tags": []
   },
   "outputs": [],
   "source": [
    "# TRY BY YOURSELF - WRITE CODE HERE\n"
   ]
  },
  {
   "cell_type": "markdown",
   "id": "1674b67f-7967-4150-8bd0-81ce9e3fe8aa",
   "metadata": {
    "tags": []
   },
   "source": [
    "## Handling multiple exceptions"
   ]
  },
  {
   "cell_type": "code",
   "execution_count": 405,
   "id": "d217e8cd-af68-4e05-9eb5-fd2380c7fe00",
   "metadata": {
    "tags": []
   },
   "outputs": [
    {
     "name": "stdout",
     "output_type": "stream",
     "text": [
      "Invalid value.\n"
     ]
    }
   ],
   "source": [
    "try:\n",
    "    x = int(\"abc\")\n",
    "except ValueError:\n",
    "    print(\"Invalid value.\")\n",
    "except TypeError:\n",
    "    print(\"Incorrect type.\")"
   ]
  },
  {
   "cell_type": "code",
   "execution_count": 164,
   "id": "c77a077c-f619-4a6b-afe7-5fe07ab246ac",
   "metadata": {
    "tags": []
   },
   "outputs": [],
   "source": [
    "# TRY BY YOURSELF - WRITE CODE HERE\n"
   ]
  },
  {
   "cell_type": "markdown",
   "id": "34f93c77-67c0-42dc-8793-aba1bcf4cb2d",
   "metadata": {
    "tags": []
   },
   "source": [
    "## Handly any exception"
   ]
  },
  {
   "cell_type": "code",
   "execution_count": 406,
   "id": "3caae946-182f-4535-b210-f08599895fcc",
   "metadata": {
    "tags": []
   },
   "outputs": [
    {
     "name": "stdout",
     "output_type": "stream",
     "text": [
      "An error occurred: division by zero\n"
     ]
    }
   ],
   "source": [
    "try:\n",
    "    x = 10 / 0\n",
    "except Exception as e:\n",
    "    print(\"An error occurred:\", str(e))"
   ]
  },
  {
   "cell_type": "code",
   "execution_count": 164,
   "id": "40d60f1d-e9a1-4607-a913-10922c436710",
   "metadata": {
    "tags": []
   },
   "outputs": [],
   "source": [
    "# TRY BY YOURSELF - WRITE CODE HERE\n"
   ]
  },
  {
   "cell_type": "markdown",
   "id": "bbfb7313-d3c9-449c-8b44-20153af59a56",
   "metadata": {
    "tags": []
   },
   "source": [
    "## else block"
   ]
  },
  {
   "cell_type": "code",
   "execution_count": 400,
   "id": "d68e3990-623f-4b9f-ac86-12727dadb10f",
   "metadata": {
    "tags": []
   },
   "outputs": [
    {
     "name": "stdout",
     "output_type": "stream",
     "text": [
      "Division successful.\n"
     ]
    }
   ],
   "source": [
    "try:\n",
    "    x = 10 / 5\n",
    "except ZeroDivisionError:\n",
    "    print(\"Cannot divide by zero.\")\n",
    "else:\n",
    "    print(\"Division successful.\")"
   ]
  },
  {
   "cell_type": "code",
   "execution_count": 164,
   "id": "ffa6d89a-656d-48c1-8b58-ff17bcc2c7aa",
   "metadata": {
    "tags": []
   },
   "outputs": [],
   "source": [
    "# TRY BY YOURSELF - WRITE CODE HERE\n"
   ]
  },
  {
   "cell_type": "markdown",
   "id": "e686a37c-f0ef-46ba-acbc-b24bde8a5e25",
   "metadata": {
    "tags": []
   },
   "source": [
    "##  finally block\n"
   ]
  },
  {
   "cell_type": "code",
   "execution_count": 408,
   "id": "010d11be-fc4c-42cf-86de-f1ca233c2777",
   "metadata": {
    "tags": []
   },
   "outputs": [
    {
     "name": "stdout",
     "output_type": "stream",
     "text": [
      "Cannot divide by zero.\n",
      "Cleanup code.\n"
     ]
    }
   ],
   "source": [
    "try:\n",
    "    x = 10 / 0\n",
    "except ZeroDivisionError:\n",
    "    print(\"Cannot divide by zero.\")\n",
    "finally:\n",
    "    print(\"Cleanup code.\")"
   ]
  },
  {
   "cell_type": "code",
   "execution_count": 164,
   "id": "dc7ff6a1-8148-420c-9c9d-d7b735ede994",
   "metadata": {
    "tags": []
   },
   "outputs": [],
   "source": [
    "# TRY BY YOURSELF - WRITE CODE HERE\n"
   ]
  },
  {
   "cell_type": "markdown",
   "id": "cea7f0c3-ca70-42c3-aedd-a37a543992d3",
   "metadata": {
    "tags": []
   },
   "source": [
    "## raising exceptions\n",
    "Any class that derives BaseException can be raised"
   ]
  },
  {
   "cell_type": "code",
   "execution_count": 411,
   "id": "a7044ea4-4158-4acf-bfc2-560d7072371d",
   "metadata": {
    "tags": []
   },
   "outputs": [
    {
     "name": "stdout",
     "output_type": "stream",
     "text": [
      "Age cannot be negative.\n"
     ]
    }
   ],
   "source": [
    "def validate_age(age):\n",
    "    if age < 0:\n",
    "        raise ValueError(\"Age cannot be negative.\")\n",
    "\n",
    "try:\n",
    "    validate_age(-5)\n",
    "except ValueError as ve:\n",
    "    print(ve)"
   ]
  },
  {
   "cell_type": "code",
   "execution_count": 164,
   "id": "9702ebd8-4683-46e7-b2d8-daa9db68ae9f",
   "metadata": {
    "tags": []
   },
   "outputs": [],
   "source": [
    "# TRY BY YOURSELF - WRITE CODE HERE\n"
   ]
  },
  {
   "cell_type": "markdown",
   "id": "676907e6-2e5c-4e2f-8634-ab604384df01",
   "metadata": {
    "tags": []
   },
   "source": [
    "# with"
   ]
  },
  {
   "cell_type": "markdown",
   "id": "b963cbe0-9246-4dfa-9f77-49779c6abf29",
   "metadata": {
    "tags": []
   },
   "source": [
    "## working with files example"
   ]
  },
  {
   "cell_type": "code",
   "execution_count": 430,
   "id": "9c7427e2-b3fe-4b83-abd1-f8a5e555b0a7",
   "metadata": {
    "tags": []
   },
   "outputs": [],
   "source": [
    "# Writing to a file\n",
    "with open('example.txt', 'w') as file:\n",
    "    file.write('Hello, World!\\n')\n",
    "    file.write('This is an example file.\\n')\n",
    "\n",
    "# Appending to a file\n",
    "with open('example.txt', 'a') as file:\n",
    "    file.write('This line is appended.\\n')\n",
    "\n",
    "# Reading from a file\n",
    "with open('example.txt', 'r') as file:\n",
    "    content = file.read()\n",
    "    print(content)\n",
    "\n",
    "# Reading line by line from a file\n",
    "with open('example.txt', 'r') as file:\n",
    "    for line in file:\n",
    "        print(line.strip())"
   ]
  },
  {
   "cell_type": "code",
   "execution_count": 164,
   "id": "f417343c-9b3a-4aae-a0f7-17aa874fd190",
   "metadata": {
    "tags": []
   },
   "outputs": [],
   "source": [
    "# TRY BY YOURSELF - WRITE CODE HERE\n"
   ]
  },
  {
   "cell_type": "markdown",
   "id": "d96cc7af-8e48-4e4a-94f2-adeb70ca42ea",
   "metadata": {
    "tags": []
   },
   "source": [
    "## Custom context manager interface (__enter__, __exit__)"
   ]
  },
  {
   "cell_type": "code",
   "execution_count": 434,
   "id": "1384f92a-8a76-4b8c-a131-1c01e62c49c7",
   "metadata": {
    "tags": []
   },
   "outputs": [
    {
     "name": "stdout",
     "output_type": "stream",
     "text": [
      "Hello, World!\n",
      "This is an example file.\n",
      "This line is appended.\n",
      "\n"
     ]
    }
   ],
   "source": [
    "class CustomFile:\n",
    "    def __init__(self, file_path, mode):\n",
    "        self.file_path = file_path\n",
    "        self.mode = mode\n",
    "        self.file = None\n",
    "\n",
    "    def __enter__(self):\n",
    "        self.file = open(self.file_path, self.mode)\n",
    "        return self.file\n",
    "\n",
    "    def __exit__(self, exc_type, exc_val, exc_tb):\n",
    "        self.file.close()\n",
    "\n",
    "# Using the custom class with the with statement\n",
    "with CustomFile('example.txt', 'w') as file:\n",
    "    file.write('Hello, World!\\n')\n",
    "    file.write('This is an example file.\\n')\n",
    "\n",
    "with CustomFile('example.txt', 'a') as file:\n",
    "    file.write('This line is appended.\\n')\n",
    "\n",
    "with CustomFile('example.txt', 'r') as file:\n",
    "    content = file.read()\n",
    "    print(content)"
   ]
  },
  {
   "cell_type": "code",
   "execution_count": 164,
   "id": "9868e030-7145-45de-aa23-35fef1d3af06",
   "metadata": {
    "tags": []
   },
   "outputs": [],
   "source": [
    "# TRY BY YOURSELF - WRITE CODE HERE\n"
   ]
  },
  {
   "cell_type": "markdown",
   "id": "ed767cc6-398b-4161-a1c3-84fe088429f3",
   "metadata": {
    "tags": []
   },
   "source": [
    "## Custom context manager using contextlib"
   ]
  },
  {
   "cell_type": "code",
   "execution_count": 437,
   "id": "058b0171-d744-430f-8e8d-aa07fe7285a9",
   "metadata": {
    "tags": []
   },
   "outputs": [
    {
     "name": "stdout",
     "output_type": "stream",
     "text": [
      "Hello, World!\n",
      "This is an example file.\n",
      "This line is appended.\n",
      "\n",
      "end of try block\n",
      "we're in finally\n"
     ]
    }
   ],
   "source": [
    "from contextlib import contextmanager\n",
    "\n",
    "@contextmanager\n",
    "def file_opener(file_path, mode):\n",
    "    try:\n",
    "        file = open(file_path, mode)\n",
    "        yield file\n",
    "        print(\"end of try block\")\n",
    "    finally:\n",
    "        print(\"we're in finally\")\n",
    "        file.close()\n",
    "\n",
    "with file_opener('example.txt', 'r') as file:\n",
    "    content = file.read()\n",
    "    print(content)"
   ]
  },
  {
   "cell_type": "code",
   "execution_count": 164,
   "id": "ecf56ef8-4ae9-4ac7-b2eb-6db1617427d7",
   "metadata": {
    "tags": []
   },
   "outputs": [],
   "source": [
    "# TRY BY YOURSELF - WRITE CODE HERE\n"
   ]
  },
  {
   "cell_type": "markdown",
   "id": "b4140417-f043-4eb5-a46a-58108b70d211",
   "metadata": {
    "tags": []
   },
   "source": [
    "# json"
   ]
  },
  {
   "cell_type": "markdown",
   "id": "12837628-4111-416b-baa3-802257969b3c",
   "metadata": {
    "tags": []
   },
   "source": [
    "## Saving dictionary as JSON"
   ]
  },
  {
   "cell_type": "code",
   "execution_count": 451,
   "id": "07d27484-5be3-402a-b445-2de7bc32e7c5",
   "metadata": {
    "tags": []
   },
   "outputs": [
    {
     "name": "stdout",
     "output_type": "stream",
     "text": [
      "{\"name\": \"John Doe\", \"age\": 30, \"city\": \"New York\", \"hobbies\": [\"reading\", \"traveling\", \"music\"], \"is_student\": true}\n"
     ]
    }
   ],
   "source": [
    "import json\n",
    "\n",
    "person = {\n",
    "    \"name\": \"John Doe\",\n",
    "    \"age\": 30,\n",
    "    \"city\": \"New York\",\n",
    "    \"hobbies\": [\"reading\", \"traveling\", \"music\"],\n",
    "    \"is_student\": True\n",
    "}\n",
    "\n",
    "with open('sample.json', 'w') as file:\n",
    "    json.dump(person, file)\n",
    "\n",
    "with open('sample.json', 'r') as file:\n",
    "    content = file.read()\n",
    "    print(content)\n"
   ]
  },
  {
   "cell_type": "code",
   "execution_count": 164,
   "id": "12029988-2686-4a09-9586-80eccee2085b",
   "metadata": {
    "tags": []
   },
   "outputs": [],
   "source": [
    "# TRY BY YOURSELF - WRITE CODE HERE\n"
   ]
  },
  {
   "cell_type": "markdown",
   "id": "0fa060e5-13c0-4cff-a338-00c7d884b585",
   "metadata": {
    "tags": []
   },
   "source": [
    "## Reading JSON from file"
   ]
  },
  {
   "cell_type": "code",
   "execution_count": 453,
   "id": "03530f9f-419e-44e0-ad29-3528612f350b",
   "metadata": {
    "tags": []
   },
   "outputs": [
    {
     "name": "stdout",
     "output_type": "stream",
     "text": [
      "{'name': 'John Doe', 'age': 30, 'city': 'New York', 'hobbies': ['reading', 'traveling', 'music'], 'is_student': True}\n",
      "John Doe\n",
      "reading\n"
     ]
    }
   ],
   "source": [
    "with open('sample.json', 'r') as file:\n",
    "    data = json.load(file)\n",
    "\n",
    "print(data)\n",
    "print(data[\"name\"])\n",
    "print(data[\"hobbies\"][0])"
   ]
  },
  {
   "cell_type": "code",
   "execution_count": 164,
   "id": "35e00338-9141-460d-93c6-7289d8b08495",
   "metadata": {
    "tags": []
   },
   "outputs": [],
   "source": [
    "# TRY BY YOURSELF - WRITE CODE HERE\n"
   ]
  },
  {
   "cell_type": "markdown",
   "id": "d7ed6e59-3ab7-4665-a27f-16407fcaac17",
   "metadata": {
    "tags": []
   },
   "source": [
    "## Parsing and dumping JSON from/to variable\n",
    "Use `loads` and `dumps` methods instead of `load` and `dump`"
   ]
  },
  {
   "cell_type": "code",
   "execution_count": 456,
   "id": "2789b789-2951-4157-a9f8-b4a20f5d9f20",
   "metadata": {
    "tags": []
   },
   "outputs": [
    {
     "name": "stdout",
     "output_type": "stream",
     "text": [
      "Bartek\n",
      "43\n",
      "{\"name\": \"John\", \"age\": 43, \"is_student\": false}\n"
     ]
    }
   ],
   "source": [
    "json_content = \"\"\"\n",
    "{\n",
    "    \"name\": \"Bartek\",\n",
    "    \"age\": 43,\n",
    "    \"is_student\": true\n",
    "}\n",
    "\"\"\"\n",
    "\n",
    "# Parse JSON to Python dictionary\n",
    "data = json.loads(json_content)\n",
    "\n",
    "print(data[\"name\"])  # Output: Bartek\n",
    "print(data[\"age\"])   # Output: 43\n",
    "\n",
    "# Modify data\n",
    "data[\"name\"] = \"John\"\n",
    "data[\"is_student\"] = False\n",
    "\n",
    "print(json.dumps(data))"
   ]
  },
  {
   "cell_type": "code",
   "execution_count": 164,
   "id": "b8170a20-c8d9-48b0-830c-ffd9ba1d2a3a",
   "metadata": {
    "tags": []
   },
   "outputs": [],
   "source": [
    "# TRY BY YOURSELF - WRITE CODE HERE\n"
   ]
  },
  {
   "cell_type": "markdown",
   "id": "ec8721f1-43c7-4876-93ab-74b07fff0e16",
   "metadata": {
    "tags": []
   },
   "source": [
    "## YAML\n"
   ]
  },
  {
   "cell_type": "markdown",
   "id": "409f822f-8167-4cb2-ad2d-d4c09d3e1763",
   "metadata": {
    "tags": []
   },
   "source": [
    "### Reading YAML from memory"
   ]
  },
  {
   "cell_type": "code",
   "execution_count": 476,
   "id": "ae23ae5b-690a-4f47-a5be-a6bc197adf92",
   "metadata": {
    "tags": []
   },
   "outputs": [
    {
     "name": "stdout",
     "output_type": "stream",
     "text": [
      "Bartek\n",
      "['VR', 'AI', 'music composition']\n"
     ]
    }
   ],
   "source": [
    "import yaml\n",
    "\n",
    "yaml_data = \"\"\"\n",
    "- name: Bartek\n",
    "  age: 43\n",
    "  is_student: false\n",
    "  hobbies:\n",
    "  - VR\n",
    "  - AI\n",
    "  - music composition\n",
    "- name: Ann\n",
    "  age: 37\n",
    "  is_student: true\n",
    "  hobbies:\n",
    "  - playing piano\n",
    "\"\"\"\n",
    "\n",
    "data = yaml.safe_load(yaml_data)\n",
    "print(data[0][\"name\"])\n",
    "print(data[0][\"hobbies\"])"
   ]
  },
  {
   "cell_type": "code",
   "execution_count": 164,
   "id": "e35ac699-f61d-4161-824b-3aaec2b0e556",
   "metadata": {
    "tags": []
   },
   "outputs": [],
   "source": [
    "# TRY BY YOURSELF - WRITE CODE HERE\n"
   ]
  },
  {
   "cell_type": "markdown",
   "id": "e7fded8a-e846-4e7e-bfbb-80812c732622",
   "metadata": {
    "tags": []
   },
   "source": [
    "### Dumping YAML in memory"
   ]
  },
  {
   "cell_type": "code",
   "execution_count": 473,
   "id": "2a917de8-8df6-404e-8997-b1a32c004aaa",
   "metadata": {
    "tags": []
   },
   "outputs": [
    {
     "name": "stdout",
     "output_type": "stream",
     "text": [
      "- name: Bartek\n",
      "  age: 43\n",
      "  is_student: false\n",
      "  hobbies:\n",
      "  - VR\n",
      "  - AI\n",
      "  - music composition\n",
      "- name: Joanna\n",
      "  age: 32\n",
      "  is_student: true\n",
      "  hobbies:\n",
      "  - playing piano\n",
      "\n"
     ]
    }
   ],
   "source": [
    "data[1][\"name\"] = \"Joanna\"\n",
    "data[1][\"age\"] = 32\n",
    "\n",
    "print(yaml.dump(data, sort_keys=False))"
   ]
  },
  {
   "cell_type": "code",
   "execution_count": 164,
   "id": "7a2ed3ed-a5b1-4ef6-9efd-2513bb451c7a",
   "metadata": {
    "tags": []
   },
   "outputs": [],
   "source": [
    "# TRY BY YOURSELF - WRITE CODE HERE\n"
   ]
  },
  {
   "cell_type": "markdown",
   "id": "58c01232-41e1-49d2-b358-2dd0f6b7b9d8",
   "metadata": {
    "tags": []
   },
   "source": [
    "### Reading and writing YAML files"
   ]
  },
  {
   "cell_type": "code",
   "execution_count": 484,
   "id": "17dc3fe3-8b08-4bc4-b682-8cf28918c7d5",
   "metadata": {
    "tags": []
   },
   "outputs": [
    {
     "name": "stdout",
     "output_type": "stream",
     "text": [
      "Bartek\n"
     ]
    }
   ],
   "source": [
    "with open('sample.yaml', 'w') as file:\n",
    "     yaml.dump(data, file, sort_keys=False)\n",
    "\n",
    "with open('sample.yaml', 'r') as file:\n",
    "     data = yaml.safe_load(file)\n",
    "\n",
    "print(data[0][\"name\"])"
   ]
  },
  {
   "cell_type": "code",
   "execution_count": 164,
   "id": "cb99d351-10ca-42ac-91c4-cb5eb1af4f1b",
   "metadata": {
    "tags": []
   },
   "outputs": [],
   "source": [
    "# TRY BY YOURSELF - WRITE CODE HERE\n"
   ]
  },
  {
   "cell_type": "markdown",
   "id": "d48013f5-d723-430d-b6ea-cdfd6ef6a6b9",
   "metadata": {
    "tags": []
   },
   "source": [
    "# Regex"
   ]
  },
  {
   "cell_type": "markdown",
   "id": "ccca332f-d0f1-45d9-8a89-be53759e59e6",
   "metadata": {
    "tags": []
   },
   "source": [
    "\n",
    "- `^` - start of a string, `$` - end of a string\n",
    "- `[abc]` - any single character from the given set.\n",
    "- `[^abc]` - any single character not in the given set.\n",
    "- `[a-z]` - any single character in the range from a to z.\n",
    "\n",
    "* `*` - zero or more occurrences.\n",
    "* `+` - one or more occurrences.\n",
    "* `?` - zero or one occurrence.\n",
    "* `{n}` - exactly n occurrences.\n",
    "* `{n,}` - n or more occurrences.\n",
    "* `{n,m}` - between n and m occurrences.\n",
    "\n",
    "- `(...)` - a group for capturing\n",
    "- `(?P<name>...)` - named group for easy access.\n",
    "\n",
    "* `|` - either the expression before or after the alternation operator.\n",
    "\n",
    "- `\\d` - any digit character.\n",
    "- `\\D` - any non-digit character.\n",
    "- `\\w` - any word character (alphanumeric or underscore).\n",
    "- `\\W` - any non-word character.\n",
    "- `\\s` - any whitespace character.\n",
    "- `\\S` - any non-whitespace character.\n",
    "- `\\b` - a word boundary.\n",
    "- `\\B` - a non-word boundary.\n",
    "- `.` - any character except a newline character."
   ]
  },
  {
   "cell_type": "markdown",
   "id": "1e002e8c-c835-435d-82d6-0350e923d1c7",
   "metadata": {},
   "source": [
    "## Data extraction"
   ]
  },
  {
   "cell_type": "code",
   "execution_count": 518,
   "id": "08796ca6-4151-450e-8890-42e32b333136",
   "metadata": {
    "tags": []
   },
   "outputs": [
    {
     "name": "stdout",
     "output_type": "stream",
     "text": [
      "Username: john\n",
      "Domain: example.com\n"
     ]
    }
   ],
   "source": [
    "import re\n",
    "\n",
    "email = \"john.doe@example.com\"\n",
    "\n",
    "pattern = r\"(\\w+)\\.(\\w+)@([\\w\\.]+)$\"\n",
    "\n",
    "match = re.match(pattern, email)\n",
    "if match:\n",
    "    username = match.group(1)\n",
    "    domain = match.group(3)\n",
    "    print(\"Username:\", username)\n",
    "    print(\"Domain:\", domain)"
   ]
  },
  {
   "cell_type": "code",
   "execution_count": 164,
   "id": "6fec13d6-4893-4e2a-8dca-6b37311e8a81",
   "metadata": {
    "tags": []
   },
   "outputs": [],
   "source": [
    "# TRY BY YOURSELF - WRITE CODE HERE\n"
   ]
  },
  {
   "cell_type": "markdown",
   "id": "c4da790e-13ff-4229-859d-fc727bce8701",
   "metadata": {
    "tags": []
   },
   "source": [
    "### Named groups"
   ]
  },
  {
   "cell_type": "code",
   "execution_count": 527,
   "id": "0948183b-541b-417d-bac9-a4bae0f588fc",
   "metadata": {
    "tags": []
   },
   "outputs": [
    {
     "name": "stdout",
     "output_type": "stream",
     "text": [
      "Username: john\n",
      "Subdomain: doe\n",
      "Domain: example.com\n"
     ]
    }
   ],
   "source": [
    "import re\n",
    "\n",
    "email = \"john.doe@example.com\"\n",
    "\n",
    "pattern = r\"(?P<username>\\w+)\\.(?P<subdomain>\\w+)@(?P<domain>\\w+\\.\\w+)\"\n",
    "match = re.match(pattern, email)\n",
    "if match:\n",
    "    username = match.group('username')\n",
    "    subdomain = match.group('subdomain')\n",
    "    domain = match.group('domain')\n",
    "    print(\"Username:\", username)\n",
    "    print(\"Subdomain:\", subdomain)\n",
    "    print(\"Domain:\", domain)"
   ]
  },
  {
   "cell_type": "code",
   "execution_count": 164,
   "id": "94a52f91-20ea-4853-a873-86b3418aa074",
   "metadata": {
    "tags": []
   },
   "outputs": [],
   "source": [
    "# TRY BY YOURSELF - WRITE CODE HERE\n"
   ]
  },
  {
   "cell_type": "markdown",
   "id": "6dd3a92f-c116-4a1d-a7d7-45b67caa0744",
   "metadata": {
    "tags": []
   },
   "source": [
    "### Groupdict"
   ]
  },
  {
   "cell_type": "code",
   "execution_count": 526,
   "id": "a4be9f07-3fcc-43d6-bb6d-657622a5e5cb",
   "metadata": {
    "tags": []
   },
   "outputs": [
    {
     "name": "stdout",
     "output_type": "stream",
     "text": [
      "Username: john\n",
      "Subdomain: doe\n",
      "Domain: example.com\n"
     ]
    }
   ],
   "source": [
    "import re\n",
    "\n",
    "email = \"john.doe@example.com\"\n",
    "\n",
    "pattern = r\"(?P<username>\\w+)\\.(?P<subdomain>\\w+)@(?P<domain>\\w+\\.\\w+)\"\n",
    "match = re.match(pattern, email)\n",
    "if match:\n",
    "    parts = match.groupdict()\n",
    "    print(\"Username:\", parts['username'])\n",
    "    print(\"Subdomain:\", parts['subdomain'])\n",
    "    print(\"Domain:\", parts['domain'])"
   ]
  },
  {
   "cell_type": "code",
   "execution_count": 164,
   "id": "311d5124-8a81-43f7-a91e-3cae6a70fc78",
   "metadata": {
    "tags": []
   },
   "outputs": [],
   "source": [
    "# TRY BY YOURSELF - WRITE CODE HERE\n"
   ]
  },
  {
   "cell_type": "markdown",
   "id": "10acf007-a28f-47ec-8d3a-698d8e4153a0",
   "metadata": {
    "tags": []
   },
   "source": [
    "## Replacement"
   ]
  },
  {
   "cell_type": "code",
   "execution_count": 529,
   "id": "397919c3-e8c2-47cc-ab2e-b2d2869952a0",
   "metadata": {
    "tags": []
   },
   "outputs": [
    {
     "name": "stdout",
     "output_type": "stream",
     "text": [
      "The ***** ***** fox ***** over the lazy dog.\n"
     ]
    }
   ],
   "source": [
    "import re\n",
    "\n",
    "text = \"The quick brown fox jumps over the lazy dog.\"\n",
    "\n",
    "pattern = r\"\\b\\w{5}\\b\"\n",
    "replacement = \"*****\"\n",
    "new_text = re.sub(pattern, replacement, text)\n",
    "print(new_text)"
   ]
  },
  {
   "cell_type": "code",
   "execution_count": 164,
   "id": "3a793065-5ba5-439d-819e-27e8c1634b59",
   "metadata": {
    "tags": []
   },
   "outputs": [],
   "source": [
    "# TRY BY YOURSELF - WRITE CODE HERE\n"
   ]
  },
  {
   "cell_type": "markdown",
   "id": "b6f8fade-d33b-475e-a37e-65869b066ed8",
   "metadata": {
    "tags": []
   },
   "source": [
    "### Replacement with groups"
   ]
  },
  {
   "cell_type": "code",
   "execution_count": 532,
   "id": "324871be-f963-49c0-9a91-49b1722f8965",
   "metadata": {
    "tags": []
   },
   "outputs": [
    {
     "name": "stdout",
     "output_type": "stream",
     "text": [
      "New Email: john-doe@example.com\n"
     ]
    }
   ],
   "source": [
    "email = \"john.doe@example.com\"\n",
    "\n",
    "pattern = r\"(\\w+)\\.(\\w+)@([\\w\\.]+)$\"\n",
    "\n",
    "replacement = r\"\\1-\\2@\\3\"\n",
    "new_email = re.sub(pattern, replacement, email)\n",
    "print(\"New Email:\", new_email)"
   ]
  },
  {
   "cell_type": "code",
   "execution_count": 164,
   "id": "b85c0e28-33f4-45f5-bc7b-0ecad3e3abd6",
   "metadata": {
    "tags": []
   },
   "outputs": [],
   "source": [
    "# TRY BY YOURSELF - WRITE CODE HERE\n"
   ]
  },
  {
   "cell_type": "markdown",
   "id": "11585b84-66e0-4a49-adb9-6009e88509da",
   "metadata": {
    "tags": []
   },
   "source": [
    "## Spliting data"
   ]
  },
  {
   "cell_type": "code",
   "execution_count": 510,
   "id": "a5b99b1c-21be-4034-9512-d625415a8792",
   "metadata": {
    "tags": []
   },
   "outputs": [
    {
     "name": "stdout",
     "output_type": "stream",
     "text": [
      "Username: john\n",
      "Domain: example.com\n"
     ]
    }
   ],
   "source": [
    "email = \"john.doe@example.com\"\n",
    "\n",
    "pattern = r\"(\\w+)\\.(\\w+)@([\\w\\.]+)$\"\n",
    "\n",
    "parts = re.split(pattern, email)\n",
    "print(\"Username:\", parts[1])\n",
    "print(\"Domain:\", parts[3])"
   ]
  },
  {
   "cell_type": "code",
   "execution_count": 164,
   "id": "0e8c91db-5fb8-4fc5-bee4-bc7257be0b6a",
   "metadata": {
    "tags": []
   },
   "outputs": [],
   "source": [
    "# TRY BY YOURSELF - WRITE CODE HERE\n"
   ]
  },
  {
   "cell_type": "markdown",
   "id": "7178922b-0c59-4fa2-9444-13d5a1847ac3",
   "metadata": {
    "tags": []
   },
   "source": [
    "# Other"
   ]
  },
  {
   "cell_type": "markdown",
   "id": "bbc17f6d-c77f-4830-933b-166cd7a1a7db",
   "metadata": {
    "tags": []
   },
   "source": [
    "## argv"
   ]
  },
  {
   "cell_type": "code",
   "execution_count": 552,
   "id": "929e3e68-c0f0-45e9-8634-be3e6a0d7637",
   "metadata": {
    "tags": []
   },
   "outputs": [
    {
     "data": {
      "text/plain": [
       "['/Users/bartoszpampuch/src/ai-pragmatic/venv/lib/python3.10/site-packages/ipykernel_launcher.py',\n",
       " '-f',\n",
       " '/Users/bartoszpampuch/Library/Jupyter/runtime/kernel-f723be86-3514-45f3-9357-7c39095498b5.json']"
      ]
     },
     "execution_count": 552,
     "metadata": {},
     "output_type": "execute_result"
    }
   ],
   "source": [
    "import sys\n",
    "sys.argv"
   ]
  },
  {
   "cell_type": "markdown",
   "id": "e4e98701-4a93-441c-ad7f-a01ad2c6ba48",
   "metadata": {
    "tags": []
   },
   "source": [
    "## current dir and OS path separator"
   ]
  },
  {
   "cell_type": "code",
   "execution_count": 564,
   "id": "65af1937-30b5-4af6-a36a-a2349bc64af7",
   "metadata": {
    "tags": []
   },
   "outputs": [
    {
     "name": "stdout",
     "output_type": "stream",
     "text": [
      ".\n",
      "/\n"
     ]
    }
   ],
   "source": [
    "import os\n",
    "\n",
    "print (os.curdir)\n",
    "print (os.sep)"
   ]
  },
  {
   "cell_type": "markdown",
   "id": "d0377579-0f30-484c-9bc7-cb5113cbe381",
   "metadata": {
    "tags": []
   },
   "source": [
    "## Dates"
   ]
  },
  {
   "cell_type": "code",
   "execution_count": 569,
   "id": "e09cf779-5908-425f-a815-9ebea163035a",
   "metadata": {
    "tags": []
   },
   "outputs": [
    {
     "name": "stdout",
     "output_type": "stream",
     "text": [
      "2023-07-02 19:57:46\n",
      "7\n"
     ]
    }
   ],
   "source": [
    "from datetime import datetime\n",
    "\n",
    "now = datetime.now()\n",
    "print(now.strftime(\"%Y-%m-%d %H:%M:%S\"))\n",
    "\n",
    "some_date = datetime(2023, 7, 3)\n",
    "print(some_date.month)"
   ]
  },
  {
   "cell_type": "markdown",
   "id": "a29836df-15f1-4d7d-ae99-ea164d401ede",
   "metadata": {
    "tags": []
   },
   "source": [
    "### Deltas"
   ]
  },
  {
   "cell_type": "code",
   "execution_count": 576,
   "id": "39260a4c-c10e-42f2-9fb2-132ea03a333e",
   "metadata": {
    "tags": []
   },
   "outputs": [
    {
     "name": "stdout",
     "output_type": "stream",
     "text": [
      "2023-07-01 19:59:45.864787\n",
      "Time goes in the right direction\n"
     ]
    }
   ],
   "source": [
    "from datetime import datetime, timedelta\n",
    "\n",
    "now = datetime.now()\n",
    "yesterday = now - timedelta(days=1)\n",
    "print(yesterday)\n",
    "\n",
    "if now > yesterday:\n",
    "    print(\"Time goes in the right direction\")\n",
    "else:\n",
    "    print(\"Something's ***** up\")\n"
   ]
  },
  {
   "cell_type": "code",
   "execution_count": 291,
   "id": "f73cfe4f-78b2-4a90-85d3-53f6f903b84e",
   "metadata": {
    "tags": []
   },
   "outputs": [
    {
     "name": "stdout",
     "output_type": "stream",
     "text": [
      "[(1, 4, 7), (2, 5, 8), (3, 6, 9)]\n"
     ]
    }
   ],
   "source": [
    "matrix = [[1, 2, 3], [4, 5, 6], [7, 8, 9]]\n",
    "transposed = list(zip(*matrix))\n",
    "print(transposed)\n",
    "# Output: [(1, 4, 7), (2, 5, 8), (3, 6, 9)]"
   ]
  },
  {
   "cell_type": "code",
   "execution_count": 164,
   "id": "016900f9-b407-43c1-aeb5-c47373b65799",
   "metadata": {
    "tags": []
   },
   "outputs": [],
   "source": [
    "# TRY BY YOURSELF - WRITE CODE HERE\n"
   ]
  },
  {
   "cell_type": "markdown",
   "id": "e5c91bf9-97a5-4bab-9034-50887db70346",
   "metadata": {},
   "source": [
    "# Other useful patterns"
   ]
  },
  {
   "cell_type": "markdown",
   "id": "4f548bf2-e5a0-4ed1-ab03-8c6e10440300",
   "metadata": {},
   "source": [
    "## Sorting"
   ]
  },
  {
   "cell_type": "markdown",
   "id": "453c0222-9646-4c46-83af-5a35eb1d75e2",
   "metadata": {},
   "source": [
    "Sorting tuples with specific key"
   ]
  },
  {
   "cell_type": "code",
   "execution_count": 5,
   "id": "d44306d0-6e06-4f98-ad1c-7cd6b89f76fb",
   "metadata": {},
   "outputs": [
    {
     "name": "stdout",
     "output_type": "stream",
     "text": [
      "(3.14, 'Pi')\n",
      "(2.72, 'Euler')\n",
      "(1.62, 'Golden ratio')\n",
      "(0.58, 'Some value')\n"
     ]
    }
   ],
   "source": [
    "# Sample collection of tuples\n",
    "data = [\n",
    "    (3.14, 'Pi'),\n",
    "    (2.72, 'Euler'),\n",
    "    (1.62, 'Golden ratio'),\n",
    "    (0.58, 'Some value')\n",
    "]\n",
    "\n",
    "# Sort the collection by the float values in descending order\n",
    "sorted_data = sorted(data, key=lambda x: x[0], reverse=True)\n",
    "\n",
    "# Print the sorted data\n",
    "for item in sorted_data:\n",
    "    print(item)"
   ]
  }
 ],
 "metadata": {
  "kernelspec": {
   "display_name": "Python 3 (ipykernel)",
   "language": "python",
   "name": "python3"
  },
  "language_info": {
   "codemirror_mode": {
    "name": "ipython",
    "version": 3
   },
   "file_extension": ".py",
   "mimetype": "text/x-python",
   "name": "python",
   "nbconvert_exporter": "python",
   "pygments_lexer": "ipython3",
   "version": "3.10.11"
  }
 },
 "nbformat": 4,
 "nbformat_minor": 5
}
